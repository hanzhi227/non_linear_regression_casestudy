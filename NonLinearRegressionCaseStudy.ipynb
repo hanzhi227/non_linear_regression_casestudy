{
  "cells": [
    {
      "cell_type": "markdown",
      "source": "Dont drop nans, no linear regression, train & test 2 different files, \nget dummies & standard scalars, sklearn pipelines to do sequence of transformations\nrandom forests dont care bout nans, data is a mess",
      "metadata": {
        "tags": [],
        "cell_id": "00001-2b5deca2-a5fb-4d24-aa30-12556ca96126",
        "deepnote_cell_type": "markdown"
      }
    },
    {
      "cell_type": "markdown",
      "source": "Shit to do: \njust work on 10% of the data\nfigure out pipelines https://scikit-learn.org/stable/modules/generated/sklearn.pipeline.Pipeline.html\n",
      "metadata": {
        "tags": [],
        "cell_id": "00001-9b4a6154-434c-4b46-80b7-46b1d6eb52b8",
        "deepnote_cell_type": "markdown"
      }
    },
    {
      "cell_type": "code",
      "metadata": {
        "tags": [],
        "cell_id": "00002-731feb2e-cece-4309-9355-008da01250e0",
        "deepnote_to_be_reexecuted": false,
        "source_hash": "485a6334",
        "execution_millis": 2,
        "execution_start": 1615591284314,
        "deepnote_cell_type": "code"
      },
      "source": "from sklearn.tree import DecisionTreeRegressor\nfrom sklearn.ensemble import RandomForestRegressor, GradientBoostingRegressor\nfrom sklearn.model_selection import train_test_split, cross_val_score,GridSearchCV\nfrom sklearn.metrics import mean_squared_error, r2_score, mean_squared_log_error\nfrom sklearn.preprocessing import StandardScaler\nfrom sklearn.decomposition import PCA,KernelPCA\nfrom sklearn.pipeline import Pipeline, make_pipeline\nfrom sklearn.impute import SimpleImputer\nfrom sklearn.inspection import permutation_importance\nimport matplotlib.pyplot as plt\nimport seaborn as sns\nimport numpy as np\nimport pandas as pd\n",
      "execution_count": null,
      "outputs": []
    },
    {
      "cell_type": "code",
      "metadata": {
        "tags": [],
        "cell_id": "00002-8889d4ca-726a-4e70-ae5a-3ffb8b46ad0e",
        "deepnote_to_be_reexecuted": false,
        "source_hash": "8cb30d59",
        "execution_millis": 2452,
        "execution_start": 1615596906202,
        "deepnote_cell_type": "code"
      },
      "source": "# Instantiating DFs for both training and holdout data\n\nfarm_train = pd.read_csv('data/Train.zip')\n\nfarm_test = pd.read_csv('data/Holdout.zip')\n\n\n\n'''\nmaking two new columns for the log transformation \nof SalePrice for train and test\n'''\n\n\nfarm_train['SalePricelog'] = np.log(farm_train['SalePrice'])\nfarm_test['SalePricelog'] = np.log(farm_train['SalePrice'])",
      "execution_count": null,
      "outputs": [
        {
          "name": "stderr",
          "text": "/shared-libs/python3.7/py-core/lib/python3.7/site-packages/IPython/core/interactiveshell.py:3166: DtypeWarning: Columns (13,39,40,41) have mixed types.Specify dtype option on import or set low_memory=False.\n  interactivity=interactivity, compiler=compiler, result=result)\n",
          "output_type": "stream"
        }
      ]
    },
    {
      "cell_type": "code",
      "metadata": {
        "tags": [],
        "cell_id": "00005-04c9a1a8-fb30-4aee-94bb-e0b6911d5965",
        "deepnote_to_be_reexecuted": false,
        "source_hash": "b623e53d",
        "execution_start": 1615589423893,
        "execution_millis": 3,
        "deepnote_cell_type": "code"
      },
      "source": "",
      "execution_count": null,
      "outputs": []
    },
    {
      "cell_type": "code",
      "metadata": {
        "tags": [],
        "cell_id": "00003-91e607ff-85ea-4da0-970f-eb7004ee2ab1",
        "deepnote_to_be_reexecuted": false,
        "source_hash": "38fdbce9",
        "execution_millis": 33,
        "execution_start": 1615589423897,
        "deepnote_cell_type": "code"
      },
      "source": "# Checking to ensure transformation worked\n\nfarm_train[['SalePrice', 'SalePricelog']].head()",
      "execution_count": null,
      "outputs": [
        {
          "output_type": "execute_result",
          "execution_count": 3,
          "data": {
            "application/vnd.deepnote.dataframe.v2+json": {
              "row_count": 5,
              "column_count": 2,
              "columns": [
                {
                  "name": "SalePrice",
                  "dtype": "int64",
                  "stats": {
                    "unique_count": 5,
                    "nan_count": 0,
                    "min": 10000,
                    "max": 66000,
                    "histogram": [
                      {
                        "bin_start": 10000,
                        "bin_end": 15600,
                        "count": 2
                      },
                      {
                        "bin_start": 15600,
                        "bin_end": 21200,
                        "count": 0
                      },
                      {
                        "bin_start": 21200,
                        "bin_end": 26800,
                        "count": 0
                      },
                      {
                        "bin_start": 26800,
                        "bin_end": 32400,
                        "count": 0
                      },
                      {
                        "bin_start": 32400,
                        "bin_end": 38000,
                        "count": 0
                      },
                      {
                        "bin_start": 38000,
                        "bin_end": 43600,
                        "count": 1
                      },
                      {
                        "bin_start": 43600,
                        "bin_end": 49200,
                        "count": 0
                      },
                      {
                        "bin_start": 49200,
                        "bin_end": 54800,
                        "count": 0
                      },
                      {
                        "bin_start": 54800,
                        "bin_end": 60400,
                        "count": 1
                      },
                      {
                        "bin_start": 60400,
                        "bin_end": 66000,
                        "count": 1
                      }
                    ]
                  }
                },
                {
                  "name": "SalePricelog",
                  "dtype": "float64",
                  "stats": {
                    "unique_count": 5,
                    "nan_count": 0,
                    "min": 9.210340371976184,
                    "max": 11.097410021008562,
                    "histogram": [
                      {
                        "bin_start": 9.210340371976184,
                        "bin_end": 9.399047336879422,
                        "count": 2
                      },
                      {
                        "bin_start": 9.399047336879422,
                        "bin_end": 9.58775430178266,
                        "count": 0
                      },
                      {
                        "bin_start": 9.58775430178266,
                        "bin_end": 9.776461266685898,
                        "count": 0
                      },
                      {
                        "bin_start": 9.776461266685898,
                        "bin_end": 9.965168231589136,
                        "count": 0
                      },
                      {
                        "bin_start": 9.965168231589136,
                        "bin_end": 10.153875196492372,
                        "count": 0
                      },
                      {
                        "bin_start": 10.153875196492372,
                        "bin_end": 10.342582161395612,
                        "count": 0
                      },
                      {
                        "bin_start": 10.342582161395612,
                        "bin_end": 10.531289126298848,
                        "count": 0
                      },
                      {
                        "bin_start": 10.531289126298848,
                        "bin_end": 10.719996091202086,
                        "count": 1
                      },
                      {
                        "bin_start": 10.719996091202086,
                        "bin_end": 10.908703056105324,
                        "count": 0
                      },
                      {
                        "bin_start": 10.908703056105324,
                        "bin_end": 11.097410021008562,
                        "count": 2
                      }
                    ]
                  }
                },
                {
                  "name": "_deepnote_index_column",
                  "dtype": "int64"
                }
              ],
              "rows_top": [
                {
                  "SalePrice": 66000,
                  "SalePricelog": 11.097410021008562,
                  "_deepnote_index_column": 0
                },
                {
                  "SalePrice": 57000,
                  "SalePricelog": 10.950806546816688,
                  "_deepnote_index_column": 1
                },
                {
                  "SalePrice": 10000,
                  "SalePricelog": 9.210340371976184,
                  "_deepnote_index_column": 2
                },
                {
                  "SalePrice": 38500,
                  "SalePricelog": 10.558413520275876,
                  "_deepnote_index_column": 3
                },
                {
                  "SalePrice": 11000,
                  "SalePricelog": 9.305650551780507,
                  "_deepnote_index_column": 4
                }
              ],
              "rows_bottom": null
            },
            "text/plain": "   SalePrice  SalePricelog\n0      66000     11.097410\n1      57000     10.950807\n2      10000      9.210340\n3      38500     10.558414\n4      11000      9.305651",
            "text/html": "<div>\n<style scoped>\n    .dataframe tbody tr th:only-of-type {\n        vertical-align: middle;\n    }\n\n    .dataframe tbody tr th {\n        vertical-align: top;\n    }\n\n    .dataframe thead th {\n        text-align: right;\n    }\n</style>\n<table border=\"1\" class=\"dataframe\">\n  <thead>\n    <tr style=\"text-align: right;\">\n      <th></th>\n      <th>SalePrice</th>\n      <th>SalePricelog</th>\n    </tr>\n  </thead>\n  <tbody>\n    <tr>\n      <th>0</th>\n      <td>66000</td>\n      <td>11.097410</td>\n    </tr>\n    <tr>\n      <th>1</th>\n      <td>57000</td>\n      <td>10.950807</td>\n    </tr>\n    <tr>\n      <th>2</th>\n      <td>10000</td>\n      <td>9.210340</td>\n    </tr>\n    <tr>\n      <th>3</th>\n      <td>38500</td>\n      <td>10.558414</td>\n    </tr>\n    <tr>\n      <th>4</th>\n      <td>11000</td>\n      <td>9.305651</td>\n    </tr>\n  </tbody>\n</table>\n</div>"
          },
          "metadata": {}
        }
      ]
    },
    {
      "cell_type": "code",
      "metadata": {
        "tags": [],
        "cell_id": "00006-3f6b2396-2d1c-4369-a64f-be6b88a57bd7",
        "deepnote_to_be_reexecuted": false,
        "source_hash": "675af8ad",
        "execution_start": 1615589424110,
        "execution_millis": 3,
        "deepnote_cell_type": "code"
      },
      "source": "farm_train.drop(['SalePrice','SalesID'], axis = 1,inplace = True)",
      "execution_count": null,
      "outputs": []
    },
    {
      "cell_type": "code",
      "metadata": {
        "tags": [],
        "cell_id": "00005-0266132a-bbdc-475d-8de4-871ae21bd162",
        "deepnote_to_be_reexecuted": false,
        "source_hash": "4cc48873",
        "execution_millis": 6,
        "execution_start": 1615589424139,
        "deepnote_cell_type": "code"
      },
      "source": "farm_train['UsageBand'].value_counts()",
      "execution_count": null,
      "outputs": [
        {
          "output_type": "execute_result",
          "execution_count": 5,
          "data": {
            "text/plain": "Medium    33985\nLow       23620\nHigh      12034\nName: UsageBand, dtype: int64"
          },
          "metadata": {}
        }
      ]
    },
    {
      "cell_type": "code",
      "metadata": {
        "tags": [],
        "cell_id": "00006-a18b26c1-8826-4669-a809-370f29ee9306",
        "deepnote_to_be_reexecuted": false,
        "source_hash": "ca0b1e80",
        "execution_millis": 24,
        "execution_start": 1615589424173,
        "deepnote_cell_type": "code"
      },
      "source": "farm_train['fiSecondaryDesc'].value_counts()",
      "execution_count": null,
      "outputs": [
        {
          "output_type": "execute_result",
          "execution_count": 6,
          "data": {
            "text/plain": "C         43235\nB         39203\nG         36424\nH         24050\nE         21048\n          ...  \nBLGPPS        1\nMSR           1\nR-2           1\nDC            1\nSF            1\nName: fiSecondaryDesc, Length: 175, dtype: int64"
          },
          "metadata": {}
        }
      ]
    },
    {
      "cell_type": "markdown",
      "source": "Potentially usefull columns with missing values:\n\nauctioneerID, MachineHoursCurrentMeter, UsageBand, fiSecondaryDesc, fiModelSeries,\n\nProductSize, Drive_System, Enclosure, Forks, Pad_Type, Ride_Control, Stick,\n\nransmission, Turbocharged, Blade_ExtensionBlade Width",
      "metadata": {
        "tags": [],
        "cell_id": "00007-1ce3e77e-4014-4155-ad0d-2c65a5c466c6",
        "deepnote_cell_type": "markdown"
      }
    },
    {
      "cell_type": "code",
      "metadata": {
        "tags": [],
        "cell_id": "00008-1a1d80cd-cc12-4556-9bd2-c40f02877284",
        "deepnote_to_be_reexecuted": false,
        "source_hash": "21a3c1d7",
        "execution_millis": 0,
        "execution_start": 1615589424185,
        "deepnote_cell_type": "code"
      },
      "source": "#  Changing yes no and not specified to numeric values\n# def yes_no(x):\n#     if x == 'No':\n#         return -1\n#     elif x == 'Yes':\n#         return 1\n#     else:\n#         return 0\n\n\n# farm_train[['Forks', 'Ride_Control', 'Turbocharged', \n#             'Blade_Extension', 'Pattern_Changer', \n#             'Pushblock', 'Scarifier', 'Coupler_System', \n#             'Backhoe_Mounting', 'Grouser_Tracks', \n#             'Pattern_Changer']].apply(yes_no, axis=1)",
      "execution_count": null,
      "outputs": []
    },
    {
      "cell_type": "code",
      "metadata": {
        "tags": [],
        "cell_id": "00009-c864c3c0-ff1c-4f91-ae98-35e312a539bb",
        "deepnote_to_be_reexecuted": false,
        "source_hash": "b623e53d",
        "execution_start": 1615589424187,
        "execution_millis": 2,
        "deepnote_cell_type": "code"
      },
      "source": "",
      "execution_count": null,
      "outputs": []
    },
    {
      "cell_type": "code",
      "metadata": {
        "tags": [],
        "cell_id": "00005-8a46ed79-5f75-4c9d-aead-3fbbb0214006",
        "deepnote_to_be_reexecuted": false,
        "source_hash": "ef9d18a5",
        "execution_millis": 325,
        "execution_start": 1615589481719,
        "deepnote_cell_type": "code"
      },
      "source": "# Used to get visual of strange columns that are not easily grouped\ndf_coldropper = farm_train.iloc[:, 7:39]\ndf_coldropper = df_coldropper.drop(['Enclosure', 'ProductGroup', 'ProductGroupDesc', 'saledate', 'fiModelDesc', 'fiBaseModel', 'fiProductClassDesc', 'state', 'Hydraulics'], axis=1)\nfor col in df_coldropper.columns:\n    print(f\"{col} Unique Values: {df_coldropper[col].unique()}\" + \"\\n\")",
      "execution_count": null,
      "outputs": [
        {
          "name": "stdout",
          "text": "fiSecondaryDesc Unique Values: ['D' 'F' nan 'G' 'E' 'HAG' 'B' 'NX' 'SUPER K' 'STD' 'BL' 'Z' 'C' 'XT' 'A'\n 'H' 'MR' 'PT' 'L' 'M' 'J' 'SE' 'SXT' 'HD' 'LC' 'SUPER M' 'LX' 'SUPER L'\n 'LE' 'K' 'S' 'R' 'P' 'SG' 'US' 'UU' 'WX' 'PX' 'N' 'ZTM' 'SUPER E' 'XL'\n 'MXT' 'EX' '-2' 'LCM' 'GT' 'TM' 'HZ' 'AX' 'DXT' '3' 'SR' '7' 'ZTS'\n 'B     ' 'T' 'UR' '-3' 'V' 'ZT' '1' 'SUPER M PLUS' 'BZD' 'DZ' 'WD' 'LGP'\n 'SRLC' 'CH' 'CS' 'M      ' 'ZHS G' 'Q' 'MRX' 'FR' 'UNA' 'R-2' 'PS' 'AG'\n 'URG' 'NE' 'U' '2' 'SB' 'TX' 'TTL' 'JX' 'LT' 'MSR SPIN ACE' 'HF' 'HDSL'\n 'LCD' 'X' 'LS' 'EST' 'LR' 'TC' 'BLGP' 'USR' 'RC' 'SJ' 'ZF' 'SUPER LE'\n 'MT' 'SUPER R' 'C      ' 'BEC' 'DC' 'CE' 'AB' 'MU' 'USRK' 'W' '-7' 'SL'\n 'SU' '0.7' 'THF' 'ZX' 'NL' 'CX' 'SRDZ' 'H90' 'AW' 'SP' 'EL' 'PL' '#NAME?'\n 'ESS' 'CM' 'CL' 'EW' 'ZHS' 'CR' 'CKB' 'CK' 'DX' 'SX' 'HL' 'HDS' 'DT'\n 'LCH' '5' 'H      ' 'SUPER' 'IV' 'XP' 'LD' 'LC7A' 'SF' 'PG' 'SPIN ACE'\n 'HX' 'EG' 'HLGP' 'WT' 'XLT' 'MSR' 'BLGPPS' 'AA' 'BZ' 'TP' 'CLR' 'MC'\n 'HLS' 'DL' 'USBL' 'LCLR' 'LC7LR' 'NC' '-5' '-5L' 'PTC' '-6'\n ' MSR SPIN ACE' 'NLC']\n\nfiModelSeries Unique Values: [nan 'II' '-6E' 'LC' '-5' 'III' '-1' '5' '-2' '1' '#NAME?' '-3L' '-20' '3'\n '15' '-12' '6' '-6' 'V' '-3' '-3PT' '-21' '-7' '7' '-3MC' 'IV' '-21A'\n '-3LC' '-5L' '5N' '-5H' '-1L' '-8' '4' '2' '-18' '-15' '2T' '18' 'E'\n '-3C' '-6B' '7.00E+00' 'A' '-3LK' 'ZTS' '-2N' '12' 'V-2' 'XT' '-7E' '-2C'\n '-8E' '-6LC' '-3H' '16' 'IV-2' '-6K' '6F' '22' '3A' 'VHP' 'LGP' 'LT'\n '14FT' 'EX' '-6C' '3C' '-7K' '17' '1970' '-2LC' 'M' 'D' 'ZX' 'LV' '-5LC'\n '-5E' '6.00E+00' '-17' '-16' '-4' '8' '-7B' '-1C' '-11' 'L' '-6A' 'LL'\n -5.0 -2.0 -8.0 -3.0 -7.0 2.0 'G' 'WX' '-2A' '-5F' '-3M' 'D7' '7A' ' III'\n 'AWS' '2B' '20' '-5A' '-6LK' '-2E' 'VI' 'H' '-1B' '-3EO' 'TC' 'Elite'\n 'WT' 'XLT' 'SeriesII' '-1.50E+01' 'GALEO' '6L' '6LE' '6LK' '21KomStatII'\n '21KomStat' '7L' 'Q' 'ZHS' 'FASTRRACK']\n\nfiModelDescriptor Unique Values: [nan 'LC' '6' 'L' 'LT' 'CR' 'SB' 'XL' 'LGP' 'VHP' '7' 'Z' '2.00E+00' 'MC'\n 'H' 'E' '3' 'LK' '5' 'K' '8' 'HT' 'LX' 'XLT' 'XW' 'HSD' '2' 'XR' 'TC'\n 'LCR' 'TLB' 'WT' 'TURBO' 'U' '4WD' 'XT' 'LRC' 'ZTS' 'RTS' 'TP' 'LE' 'LRR'\n 'SA' '3C' 'SR' 'XP' '1' 'BE' '3NO' 'CRSB' 'N' 'SSR' 'DHP' 'LM' ' SUPER'\n 'KA' 'H5' 'II' 'MH' 'P' 'LU' 'DT' 'XTV' 'LR' 'ZX' 'LL' 'V' 'DELUXE'\n 'USLC' 'SU' 'SRDZ' 'C' 'PRO' 'PLUS' 'SITEMASTER' 'DINGO' '3.00E+00'\n ' XLT' 'LN' 'AE0' 'SERIES3' '7.00E+00' 'ESL' 'A' 'G' 'B' 'DLL' 'CK'\n 'NSUC' 'LS' 'SLGP' 'RR' 'WLT' 'LCRTS' 'X' 'LCH' 'T' 'NLC' 'SM' 'SE' 'TM'\n 'SRLC' 'CUSTOM' 'HD' 'DW' 'LC8' ' LGP' 'TK' 'HF' 'SUPER K' 'IV' ' XT'\n 'IT' 'XLVP' 'LGPVP' 'K5' '3L' '7A' 'XD' 'DA' 'Y' 'S' 'M' '6K' 'LITRONIC'\n 'KBNA' ' 14FT' '2N' 'III' 'ME' 'High Lift' 'HighLift' 'VHP/AWD' 'K3'\n '4x4x4' ' ZX' '(BLADE RUNNER)' 'AVANCE' 'GALEO' 'LongReach']\n\nProductSize Unique Values: [nan 'Medium' 'Small' 'Large / Medium' 'Mini' 'Large' 'Compact']\n\nDrive_System Unique Values: [nan 'Four Wheel Drive' 'Two Wheel Drive' 'No' 'All Wheel Drive']\n\nForks Unique Values: ['None or Unspecified' nan 'Yes']\n\nPad_Type Unique Values: [nan 'None or Unspecified' 'Reversible' 'Street' 'Grouser']\n\nRide_Control Unique Values: ['None or Unspecified' nan 'No' 'Yes']\n\nStick Unique Values: [nan 'Extended' 'Standard']\n\nTransmission Unique Values: [nan 'Powershuttle' 'Standard' 'Powershift' 'None or Unspecified'\n 'Hydrostatic' 'Autoshift' 'Direct Drive' 'AutoShift']\n\nTurbocharged Unique Values: [nan 'None or Unspecified' 'Yes']\n\nBlade_Extension Unique Values: [nan 'Yes' 'None or Unspecified']\n\nBlade_Width Unique Values: [nan 'None or Unspecified' \"12'\" \"14'\" \"13'\" \"16'\" \"<12'\"]\n\nEnclosure_Type Unique Values: [nan 'None or Unspecified' 'Low Profile' 'High Profile']\n\nEngine_Horsepower Unique Values: [nan 'No' 'Variable']\n\nPushblock Unique Values: [nan 'None or Unspecified' 'Yes']\n\nRipper Unique Values: [nan 'None or Unspecified' 'Yes' 'Single Shank' 'Multi Shank']\n\nScarifier Unique Values: [nan 'Yes' 'None or Unspecified']\n\nTip_Control Unique Values: [nan 'Sideshift & Tip' 'None or Unspecified' 'Tip']\n\nTire_Size Unique Values: ['None or Unspecified' '23.5' nan '13\"' '26.5' '29.5' '14\"' '20.5' '17.5\"'\n '15.5\"' '20.5\"' '17.5' '7.0\"' '15.5' '23.5\"' '10\"' '23.1\"' '10 inch']\n\nCoupler Unique Values: ['None or Unspecified' nan 'Manual' 'Hydraulic']\n\nCoupler_System Unique Values: [nan 'None or Unspecified' 'Yes']\n\nGrouser_Tracks Unique Values: [nan 'None or Unspecified' 'Yes']\n\n",
          "output_type": "stream"
        }
      ]
    },
    {
      "cell_type": "markdown",
      "source": "Extract numbers from these columns:\nTire_Size, Blade_Width ",
      "metadata": {
        "tags": [],
        "cell_id": "00013-da6fd684-c88f-4019-bb17-3b3da95d00c3",
        "deepnote_cell_type": "markdown"
      }
    },
    {
      "cell_type": "code",
      "metadata": {
        "tags": [],
        "cell_id": "00004-7db6768d-656b-4397-9cbc-e19687bbfa2c",
        "deepnote_to_be_reexecuted": false,
        "source_hash": "57b181b7",
        "execution_millis": 40,
        "execution_start": 1615589532620,
        "deepnote_cell_type": "code"
      },
      "source": "farm_train.head(1)",
      "execution_count": null,
      "outputs": [
        {
          "output_type": "execute_result",
          "execution_count": 11,
          "data": {
            "application/vnd.deepnote.dataframe.v2+json": {
              "row_count": 1,
              "column_count": 52,
              "columns": [
                {
                  "name": "MachineID",
                  "dtype": "int64",
                  "stats": {
                    "unique_count": 1,
                    "nan_count": 0,
                    "min": 999089,
                    "max": 999089,
                    "histogram": [
                      {
                        "bin_start": 999088.5,
                        "bin_end": 999088.6,
                        "count": 0
                      },
                      {
                        "bin_start": 999088.6,
                        "bin_end": 999088.7,
                        "count": 0
                      },
                      {
                        "bin_start": 999088.7,
                        "bin_end": 999088.8,
                        "count": 0
                      },
                      {
                        "bin_start": 999088.8,
                        "bin_end": 999088.9,
                        "count": 0
                      },
                      {
                        "bin_start": 999088.9,
                        "bin_end": 999089,
                        "count": 0
                      },
                      {
                        "bin_start": 999089,
                        "bin_end": 999089.1,
                        "count": 1
                      },
                      {
                        "bin_start": 999089.1,
                        "bin_end": 999089.2,
                        "count": 0
                      },
                      {
                        "bin_start": 999089.2,
                        "bin_end": 999089.3,
                        "count": 0
                      },
                      {
                        "bin_start": 999089.3,
                        "bin_end": 999089.4,
                        "count": 0
                      },
                      {
                        "bin_start": 999089.4,
                        "bin_end": 999089.5,
                        "count": 0
                      }
                    ]
                  }
                },
                {
                  "name": "ModelID",
                  "dtype": "int64",
                  "stats": {
                    "unique_count": 1,
                    "nan_count": 0,
                    "min": 3157,
                    "max": 3157,
                    "histogram": [
                      {
                        "bin_start": 3156.5,
                        "bin_end": 3156.6,
                        "count": 0
                      },
                      {
                        "bin_start": 3156.6,
                        "bin_end": 3156.7,
                        "count": 0
                      },
                      {
                        "bin_start": 3156.7,
                        "bin_end": 3156.8,
                        "count": 0
                      },
                      {
                        "bin_start": 3156.8,
                        "bin_end": 3156.9,
                        "count": 0
                      },
                      {
                        "bin_start": 3156.9,
                        "bin_end": 3157,
                        "count": 0
                      },
                      {
                        "bin_start": 3157,
                        "bin_end": 3157.1,
                        "count": 1
                      },
                      {
                        "bin_start": 3157.1,
                        "bin_end": 3157.2,
                        "count": 0
                      },
                      {
                        "bin_start": 3157.2,
                        "bin_end": 3157.3,
                        "count": 0
                      },
                      {
                        "bin_start": 3157.3,
                        "bin_end": 3157.4,
                        "count": 0
                      },
                      {
                        "bin_start": 3157.4,
                        "bin_end": 3157.5,
                        "count": 0
                      }
                    ]
                  }
                },
                {
                  "name": "datasource",
                  "dtype": "int64",
                  "stats": {
                    "unique_count": 1,
                    "nan_count": 0,
                    "min": 121,
                    "max": 121,
                    "histogram": [
                      {
                        "bin_start": 120.5,
                        "bin_end": 120.6,
                        "count": 0
                      },
                      {
                        "bin_start": 120.6,
                        "bin_end": 120.7,
                        "count": 0
                      },
                      {
                        "bin_start": 120.7,
                        "bin_end": 120.8,
                        "count": 0
                      },
                      {
                        "bin_start": 120.8,
                        "bin_end": 120.9,
                        "count": 0
                      },
                      {
                        "bin_start": 120.9,
                        "bin_end": 121,
                        "count": 0
                      },
                      {
                        "bin_start": 121,
                        "bin_end": 121.1,
                        "count": 1
                      },
                      {
                        "bin_start": 121.1,
                        "bin_end": 121.2,
                        "count": 0
                      },
                      {
                        "bin_start": 121.2,
                        "bin_end": 121.3,
                        "count": 0
                      },
                      {
                        "bin_start": 121.3,
                        "bin_end": 121.4,
                        "count": 0
                      },
                      {
                        "bin_start": 121.4,
                        "bin_end": 121.5,
                        "count": 0
                      }
                    ]
                  }
                },
                {
                  "name": "auctioneerID",
                  "dtype": "float64",
                  "stats": {
                    "unique_count": 1,
                    "nan_count": 0,
                    "min": 3,
                    "max": 3,
                    "histogram": [
                      {
                        "bin_start": 2.5,
                        "bin_end": 2.6,
                        "count": 0
                      },
                      {
                        "bin_start": 2.6,
                        "bin_end": 2.7,
                        "count": 0
                      },
                      {
                        "bin_start": 2.7,
                        "bin_end": 2.8,
                        "count": 0
                      },
                      {
                        "bin_start": 2.8,
                        "bin_end": 2.9,
                        "count": 0
                      },
                      {
                        "bin_start": 2.9,
                        "bin_end": 3,
                        "count": 0
                      },
                      {
                        "bin_start": 3,
                        "bin_end": 3.1,
                        "count": 1
                      },
                      {
                        "bin_start": 3.1,
                        "bin_end": 3.2,
                        "count": 0
                      },
                      {
                        "bin_start": 3.2,
                        "bin_end": 3.3,
                        "count": 0
                      },
                      {
                        "bin_start": 3.3,
                        "bin_end": 3.4,
                        "count": 0
                      },
                      {
                        "bin_start": 3.4,
                        "bin_end": 3.5,
                        "count": 0
                      }
                    ]
                  }
                },
                {
                  "name": "YearMade",
                  "dtype": "int64",
                  "stats": {
                    "unique_count": 1,
                    "nan_count": 0,
                    "min": 2004,
                    "max": 2004,
                    "histogram": [
                      {
                        "bin_start": 2003.5,
                        "bin_end": 2003.6,
                        "count": 0
                      },
                      {
                        "bin_start": 2003.6,
                        "bin_end": 2003.7,
                        "count": 0
                      },
                      {
                        "bin_start": 2003.7,
                        "bin_end": 2003.8,
                        "count": 0
                      },
                      {
                        "bin_start": 2003.8,
                        "bin_end": 2003.9,
                        "count": 0
                      },
                      {
                        "bin_start": 2003.9,
                        "bin_end": 2004,
                        "count": 0
                      },
                      {
                        "bin_start": 2004,
                        "bin_end": 2004.1,
                        "count": 1
                      },
                      {
                        "bin_start": 2004.1,
                        "bin_end": 2004.2,
                        "count": 0
                      },
                      {
                        "bin_start": 2004.2,
                        "bin_end": 2004.3,
                        "count": 0
                      },
                      {
                        "bin_start": 2004.3,
                        "bin_end": 2004.4,
                        "count": 0
                      },
                      {
                        "bin_start": 2004.4,
                        "bin_end": 2004.5,
                        "count": 0
                      }
                    ]
                  }
                },
                {
                  "name": "MachineHoursCurrentMeter",
                  "dtype": "float64",
                  "stats": {
                    "unique_count": 1,
                    "nan_count": 0,
                    "min": 68,
                    "max": 68,
                    "histogram": [
                      {
                        "bin_start": 67.5,
                        "bin_end": 67.6,
                        "count": 0
                      },
                      {
                        "bin_start": 67.6,
                        "bin_end": 67.7,
                        "count": 0
                      },
                      {
                        "bin_start": 67.7,
                        "bin_end": 67.8,
                        "count": 0
                      },
                      {
                        "bin_start": 67.8,
                        "bin_end": 67.9,
                        "count": 0
                      },
                      {
                        "bin_start": 67.9,
                        "bin_end": 68,
                        "count": 0
                      },
                      {
                        "bin_start": 68,
                        "bin_end": 68.1,
                        "count": 1
                      },
                      {
                        "bin_start": 68.1,
                        "bin_end": 68.2,
                        "count": 0
                      },
                      {
                        "bin_start": 68.2,
                        "bin_end": 68.3,
                        "count": 0
                      },
                      {
                        "bin_start": 68.3,
                        "bin_end": 68.4,
                        "count": 0
                      },
                      {
                        "bin_start": 68.4,
                        "bin_end": 68.5,
                        "count": 0
                      }
                    ]
                  }
                },
                {
                  "name": "UsageBand",
                  "dtype": "object",
                  "stats": {
                    "unique_count": 1,
                    "nan_count": 0,
                    "categories": [
                      {
                        "name": "Low",
                        "count": 1
                      }
                    ]
                  }
                },
                {
                  "name": "saledate",
                  "dtype": "object",
                  "stats": {
                    "unique_count": 1,
                    "nan_count": 0,
                    "categories": [
                      {
                        "name": "11/16/2006 0:00",
                        "count": 1
                      }
                    ]
                  }
                },
                {
                  "name": "fiModelDesc",
                  "dtype": "object",
                  "stats": {
                    "unique_count": 1,
                    "nan_count": 0,
                    "categories": [
                      {
                        "name": "521D",
                        "count": 1
                      }
                    ]
                  }
                },
                {
                  "name": "fiBaseModel",
                  "dtype": "object",
                  "stats": {
                    "unique_count": 1,
                    "nan_count": 0,
                    "categories": [
                      {
                        "name": "521",
                        "count": 1
                      }
                    ]
                  }
                },
                {
                  "name": "fiSecondaryDesc",
                  "dtype": "object",
                  "stats": {
                    "unique_count": 1,
                    "nan_count": 0,
                    "categories": [
                      {
                        "name": "D",
                        "count": 1
                      }
                    ]
                  }
                },
                {
                  "name": "fiModelSeries",
                  "dtype": "object",
                  "stats": {
                    "unique_count": 0,
                    "nan_count": 1,
                    "categories": [
                      {
                        "name": "Missing",
                        "count": 1
                      }
                    ]
                  }
                },
                {
                  "name": "fiModelDescriptor",
                  "dtype": "object",
                  "stats": {
                    "unique_count": 0,
                    "nan_count": 1,
                    "categories": [
                      {
                        "name": "Missing",
                        "count": 1
                      }
                    ]
                  }
                },
                {
                  "name": "ProductSize",
                  "dtype": "object",
                  "stats": {
                    "unique_count": 0,
                    "nan_count": 1,
                    "categories": [
                      {
                        "name": "Missing",
                        "count": 1
                      }
                    ]
                  }
                },
                {
                  "name": "fiProductClassDesc",
                  "dtype": "object",
                  "stats": {
                    "unique_count": 1,
                    "nan_count": 0,
                    "categories": [
                      {
                        "name": "Wheel Loader - 110.0 to 120.0 Horsepower",
                        "count": 1
                      }
                    ]
                  }
                },
                {
                  "name": "state",
                  "dtype": "object",
                  "stats": {
                    "unique_count": 1,
                    "nan_count": 0,
                    "categories": [
                      {
                        "name": "Alabama",
                        "count": 1
                      }
                    ]
                  }
                },
                {
                  "name": "ProductGroup",
                  "dtype": "object",
                  "stats": {
                    "unique_count": 1,
                    "nan_count": 0,
                    "categories": [
                      {
                        "name": "WL",
                        "count": 1
                      }
                    ]
                  }
                },
                {
                  "name": "ProductGroupDesc",
                  "dtype": "object",
                  "stats": {
                    "unique_count": 1,
                    "nan_count": 0,
                    "categories": [
                      {
                        "name": "Wheel Loader",
                        "count": 1
                      }
                    ]
                  }
                },
                {
                  "name": "Drive_System",
                  "dtype": "object",
                  "stats": {
                    "unique_count": 0,
                    "nan_count": 1,
                    "categories": [
                      {
                        "name": "Missing",
                        "count": 1
                      }
                    ]
                  }
                },
                {
                  "name": "Enclosure",
                  "dtype": "object",
                  "stats": {
                    "unique_count": 1,
                    "nan_count": 0,
                    "categories": [
                      {
                        "name": "EROPS w AC",
                        "count": 1
                      }
                    ]
                  }
                },
                {
                  "name": "Forks",
                  "dtype": "object",
                  "stats": {
                    "unique_count": 1,
                    "nan_count": 0,
                    "categories": [
                      {
                        "name": "None or Unspecified",
                        "count": 1
                      }
                    ]
                  }
                },
                {
                  "name": "Pad_Type",
                  "dtype": "object",
                  "stats": {
                    "unique_count": 0,
                    "nan_count": 1,
                    "categories": [
                      {
                        "name": "Missing",
                        "count": 1
                      }
                    ]
                  }
                },
                {
                  "name": "Ride_Control",
                  "dtype": "object",
                  "stats": {
                    "unique_count": 1,
                    "nan_count": 0,
                    "categories": [
                      {
                        "name": "None or Unspecified",
                        "count": 1
                      }
                    ]
                  }
                },
                {
                  "name": "Stick",
                  "dtype": "object",
                  "stats": {
                    "unique_count": 0,
                    "nan_count": 1,
                    "categories": [
                      {
                        "name": "Missing",
                        "count": 1
                      }
                    ]
                  }
                },
                {
                  "name": "Transmission",
                  "dtype": "object",
                  "stats": {
                    "unique_count": 0,
                    "nan_count": 1,
                    "categories": [
                      {
                        "name": "Missing",
                        "count": 1
                      }
                    ]
                  }
                },
                {
                  "name": "Turbocharged",
                  "dtype": "object",
                  "stats": {
                    "unique_count": 0,
                    "nan_count": 1,
                    "categories": [
                      {
                        "name": "Missing",
                        "count": 1
                      }
                    ]
                  }
                },
                {
                  "name": "Blade_Extension",
                  "dtype": "object",
                  "stats": {
                    "unique_count": 0,
                    "nan_count": 1,
                    "categories": [
                      {
                        "name": "Missing",
                        "count": 1
                      }
                    ]
                  }
                },
                {
                  "name": "Blade_Width",
                  "dtype": "object",
                  "stats": {
                    "unique_count": 0,
                    "nan_count": 1,
                    "categories": [
                      {
                        "name": "Missing",
                        "count": 1
                      }
                    ]
                  }
                },
                {
                  "name": "Enclosure_Type",
                  "dtype": "object",
                  "stats": {
                    "unique_count": 0,
                    "nan_count": 1,
                    "categories": [
                      {
                        "name": "Missing",
                        "count": 1
                      }
                    ]
                  }
                },
                {
                  "name": "Engine_Horsepower",
                  "dtype": "object",
                  "stats": {
                    "unique_count": 0,
                    "nan_count": 1,
                    "categories": [
                      {
                        "name": "Missing",
                        "count": 1
                      }
                    ]
                  }
                },
                {
                  "name": "Hydraulics",
                  "dtype": "object",
                  "stats": {
                    "unique_count": 1,
                    "nan_count": 0,
                    "categories": [
                      {
                        "name": "2 Valve",
                        "count": 1
                      }
                    ]
                  }
                },
                {
                  "name": "Pushblock",
                  "dtype": "object",
                  "stats": {
                    "unique_count": 0,
                    "nan_count": 1,
                    "categories": [
                      {
                        "name": "Missing",
                        "count": 1
                      }
                    ]
                  }
                },
                {
                  "name": "Ripper",
                  "dtype": "object",
                  "stats": {
                    "unique_count": 0,
                    "nan_count": 1,
                    "categories": [
                      {
                        "name": "Missing",
                        "count": 1
                      }
                    ]
                  }
                },
                {
                  "name": "Scarifier",
                  "dtype": "object",
                  "stats": {
                    "unique_count": 0,
                    "nan_count": 1,
                    "categories": [
                      {
                        "name": "Missing",
                        "count": 1
                      }
                    ]
                  }
                },
                {
                  "name": "Tip_Control",
                  "dtype": "object",
                  "stats": {
                    "unique_count": 0,
                    "nan_count": 1,
                    "categories": [
                      {
                        "name": "Missing",
                        "count": 1
                      }
                    ]
                  }
                },
                {
                  "name": "Tire_Size",
                  "dtype": "object",
                  "stats": {
                    "unique_count": 1,
                    "nan_count": 0,
                    "categories": [
                      {
                        "name": "None or Unspecified",
                        "count": 1
                      }
                    ]
                  }
                },
                {
                  "name": "Coupler",
                  "dtype": "object",
                  "stats": {
                    "unique_count": 1,
                    "nan_count": 0,
                    "categories": [
                      {
                        "name": "None or Unspecified",
                        "count": 1
                      }
                    ]
                  }
                },
                {
                  "name": "Coupler_System",
                  "dtype": "object",
                  "stats": {
                    "unique_count": 0,
                    "nan_count": 1,
                    "categories": [
                      {
                        "name": "Missing",
                        "count": 1
                      }
                    ]
                  }
                },
                {
                  "name": "Grouser_Tracks",
                  "dtype": "object",
                  "stats": {
                    "unique_count": 0,
                    "nan_count": 1,
                    "categories": [
                      {
                        "name": "Missing",
                        "count": 1
                      }
                    ]
                  }
                },
                {
                  "name": "Hydraulics_Flow",
                  "dtype": "object",
                  "stats": {
                    "unique_count": 0,
                    "nan_count": 1,
                    "categories": [
                      {
                        "name": "Missing",
                        "count": 1
                      }
                    ]
                  }
                },
                {
                  "name": "Track_Type",
                  "dtype": "object",
                  "stats": {
                    "unique_count": 0,
                    "nan_count": 1,
                    "categories": [
                      {
                        "name": "Missing",
                        "count": 1
                      }
                    ]
                  }
                },
                {
                  "name": "Undercarriage_Pad_Width",
                  "dtype": "object",
                  "stats": {
                    "unique_count": 0,
                    "nan_count": 1,
                    "categories": [
                      {
                        "name": "Missing",
                        "count": 1
                      }
                    ]
                  }
                },
                {
                  "name": "Stick_Length",
                  "dtype": "object",
                  "stats": {
                    "unique_count": 0,
                    "nan_count": 1,
                    "categories": [
                      {
                        "name": "Missing",
                        "count": 1
                      }
                    ]
                  }
                },
                {
                  "name": "Thumb",
                  "dtype": "object",
                  "stats": {
                    "unique_count": 0,
                    "nan_count": 1,
                    "categories": [
                      {
                        "name": "Missing",
                        "count": 1
                      }
                    ]
                  }
                },
                {
                  "name": "Pattern_Changer",
                  "dtype": "object",
                  "stats": {
                    "unique_count": 0,
                    "nan_count": 1,
                    "categories": [
                      {
                        "name": "Missing",
                        "count": 1
                      }
                    ]
                  }
                },
                {
                  "name": "Grouser_Type",
                  "dtype": "object",
                  "stats": {
                    "unique_count": 0,
                    "nan_count": 1,
                    "categories": [
                      {
                        "name": "Missing",
                        "count": 1
                      }
                    ]
                  }
                },
                {
                  "name": "Backhoe_Mounting",
                  "dtype": "object",
                  "stats": {
                    "unique_count": 0,
                    "nan_count": 1,
                    "categories": [
                      {
                        "name": "Missing",
                        "count": 1
                      }
                    ]
                  }
                },
                {
                  "name": "Blade_Type",
                  "dtype": "object",
                  "stats": {
                    "unique_count": 0,
                    "nan_count": 1,
                    "categories": [
                      {
                        "name": "Missing",
                        "count": 1
                      }
                    ]
                  }
                },
                {
                  "name": "Travel_Controls",
                  "dtype": "object",
                  "stats": {
                    "unique_count": 0,
                    "nan_count": 1,
                    "categories": [
                      {
                        "name": "Missing",
                        "count": 1
                      }
                    ]
                  }
                },
                {
                  "name": "Differential_Type",
                  "dtype": "object",
                  "stats": {
                    "unique_count": 1,
                    "nan_count": 0,
                    "categories": [
                      {
                        "name": "Standard",
                        "count": 1
                      }
                    ]
                  }
                },
                {
                  "name": "Steering_Controls",
                  "dtype": "object",
                  "stats": {
                    "unique_count": 1,
                    "nan_count": 0,
                    "categories": [
                      {
                        "name": "Conventional",
                        "count": 1
                      }
                    ]
                  }
                },
                {
                  "name": "SalePricelog",
                  "dtype": "float64",
                  "stats": {
                    "unique_count": 1,
                    "nan_count": 0,
                    "min": 11.097410021008562,
                    "max": 11.097410021008562,
                    "histogram": [
                      {
                        "bin_start": 10.597410021008562,
                        "bin_end": 10.697410021008562,
                        "count": 0
                      },
                      {
                        "bin_start": 10.697410021008562,
                        "bin_end": 10.797410021008561,
                        "count": 0
                      },
                      {
                        "bin_start": 10.797410021008561,
                        "bin_end": 10.897410021008563,
                        "count": 0
                      },
                      {
                        "bin_start": 10.897410021008563,
                        "bin_end": 10.997410021008562,
                        "count": 0
                      },
                      {
                        "bin_start": 10.997410021008562,
                        "bin_end": 11.097410021008562,
                        "count": 0
                      },
                      {
                        "bin_start": 11.097410021008562,
                        "bin_end": 11.197410021008562,
                        "count": 1
                      },
                      {
                        "bin_start": 11.197410021008562,
                        "bin_end": 11.297410021008561,
                        "count": 0
                      },
                      {
                        "bin_start": 11.297410021008561,
                        "bin_end": 11.397410021008563,
                        "count": 0
                      },
                      {
                        "bin_start": 11.397410021008563,
                        "bin_end": 11.497410021008562,
                        "count": 0
                      },
                      {
                        "bin_start": 11.497410021008562,
                        "bin_end": 11.597410021008562,
                        "count": 0
                      }
                    ]
                  }
                },
                {
                  "name": "_deepnote_index_column",
                  "dtype": "int64"
                }
              ],
              "rows_top": [
                {
                  "MachineID": 999089,
                  "ModelID": 3157,
                  "datasource": 121,
                  "auctioneerID": 3,
                  "YearMade": 2004,
                  "MachineHoursCurrentMeter": 68,
                  "UsageBand": "Low",
                  "saledate": "11/16/2006 0:00",
                  "fiModelDesc": "521D",
                  "fiBaseModel": "521",
                  "fiSecondaryDesc": "D",
                  "fiModelSeries": "nan",
                  "fiModelDescriptor": "nan",
                  "ProductSize": "nan",
                  "fiProductClassDesc": "Wheel Loader - 110.0 to 120.0 Horsepower",
                  "state": "Alabama",
                  "ProductGroup": "WL",
                  "ProductGroupDesc": "Wheel Loader",
                  "Drive_System": "nan",
                  "Enclosure": "EROPS w AC",
                  "Forks": "None or Unspecified",
                  "Pad_Type": "nan",
                  "Ride_Control": "None or Unspecified",
                  "Stick": "nan",
                  "Transmission": "nan",
                  "Turbocharged": "nan",
                  "Blade_Extension": "nan",
                  "Blade_Width": "nan",
                  "Enclosure_Type": "nan",
                  "Engine_Horsepower": "nan",
                  "Hydraulics": "2 Valve",
                  "Pushblock": "nan",
                  "Ripper": "nan",
                  "Scarifier": "nan",
                  "Tip_Control": "nan",
                  "Tire_Size": "None or Unspecified",
                  "Coupler": "None or Unspecified",
                  "Coupler_System": "nan",
                  "Grouser_Tracks": "nan",
                  "Hydraulics_Flow": "nan",
                  "Track_Type": "nan",
                  "Undercarriage_Pad_Width": "nan",
                  "Stick_Length": "nan",
                  "Thumb": "nan",
                  "Pattern_Changer": "nan",
                  "Grouser_Type": "nan",
                  "Backhoe_Mounting": "nan",
                  "Blade_Type": "nan",
                  "Travel_Controls": "nan",
                  "Differential_Type": "Standard",
                  "Steering_Controls": "Conventional",
                  "SalePricelog": 11.097410021008562,
                  "_deepnote_index_column": 0
                }
              ],
              "rows_bottom": null
            },
            "text/plain": "   MachineID  ModelID  datasource  auctioneerID  YearMade  \\\n0     999089     3157         121           3.0      2004   \n\n   MachineHoursCurrentMeter UsageBand         saledate fiModelDesc  \\\n0                      68.0       Low  11/16/2006 0:00        521D   \n\n  fiBaseModel  ... Stick_Length Thumb Pattern_Changer Grouser_Type  \\\n0         521  ...          NaN   NaN             NaN          NaN   \n\n  Backhoe_Mounting Blade_Type Travel_Controls Differential_Type  \\\n0              NaN        NaN             NaN          Standard   \n\n  Steering_Controls SalePricelog  \n0      Conventional     11.09741  \n\n[1 rows x 52 columns]",
            "text/html": "<div>\n<style scoped>\n    .dataframe tbody tr th:only-of-type {\n        vertical-align: middle;\n    }\n\n    .dataframe tbody tr th {\n        vertical-align: top;\n    }\n\n    .dataframe thead th {\n        text-align: right;\n    }\n</style>\n<table border=\"1\" class=\"dataframe\">\n  <thead>\n    <tr style=\"text-align: right;\">\n      <th></th>\n      <th>MachineID</th>\n      <th>ModelID</th>\n      <th>datasource</th>\n      <th>auctioneerID</th>\n      <th>YearMade</th>\n      <th>MachineHoursCurrentMeter</th>\n      <th>UsageBand</th>\n      <th>saledate</th>\n      <th>fiModelDesc</th>\n      <th>fiBaseModel</th>\n      <th>...</th>\n      <th>Stick_Length</th>\n      <th>Thumb</th>\n      <th>Pattern_Changer</th>\n      <th>Grouser_Type</th>\n      <th>Backhoe_Mounting</th>\n      <th>Blade_Type</th>\n      <th>Travel_Controls</th>\n      <th>Differential_Type</th>\n      <th>Steering_Controls</th>\n      <th>SalePricelog</th>\n    </tr>\n  </thead>\n  <tbody>\n    <tr>\n      <th>0</th>\n      <td>999089</td>\n      <td>3157</td>\n      <td>121</td>\n      <td>3.0</td>\n      <td>2004</td>\n      <td>68.0</td>\n      <td>Low</td>\n      <td>11/16/2006 0:00</td>\n      <td>521D</td>\n      <td>521</td>\n      <td>...</td>\n      <td>NaN</td>\n      <td>NaN</td>\n      <td>NaN</td>\n      <td>NaN</td>\n      <td>NaN</td>\n      <td>NaN</td>\n      <td>NaN</td>\n      <td>Standard</td>\n      <td>Conventional</td>\n      <td>11.09741</td>\n    </tr>\n  </tbody>\n</table>\n<p>1 rows × 52 columns</p>\n</div>"
          },
          "metadata": {}
        }
      ]
    },
    {
      "cell_type": "code",
      "metadata": {
        "tags": [],
        "cell_id": "00007-4022c3cf-a581-4b00-a29e-5ab82351e170",
        "deepnote_to_be_reexecuted": false,
        "source_hash": "b623e53d",
        "execution_millis": 2,
        "execution_start": 1615589533128,
        "deepnote_cell_type": "code"
      },
      "source": "",
      "execution_count": null,
      "outputs": []
    },
    {
      "cell_type": "code",
      "metadata": {
        "tags": [],
        "cell_id": "00013-79c059e8-0f76-48d3-9c8d-95179fecb375",
        "deepnote_to_be_reexecuted": false,
        "source_hash": "b623e53d",
        "execution_millis": 1,
        "execution_start": 1615589533395,
        "deepnote_cell_type": "code"
      },
      "source": "",
      "execution_count": null,
      "outputs": []
    },
    {
      "cell_type": "code",
      "metadata": {
        "tags": [],
        "cell_id": "00008-ab75696e-d73e-4587-b0f1-2fac8c995ee3",
        "deepnote_to_be_reexecuted": false,
        "source_hash": "da5573e7",
        "execution_millis": 3141,
        "execution_start": 1615589533766,
        "deepnote_cell_type": "code"
      },
      "source": "#selecting only cols with 1 data type and not equal to object\ncols_with_1_dtype = []\nfor col in farm_train.columns:\n    if (farm_train[col].apply(type).value_counts().shape[0]==1) and farm_train[col].dtype != object:\n        cols_with_1_dtype.append(col)",
      "execution_count": null,
      "outputs": []
    },
    {
      "cell_type": "code",
      "metadata": {
        "tags": [],
        "cell_id": "00015-7788caa4-a772-40e2-95d7-be2d90123330",
        "deepnote_to_be_reexecuted": false,
        "source_hash": "a3df646d",
        "execution_millis": 8,
        "execution_start": 1615589536925,
        "deepnote_cell_type": "code"
      },
      "source": "cols_with_1_dtype\n",
      "execution_count": null,
      "outputs": [
        {
          "output_type": "execute_result",
          "execution_count": 13,
          "data": {
            "text/plain": "['MachineID',\n 'ModelID',\n 'datasource',\n 'auctioneerID',\n 'YearMade',\n 'MachineHoursCurrentMeter',\n 'SalePricelog']"
          },
          "metadata": {}
        }
      ]
    },
    {
      "cell_type": "code",
      "metadata": {
        "tags": [],
        "cell_id": "00015-d9d3c710-c2ff-4229-a1a4-91acf4c1a19a",
        "deepnote_to_be_reexecuted": false,
        "source_hash": "aa7bc0ef",
        "execution_millis": 0,
        "execution_start": 1615589536926,
        "deepnote_cell_type": "code"
      },
      "source": "farm_train_quarter_janky = farm_train.head(5000)[cols_with_1_dtype].copy()",
      "execution_count": null,
      "outputs": []
    },
    {
      "cell_type": "code",
      "metadata": {
        "tags": [],
        "cell_id": "00009-150e32fd-8ce3-4ceb-b397-06acd96f65bd",
        "deepnote_to_be_reexecuted": false,
        "source_hash": "1d8a05e7",
        "execution_millis": 1,
        "execution_start": 1615589536926,
        "deepnote_cell_type": "code"
      },
      "source": "X_train, X_test, y_train, y_test = train_test_split(farm_train_quarter_janky.drop(['SalePricelog'],axis = 1).values, farm_train_quarter_janky['SalePricelog'].values)",
      "execution_count": null,
      "outputs": []
    },
    {
      "cell_type": "code",
      "metadata": {
        "tags": [],
        "cell_id": "00018-7b5e308f-0050-431b-8bec-df7b7e7e30f3",
        "deepnote_to_be_reexecuted": false,
        "source_hash": "aeb24ee7",
        "execution_millis": 0,
        "execution_start": 1615589536967,
        "deepnote_cell_type": "code"
      },
      "source": "def calc_cv(estimator, Xn, Xt, yn, yt):\n    MSE = cross_val_score(estimator,Xn,yn,scoring = 'neg_mean_squared_error').mean()\n    R2 = cross_val_score(estimator,Xn,yn,scoring = 'r2').mean()\n    ACC = cross_val_score(estimator,Xn,yn,scoring= 'accuracy')\n    print(f'{estimator}\\n Train CV | ACC: {ACC} | MSE: {-MSE} | R2: {R2}')",
      "execution_count": null,
      "outputs": []
    },
    {
      "cell_type": "code",
      "metadata": {
        "tags": [],
        "cell_id": "00019-cc3f13aa-6957-466e-9f72-5f990c728052",
        "deepnote_to_be_reexecuted": false,
        "source_hash": "ec825df",
        "execution_millis": 0,
        "execution_start": 1615589539347,
        "deepnote_cell_type": "code"
      },
      "source": "# def print_scores(est,X,y):\n#     for meth in ['accuracy','neg_mean_squared_error', 'neg_mean_squared_log_error', 'R2' ]:\n#         print(f\"{meth}: {est.score(X, y, scoring =)}\")\n",
      "execution_count": null,
      "outputs": []
    },
    {
      "cell_type": "code",
      "metadata": {
        "tags": [],
        "cell_id": "00010-c317832d-fbb9-47df-afb5-2a7cb583f5b1",
        "deepnote_to_be_reexecuted": false,
        "source_hash": "e3aa8d0f",
        "execution_millis": 945,
        "execution_start": 1615592607747,
        "deepnote_cell_type": "code"
      },
      "source": "rf = RandomForestRegressor()\nrf.fit(X_train, y_train)\npred = rf.predict(X_test)\nprint(f'RMSE of Random Forest = {mean_squared_error(pred,y_test)**.5}')\n#print(f\"R^2 = {rf.score(X_test, y_test)}\")  \n# calc_cv(rf,X_train, X_test, y_train, y_test) ",
      "execution_count": null,
      "outputs": [
        {
          "name": "stdout",
          "text": "RMSE of Random Forest = 0.41083558437272394\n",
          "output_type": "stream"
        }
      ]
    },
    {
      "cell_type": "code",
      "metadata": {
        "tags": [],
        "cell_id": "00024-ad393a6e-098d-4217-8929-700fc13fcd59",
        "deepnote_to_be_reexecuted": false,
        "source_hash": "43e82541",
        "execution_millis": 384,
        "execution_start": 1615592874717,
        "deepnote_cell_type": "code"
      },
      "source": "gb = GradientBoostingRegressor(alpha=0.9, criterion='friedman_mse', init=None,\n             learning_rate=0.1, loss='ls', max_depth=3, max_features=None,\n             max_leaf_nodes=None, min_impurity_decrease=0.0,\n             min_impurity_split=None, min_samples_leaf=1,\n             subsample=1.0, tol=0.0001,\n             validation_fraction=0.1, verbose=0, warm_start=False)\ngb.fit(X_train, y_train)\npred = gb.predict(X_test)\nprint(f'RMSE of Gradient Boosting = {mean_squared_error(pred,y_test)**.5}')\n#print(f\"R^2 = {gb.score(X_test, y_test)}\")  \n# calc_cv(gb,X_train, X_test, y_train, y_test) ",
      "execution_count": null,
      "outputs": [
        {
          "name": "stdout",
          "text": "RMSE of Gradient Boosting = 0.44023668247484227\n",
          "output_type": "stream"
        }
      ]
    },
    {
      "cell_type": "code",
      "metadata": {
        "tags": [],
        "cell_id": "00009-ca21901a-85f0-411b-9eec-c38ad75b3e60",
        "deepnote_to_be_reexecuted": false,
        "source_hash": "2a3c6648",
        "execution_millis": 0,
        "execution_start": 1615589540705,
        "deepnote_cell_type": "code"
      },
      "source": "# forest_pipline = Pipeline([('Scale', StandardScaler()), ('model', RandomForestRegressor(random_state=0)])\n\n# gradient_boosted_pipeline = Pipeline([('Scale', StandardScaler()), ('model', GradientBoostingRegressor(random_state=0))])\n\n# grid = ('grid search', gridsearchCV())\n\n\n\n\n\n\n",
      "execution_count": null,
      "outputs": []
    },
    {
      "cell_type": "code",
      "metadata": {
        "tags": [],
        "cell_id": "00022-373d3ee1-db56-4acb-a838-d53db36fe80a",
        "deepnote_to_be_reexecuted": false,
        "source_hash": "a49cb07",
        "execution_millis": 1,
        "execution_start": 1615592316810,
        "deepnote_cell_type": "code"
      },
      "source": "from sklearn.ensemble import RandomForestClassifier\nfrom sklearn.metrics import confusion_matrix\nfrom sklearn.linear_model import LogisticRegression\nfrom sklearn.neighbors import KNeighborsRegressor\nfrom sklearn.tree import DecisionTreeClassifier",
      "execution_count": null,
      "outputs": []
    },
    {
      "cell_type": "code",
      "metadata": {
        "tags": [],
        "cell_id": "00023-20cf56cc-e4d5-4489-839f-f8fa702567a9",
        "deepnote_to_be_reexecuted": false,
        "source_hash": "b623e53d",
        "execution_millis": 1,
        "execution_start": 1615589543154,
        "deepnote_cell_type": "code"
      },
      "source": "",
      "execution_count": null,
      "outputs": []
    },
    {
      "cell_type": "code",
      "metadata": {
        "tags": [],
        "cell_id": "00010-aec41824-bc0c-425a-8f63-489bb8b562e3",
        "deepnote_to_be_reexecuted": false,
        "source_hash": "ef1b3cfa",
        "execution_millis": 1,
        "execution_start": 1615589543160,
        "deepnote_cell_type": "code"
      },
      "source": "# Defining various parameters for the GridSearchCV\n\n\n# Random Forest\ngrid_forest_params = [{'n_estimators': [50, 100, 200],   # 400, 800, 1000\n                       'criterion':['mse'],\n                       'max_depth':[None, 1],\n                       'min_samples_split':[4,5,6],\n                       'min_samples_leaf':[1,2,3,4]}]\n\n\n\n# Gradient Boosted Regressor\nboosted_params = [{'learning_rate':[0.1, 0.01, 0.001], 'n_estimators':[50, 100, 200], # 400, 800, 1000\n                   'subsample':[1, 0.2, 0.1], 'criterion':['friedman_mse', 'mse'], \n                   'max_depth': [2, 3]}]",
      "execution_count": null,
      "outputs": []
    },
    {
      "cell_type": "code",
      "metadata": {
        "tags": [],
        "cell_id": "00014-8046838c-f51f-44d8-98da-b656cd36ad57",
        "deepnote_to_be_reexecuted": false,
        "source_hash": "be9250f4",
        "execution_millis": 0,
        "execution_start": 1615589544951,
        "deepnote_cell_type": "code"
      },
      "source": "'''\n\nDEFINED GRID SEARCH FOR MODELS\nONCE DATA HAS BEEN CLEANED AND VALIDATED\n\n'''\n\n\n# random forest grid search\n\ngrid_search_rf = GridSearchCV(estimator=RandomForestRegressor(random_state=0, n_jobs=-1), \n                              param_grid=grid_forest_params, scoring=['neg_mean_squared_error', 'r2'],\n                              cv=5, refit=False)\n\n\n# gradient boosted grid search\n\ngrid_search_boosted = GridSearchCV(estimator=GradientBoostingRegressor(random_state=0),\n                                   param_grid=boosted_params, scoring=['neg_mean_squared_error', 'r2'],\n                                   cv=5, refit=False)",
      "execution_count": null,
      "outputs": []
    },
    {
      "cell_type": "code",
      "metadata": {
        "tags": [],
        "cell_id": "00030-cc45ff12-788a-4faa-bf4e-d974bd0def86",
        "deepnote_to_be_reexecuted": false,
        "source_hash": "c95c2179",
        "execution_millis": 1,
        "execution_start": 1615589553228,
        "deepnote_cell_type": "code"
      },
      "source": "# fiting models as an initial test\n\n# grid_search_rf.fit(X_train, y_train)\n",
      "execution_count": null,
      "outputs": []
    },
    {
      "cell_type": "markdown",
      "source": "GridSearchCV(cv=5, error_score='raise-deprecating',\n       estimator=GradientBoostingRegressor(alpha=0.9, criterion='friedman_mse', init=None,\n             learning_rate=0.1, loss='ls', max_depth=3, max_features=None,\n             max_leaf_nodes=None, min_impurity_decrease=0.0,\n             min_impurity_split=None, min_samples_leaf=1,\n             min_sampl...ate=0, subsample=1.0, tol=0.0001,\n             validation_fraction=0.1, verbose=0, warm_start=False),\n       fit_params=None, iid='warn', n_jobs=None,\n       param_grid=[{'learning_rate': [0.1, 0.01, 0.001], 'n_estimators': [50, 100, 200, 400, 800, 1000], 'subsample': [1, 0.2, 0.1], 'criterion': ['friedman_mse', 'mse'], 'max_depth': [2, 3]}],\n       pre_dispatch='2*n_jobs', refit=False, return_train_score='warn',\n       scoring=['neg_mean_squared_error', 'r2'], verbose=0)",
      "metadata": {
        "tags": [],
        "cell_id": "00030-99ca57d3-0f5a-4b9f-b162-b31c6dcc57d7",
        "deepnote_cell_type": "markdown"
      }
    },
    {
      "cell_type": "code",
      "metadata": {
        "tags": [],
        "cell_id": "00027-f7b778ab-639f-4b06-91f0-a1e4d9817057",
        "deepnote_to_be_reexecuted": false,
        "source_hash": "a5c546ab",
        "execution_millis": 2,
        "execution_start": 1615589593406,
        "deepnote_cell_type": "code"
      },
      "source": "#grid_search_boosted.fit(X_train, y_train)",
      "execution_count": null,
      "outputs": []
    },
    {
      "cell_type": "code",
      "metadata": {
        "tags": [],
        "cell_id": "00032-40f8b9cc-313a-48ba-b1ab-2f50b7b9cc1b",
        "deepnote_to_be_reexecuted": false,
        "source_hash": "bafd5518",
        "execution_millis": 3162,
        "execution_start": 1615591669794,
        "deepnote_cell_type": "code"
      },
      "source": "#df.A.str.extract('(\\d+)')\nfrom sklearn.pipeline import Pipeline\nhanz_Xn, hanz_Xt, hanz_yn, hanz_yt = train_test_split(farm_train.drop(['SalePricelog'],axis = 1), farm_train['SalePricelog'].values)\nclass replaceStr:\n\n    def __init__(self):\n        pass\n    \n    def fit(self, X, y = None):\n        if isinstance(X, tuple):\n            X, y = X\n        return self\n    \n    def transform(self, X, y = None):\n        if isinstance(X, tuple):\n            X, y = X\n        # X.replace('None or Unspecified', np.NaN, inplace = True)\n        X.fillna(method = 'ffill',axis = 0,inplace = True)\n        X.fillna(method = 'bfill',axis = 0,inplace = True)\n        \n        # X.replace('Yes', 1, inplace = True)\n        # X.replace('No', -1, inplace = True)\n        # for i in X.columns:\n        #     if X[i].dtype == object:\n                \n        #         X.fillna(0,inplace = True)\n        return X, y\n\n    def fit_transform(self, X, y = None):\n        return self.fit(X,y).transform(X,y)\n\n    def __repr__(self):\n        return f'Fill some NaNs or something... idk'\n\npipeline = Pipeline([('replaceStr', replaceStr())])\nhanz_Xt, hanz_yt = pipeline.fit_transform(hanz_Xt, hanz_yt)\nhanz_Xn, hanz_yn = pipeline.fit_transform(hanz_Xn, hanz_yn)\nfor i in hanz_X.columns:\n    if hanz_Xn[i].dtype == object:\n        print(i, hanz_Xn[i].unique())",
      "execution_count": null,
      "outputs": [
        {
          "name": "stdout",
          "text": "UsageBand ['Low' 'High' 'Medium']\nsaledate ['12/13/1994 0:00' '4/25/2009 0:00' '8/25/1999 0:00' ... '5/27/2011 0:00'\n '2/28/2011 0:00' '1/22/2000 0:00']\nfiModelDesc ['780D' '410E' 'D8H' ... 'KX161' 'GE142' 'PC160']\nfiBaseModel ['780' '410' 'D8' ... '3725' 'WA360' 'GE142']\nfiSecondaryDesc ['D' 'E' 'H' 'UR' 'P' 'G' 'L' 'C' 'F' 'K' 'B' 'N' 'SUPER K' 'R' 'BL' 'XT'\n 'ZTS' 'EX' 'SE' 'M' 'LE' 'AG' 'J' 'PX' 'LC' 'Z' 'MXT' 'SUPER M' 'SUPER L'\n 'A' 'Q' 'SG' '7' 'W' 'SR' 'MR' 'SUPER M PLUS' 'NX' 'UU' 'US' 'WX' 'TM'\n 'LX' 'URG' 'AX' 'SRLC' 'JX' 'SP' 'U' 'ZX' 'USR' 'HD' 'S' 'SL' 'CH' 'T'\n 'C      ' 'DX' 'PT' '3' 'XL' 'DZ' '1' 'WD' 'PL' 'SUPER E' 'SX' 'ZHS' 'TX'\n 'B     ' 'SJ' '-2' 'SU' 'AB' 'UNA' 'ZF' 'SXT' 'LT' 'GT' 'AA' 'LCM'\n 'SUPER LE' 'DXT' 'NL' 'HAG' 'MRX' 'CX' 'HZ' 'ZHS G' 'HF' '0.7' 'SB' 'LR'\n 'SUPER' 'FR' 'MU' 'AW' '#NAME?' 'LGP' 'THF' 'DT' 'LCH' 'HX' '-3' 'LS'\n 'PS' 'TC' 'XP' 'BZD' 'PTC' 'BEC' ' MSR SPIN ACE' 'ZT' 'CR' 'LD' 'EST'\n 'XLT' 'DL' 'MT' 'V' 'LC7A' 'X' 'HDSL' 'CS' 'NLC' 'SRDZ' 'MSR' 'WT' 'HL'\n '-5' 'IV' 'MSR SPIN ACE' 'USRK' 'HDS' 'STD' 'SPIN ACE' 'SF' '-7' 'TP'\n '-5L' 'LCD' 'EL' 'CL' 'CK' 'CM' 'BZ' 'EG' 'CLR' 'BLGP' 'LCLR' 'ZTM' 'HLS'\n 'NE' 'LC7LR' '5' 'RC' 'H90' 'CE' 'M      ' 'R-2' 'ESS' 'TTL' 'EW' 'MC'\n 'NC' 'SUPER R']\nfiModelSeries ['LC' '-6' 'II' 'III' '-1L' '-3' '3' '-5' '-17' '-2' '-1' 'XT' -2.0 '-3LC'\n '-5LC' '16' '-7' -3.0 'V' '-5L' '18' '6' '-3MC' 'M' '7.00E+00' '5' '-21'\n '7' '-12' '-20' 'IV' '15' '#NAME?' '-8' '-6LC' '17' '2' '-6E' '-7E' '-2N'\n '-3L' '8' '-2C' '1' '-3EO' '-7K' '-6A' '-15' 'ZTS' '-7B' '-16' '12' '-3H'\n '-18' 'IV-2' 'E' '-3LK' '5N' 'LT' '-2E' '-5E' '3C' 'LL' '4' '2T' '-11'\n '-6K' 'L' '-1.50E+01' '-3PT' '6L' 2.0 'VHP' '-4' '6.00E+00' '22' '-5F'\n 'V-2' '-8E' 'A' 'D' '6LE' '-6B' '-1B' '-6C' '-5H' '-21A' 'D7' 'LV'\n '21KomStat' '20' 'G' '7A' 'GALEO' '-2LC' 'AWS' '-1C' 'XLT' 'FASTRRACK'\n 'VI' 'TC' '-2A' '7L' 'WX' -8.0 '-6LK' '6LK' '21KomStatII' '2B' ' III' 'Q'\n '14FT' '-5A' '-3M' '6F' 'ZX' '1970' '-3C' '3A' 'ZHS' 'H' 'SeriesII' 'LGP']\nfiModelDescriptor ['3' 'LGP' '5' 'DHP' '6' 'L' 'LT' 'LC' 'XL' 'N' 'LL' 'U' 'ZTS' '8' 'II'\n '7' 'SR' 'XT' 'CR' 'A' 'Z' '1' 'K' '2' 'H' 'SSR' 'ZX' 'KA' 'MH' 'XLT'\n 'PLUS' 'SB' 'LRC' 'SU' 'C' '(BLADE RUNNER)' 'LCR' 'XW' 'SA' 'LCRTS' 'LM'\n 'TC' 'LRR' 'VHP' 'SRDZ' '3.00E+00' 'TP' 'CK' 'ESL' '3NO' '2.00E+00' '4WD'\n 'WT' 'E' 'G' 'XR' ' XT' 'LK' 'LU' 'MC' 'LE' 'LS' 'TLB' '3C' 'HT' ' LGP'\n 'P' 'SRLC' 'IV' 'H5' 'NSUC' 'XP' 'BE' 'RTS' 'LX' 'SITEMASTER' ' 14FT' 'Y'\n 'SM' 'SLGP' 'IT' 'AVANCE' 'HSD' 'LGPVP' 'SE' 'WLT' 'LR' '7.00E+00' 'LN'\n 'NLC' ' ZX' 'SERIES3' 'M' 'X' 'DA' 'LITRONIC' 'DW' 'HF' 'CRSB' 'LC8' 'V'\n 'III' 'LCH' 'TM' ' SUPER' 'GALEO' 'CUSTOM' 'KBNA' '7A' 'RR' 'LongReach'\n 'XTV' 'DINGO' '2N' 'AE0' '3L' 'S' 'HD' 'K5' 'SUPER K' 'B' 'USLC' 'TK'\n 'TURBO' 'VHP/AWD' 'XLVP' 'ME' ' XLT' '6K' 'DLL' 'HighLift' 'PRO'\n 'High Lift' 'K3' 'XD']\nProductSize ['Large' 'Large / Medium' 'Mini' 'Medium' 'Small' 'Compact']\nfiProductClassDesc ['Backhoe Loader - 16.0 + Ft Standard Digging Depth'\n 'Backhoe Loader - 15.0 to 16.0 Ft Standard Digging Depth'\n 'Track Type Tractor, Dozer - 260.0 + Horsepower'\n 'Hydraulic Excavator, Track - 40.0 to 50.0 Metric Tons'\n 'Skid Steer Loader - 1751.0 to 2201.0 Lb Operating Capacity'\n 'Wheel Loader - 120.0 to 135.0 Horsepower'\n 'Hydraulic Excavator, Track - 6.0 to 8.0 Metric Tons'\n 'Track Type Tractor, Dozer - 85.0 to 105.0 Horsepower'\n 'Track Type Tractor, Dozer - 130.0 to 160.0 Horsepower'\n 'Track Type Tractor, Dozer - 20.0 to 75.0 Horsepower'\n 'Backhoe Loader - 14.0 to 15.0 Ft Standard Digging Depth'\n 'Wheel Loader - 150.0 to 175.0 Horsepower'\n 'Motorgrader - 130.0 to 145.0 Horsepower'\n 'Wheel Loader - 135.0 to 150.0 Horsepower'\n 'Skid Steer Loader - 1351.0 to 1601.0 Lb Operating Capacity'\n 'Backhoe Loader - 0.0 to 14.0 Ft Standard Digging Depth'\n 'Track Type Tractor, Dozer - 190.0 to 260.0 Horsepower'\n 'Wheel Loader - 350.0 to 500.0 Horsepower'\n 'Motorgrader - 200.0 + Horsepower'\n 'Hydraulic Excavator, Track - 12.0 to 14.0 Metric Tons'\n 'Track Type Tractor, Dozer - 160.0 to 190.0 Horsepower'\n 'Track Type Tractor, Dozer - 75.0 to 85.0 Horsepower'\n 'Hydraulic Excavator, Track - 3.0 to 4.0 Metric Tons'\n 'Skid Steer Loader - 1601.0 to 1751.0 Lb Operating Capacity'\n 'Wheel Loader - 175.0 to 200.0 Horsepower'\n 'Hydraulic Excavator, Track - 19.0 to 21.0 Metric Tons'\n 'Motorgrader - 170.0 to 200.0 Horsepower'\n 'Wheel Loader - 275.0 to 350.0 Horsepower'\n 'Hydraulic Excavator, Track - 28.0 to 33.0 Metric Tons'\n 'Hydraulic Excavator, Track - 33.0 to 40.0 Metric Tons'\n 'Hydraulic Excavator, Track - 8.0 to 11.0 Metric Tons'\n 'Hydraulic Excavator, Track - 21.0 to 24.0 Metric Tons'\n 'Backhoe Loader - Unidentified'\n 'Hydraulic Excavator, Track - 16.0 to 19.0 Metric Tons'\n 'Motorgrader - 145.0 to 170.0 Horsepower'\n 'Hydraulic Excavator, Track - 2.0 to 3.0 Metric Tons'\n 'Skid Steer Loader - Unidentified'\n 'Wheel Loader - 90.0 to 100.0 Horsepower'\n 'Skid Steer Loader - 0.0 to 701.0 Lb Operating Capacity'\n 'Hydraulic Excavator, Track - 24.0 to 28.0 Metric Tons'\n 'Hydraulic Excavator, Track - 14.0 to 16.0 Metric Tons'\n 'Skid Steer Loader - 1251.0 to 1351.0 Lb Operating Capacity'\n 'Wheel Loader - 100.0 to 110.0 Horsepower'\n 'Skid Steer Loader - 2201.0 to 2701.0 Lb Operating Capacity'\n 'Hydraulic Excavator, Track - 11.0 to 12.0 Metric Tons'\n 'Hydraulic Excavator, Track - 5.0 to 6.0 Metric Tons'\n 'Wheel Loader - 60.0 to 80.0 Horsepower'\n 'Hydraulic Excavator, Track - 4.0 to 5.0 Metric Tons'\n 'Motorgrader - 45.0 to 130.0 Horsepower'\n 'Hydraulic Excavator, Track - 0.0 to 2.0 Metric Tons'\n 'Track Type Tractor, Dozer - 105.0 to 130.0 Horsepower'\n 'Wheel Loader - 250.0 to 275.0 Horsepower'\n 'Wheel Loader - 225.0 to 250.0 Horsepower'\n 'Skid Steer Loader - 2701.0+ Lb Operating Capacity'\n 'Wheel Loader - 110.0 to 120.0 Horsepower'\n 'Wheel Loader - 200.0 to 225.0 Horsepower'\n 'Track Type Tractor, Dozer - Unidentified'\n 'Hydraulic Excavator, Track - Unidentified'\n 'Skid Steer Loader - 976.0 to 1251.0 Lb Operating Capacity'\n 'Wheel Loader - 80.0 to 90.0 Horsepower'\n 'Hydraulic Excavator, Track - 50.0 to 66.0 Metric Tons'\n 'Wheel Loader - 40.0 to 60.0 Horsepower'\n 'Skid Steer Loader - 701.0 to 976.0 Lb Operating Capacity'\n 'Wheel Loader - 500.0 to 1000.0 Horsepower'\n 'Hydraulic Excavator, Track - 90.0 to 150.0 Metric Tons'\n 'Wheel Loader - 0.0 to 40.0 Horsepower' 'Wheel Loader - Unidentified'\n 'Hydraulic Excavator, Track - 66.0 to 90.0 Metric Tons'\n 'Hydraulic Excavator, Track - 4.0 to 6.0 Metric Tons'\n 'Hydraulic Excavator, Track - Unidentified (Compact Construction)'\n 'Hydraulic Excavator, Track - 150.0 to 300.0 Metric Tons'\n 'Wheel Loader - 1000.0 + Horsepower' 'Motorgrader - Unidentified'\n 'Hydraulic Excavator, Track - 300.0 + Metric Tons']\nstate ['Arizona' 'Ohio' 'Missouri' 'Maryland' 'Florida' 'Georgia' 'Alabama'\n 'Kansas' 'Mississippi' 'North Carolina' 'Texas' 'South Carolina'\n 'New Jersey' 'Utah' 'Tennessee' 'Wyoming' 'Washington' 'Pennsylvania'\n 'Unspecified' 'California' 'Kentucky' 'Montana' 'South Dakota'\n 'Minnesota' 'New Hampshire' 'Vermont' 'Connecticut' 'Nevada' 'Oregon'\n 'New Mexico' 'Illinois' 'Virginia' 'Colorado' 'Indiana' 'Maine'\n 'Delaware' 'New York' 'Louisiana' 'Wisconsin' 'Arkansas' 'Iowa'\n 'Oklahoma' 'Idaho' 'West Virginia' 'Michigan' 'Alaska' 'North Dakota'\n 'Nebraska' 'Massachusetts' 'Hawaii' 'Rhode Island' 'Puerto Rico'\n 'Washington DC']\nProductGroup ['BL' 'TTT' 'TEX' 'SSL' 'WL' 'MG']\nProductGroupDesc ['Backhoe Loaders' 'Track Type Tractors' 'Track Excavators'\n 'Skid Steer Loaders' 'Wheel Loader' 'Motor Graders']\nDrive_System ['Four Wheel Drive' 'Two Wheel Drive' 'No' 'All Wheel Drive']\nEnclosure ['EROPS' 'OROPS' 'EROPS w AC' 'EROPS AC' 'None or Unspecified' 'NO ROPS']\nForks ['None or Unspecified' 'Yes']\nPad_Type ['None or Unspecified' 'Reversible' 'Street' 'Grouser']\nRide_Control ['No' 'None or Unspecified' 'Yes']\nStick ['Standard' 'Extended']\nTransmission ['Standard' 'None or Unspecified' 'Powershift' 'Powershuttle'\n 'Hydrostatic' 'Direct Drive' 'Autoshift' 'AutoShift']\nTurbocharged ['None or Unspecified' 'Yes']\nBlade_Extension ['None or Unspecified' 'Yes']\nBlade_Width [\"14'\" 'None or Unspecified' \"12'\" \"<12'\" \"16'\" \"13'\"]\nEnclosure_Type ['Low Profile' 'None or Unspecified' 'High Profile']\nEngine_Horsepower ['No' 'Variable']\nHydraulics ['2 Valve' 'Auxiliary' '3 Valve' 'Base + 1 Function' 'Standard' '4 Valve'\n 'Base + 5 Function' 'Base + 3 Function' 'Base + 6 Function'\n 'Base + 2 Function' 'Base + 4 Function' 'None or Unspecified']\nPushblock ['None or Unspecified' 'Yes']\nRipper ['None or Unspecified' 'Single Shank' 'Yes' 'Multi Shank']\nScarifier ['Yes' 'None or Unspecified']\nTip_Control ['Sideshift & Tip' 'None or Unspecified' 'Tip']\nTire_Size ['20.5' 'None or Unspecified' '15.5\"' '29.5' '23.5' '14\"' '7.0\"' '20.5\"'\n '26.5' '17.5\"' '17.5' '13\"' '15.5' '23.5\"' '23.1\"' '10\"' '10 inch']\nCoupler ['None or Unspecified' 'Manual' 'Hydraulic']\nCoupler_System ['None or Unspecified' 'Yes']\nGrouser_Tracks ['None or Unspecified' 'Yes']\nHydraulics_Flow ['Standard' 'High Flow' 'None or Unspecified']\nTrack_Type ['Steel' 'Rubber']\nUndercarriage_Pad_Width ['None or Unspecified' '18 inch' '32 inch' '30 inch' '20 inch' '16 inch'\n '24 inch' '28 inch' '15 inch' '27 inch' '36 inch' '26 inch' '33 inch'\n '34 inch' '31 inch' '22 inch' '14 inch' '31.5 inch' '25 inch']\nStick_Length ['11\\' 0\"' 'None or Unspecified' '10\\' 6\"' '9\\' 6\"' '9\\' 8\"' '9\\' 10\"'\n '8\\' 6\"' '12\\' 10\"' '11\\' 10\"' '9\\' 7\"' '10\\' 10\"' '8\\' 2\"' '9\\' 5\"'\n '15\\' 9\"' '10\\' 2\"' '12\\' 4\"' '8\\' 4\"' '12\\' 8\"' '14\\' 1\"' '24\\' 3\"'\n '8\\' 10\"' '6\\' 3\"' '19\\' 8\"' '13\\' 7\"' '7\\' 10\"' '13\\' 9\"' '15\\' 4\"'\n '13\\' 10\"' '9\\' 2\"']\nThumb ['None or Unspecified' 'Hydraulic' 'Manual']\nPattern_Changer ['None or Unspecified' 'Yes' 'No']\nGrouser_Type ['Double' 'Triple']\nBackhoe_Mounting ['None or Unspecified' 'Yes']\nBlade_Type ['None or Unspecified' 'PAT' 'Angle' 'Semi U' 'Straight' 'VPAT' 'U' 'No'\n 'Coal' 'Landfill']\nTravel_Controls ['None or Unspecified' '2 Pedal' 'Differential Steer' 'Lever' 'Finger Tip'\n 'Pedal' '1 Speed']\nDifferential_Type ['Standard' 'Limited Slip' 'No Spin' 'Locking']\nSteering_Controls ['Conventional' 'Command Control' 'Four Wheel Standard' 'Wheel' 'No']\n",
          "output_type": "stream"
        }
      ]
    },
    {
      "cell_type": "code",
      "metadata": {
        "tags": [],
        "cell_id": "00033-17aa6247-1823-4bf6-9255-0c101fe8dd60",
        "deepnote_to_be_reexecuted": false,
        "source_hash": "e5b00edf",
        "execution_millis": 21,
        "execution_start": 1615593531446,
        "deepnote_cell_type": "code"
      },
      "source": "from sklearn.linear_model import LinearRegression\nlr = LinearRegression(normalize = True)\nlr.fit(X_train, y_train)\nmean_squared_error(lr.predict(X_test), y_test)**.5\n# print(f\"accuracy = {lr.score(X_test, y_test)}\")  \n",
      "execution_count": null,
      "outputs": [
        {
          "output_type": "execute_result",
          "execution_count": 150,
          "data": {
            "text/plain": "0.645387829126022"
          },
          "metadata": {}
        }
      ]
    },
    {
      "cell_type": "code",
      "metadata": {
        "tags": [],
        "cell_id": "00035-1a00bc43-039e-448d-8db6-38814a319abe",
        "deepnote_cell_type": "code"
      },
      "source": "cols_with_1_dtype.remove('SalePricelog')",
      "execution_count": null,
      "outputs": []
    },
    {
      "cell_type": "code",
      "metadata": {
        "tags": [],
        "cell_id": "00035-fb296922-7ea4-41c2-bf07-b36cfa9b540a",
        "deepnote_to_be_reexecuted": false,
        "source_hash": "45948adf",
        "execution_millis": 7,
        "execution_start": 1615596844188,
        "deepnote_cell_type": "code"
      },
      "source": "cols_with_1_dtype",
      "execution_count": null,
      "outputs": [
        {
          "output_type": "execute_result",
          "execution_count": 171,
          "data": {
            "text/plain": "['MachineID',\n 'ModelID',\n 'datasource',\n 'auctioneerID',\n 'YearMade',\n 'MachineHoursCurrentMeter']"
          },
          "metadata": {}
        }
      ]
    },
    {
      "cell_type": "code",
      "metadata": {
        "tags": [],
        "cell_id": "00037-0c288c8f-01c3-479b-865e-2f193030186f",
        "deepnote_to_be_reexecuted": false,
        "source_hash": "4534b0af",
        "execution_millis": 0,
        "execution_start": 1615596922100,
        "deepnote_cell_type": "code"
      },
      "source": "X_train, y_train, X_test, y_test = farm_train[cols_with_1_dtype].values, farm_train['SalePricelog'].values, farm_test[cols_with_1_dtype].values, farm_test['SalePricelog'].values",
      "execution_count": null,
      "outputs": []
    },
    {
      "cell_type": "code",
      "metadata": {
        "tags": [],
        "cell_id": "00034-e8c0ea7b-61fb-4b62-aa12-519b69f79fbf",
        "deepnote_to_be_reexecuted": false,
        "source_hash": "6fa6bb26",
        "execution_millis": 42,
        "execution_start": 1615596923968,
        "deepnote_cell_type": "code"
      },
      "source": "gbr = GradientBoostingRegressor(alpha=0.9, n_estimators=500, criterion='friedman_mse', init=None, \n                                learning_rate=0.1, loss='ls', max_depth=3, \n                                max_features=None, max_leaf_nodes=None, \n                                min_impurity_decrease=0.0, min_impurity_split=None, \n                                min_samples_leaf=1, subsample=1.0, \n                                tol=0.0001, validation_fraction=0.1, verbose=0, \n                                warm_start=False)\n\ngbr.fit(X_train, y_train)\n\nr2_score(gbr.predict(X_test), y_test)\nmean_squared_error(gbr.predict(X_test), y_test) **.5\n",
      "execution_count": null,
      "outputs": [
        {
          "output_type": "error",
          "ename": "ValueError",
          "evalue": "Input contains NaN, infinity or a value too large for dtype('float32').",
          "traceback": [
            "\u001b[0;31m---------------------------------------------------------------------------\u001b[0m",
            "\u001b[0;31mValueError\u001b[0m                                Traceback (most recent call last)",
            "\u001b[0;32m<ipython-input-174-d80db90f40f8>\u001b[0m in \u001b[0;36m<module>\u001b[0;34m\u001b[0m\n\u001b[1;32m      7\u001b[0m                                 warm_start=False)\n\u001b[1;32m      8\u001b[0m \u001b[0;34m\u001b[0m\u001b[0m\n\u001b[0;32m----> 9\u001b[0;31m \u001b[0mgbr\u001b[0m\u001b[0;34m.\u001b[0m\u001b[0mfit\u001b[0m\u001b[0;34m(\u001b[0m\u001b[0mX_train\u001b[0m\u001b[0;34m,\u001b[0m \u001b[0my_train\u001b[0m\u001b[0;34m)\u001b[0m\u001b[0;34m\u001b[0m\u001b[0;34m\u001b[0m\u001b[0m\n\u001b[0m\u001b[1;32m     10\u001b[0m \u001b[0;34m\u001b[0m\u001b[0m\n\u001b[1;32m     11\u001b[0m \u001b[0mr2_score\u001b[0m\u001b[0;34m(\u001b[0m\u001b[0mgbr\u001b[0m\u001b[0;34m.\u001b[0m\u001b[0mpredict\u001b[0m\u001b[0;34m(\u001b[0m\u001b[0mX_test\u001b[0m\u001b[0;34m)\u001b[0m\u001b[0;34m,\u001b[0m \u001b[0my_test\u001b[0m\u001b[0;34m)\u001b[0m\u001b[0;34m\u001b[0m\u001b[0;34m\u001b[0m\u001b[0m\n",
            "\u001b[0;32m/shared-libs/python3.7/py/lib/python3.7/site-packages/sklearn/ensemble/_gb.py\u001b[0m in \u001b[0;36mfit\u001b[0;34m(self, X, y, sample_weight, monitor)\u001b[0m\n\u001b[1;32m    411\u001b[0m \u001b[0;34m\u001b[0m\u001b[0m\n\u001b[1;32m    412\u001b[0m         X, y = self._validate_data(X, y, accept_sparse=['csr', 'csc', 'coo'],\n\u001b[0;32m--> 413\u001b[0;31m                                    dtype=DTYPE, multi_output=True)\n\u001b[0m\u001b[1;32m    414\u001b[0m         \u001b[0mn_samples\u001b[0m\u001b[0;34m,\u001b[0m \u001b[0mself\u001b[0m\u001b[0;34m.\u001b[0m\u001b[0mn_features_\u001b[0m \u001b[0;34m=\u001b[0m \u001b[0mX\u001b[0m\u001b[0;34m.\u001b[0m\u001b[0mshape\u001b[0m\u001b[0;34m\u001b[0m\u001b[0;34m\u001b[0m\u001b[0m\n\u001b[1;32m    415\u001b[0m \u001b[0;34m\u001b[0m\u001b[0m\n",
            "\u001b[0;32m/shared-libs/python3.7/py/lib/python3.7/site-packages/sklearn/base.py\u001b[0m in \u001b[0;36m_validate_data\u001b[0;34m(self, X, y, reset, validate_separately, **check_params)\u001b[0m\n\u001b[1;32m    431\u001b[0m                 \u001b[0my\u001b[0m \u001b[0;34m=\u001b[0m \u001b[0mcheck_array\u001b[0m\u001b[0;34m(\u001b[0m\u001b[0my\u001b[0m\u001b[0;34m,\u001b[0m \u001b[0;34m**\u001b[0m\u001b[0mcheck_y_params\u001b[0m\u001b[0;34m)\u001b[0m\u001b[0;34m\u001b[0m\u001b[0;34m\u001b[0m\u001b[0m\n\u001b[1;32m    432\u001b[0m             \u001b[0;32melse\u001b[0m\u001b[0;34m:\u001b[0m\u001b[0;34m\u001b[0m\u001b[0;34m\u001b[0m\u001b[0m\n\u001b[0;32m--> 433\u001b[0;31m                 \u001b[0mX\u001b[0m\u001b[0;34m,\u001b[0m \u001b[0my\u001b[0m \u001b[0;34m=\u001b[0m \u001b[0mcheck_X_y\u001b[0m\u001b[0;34m(\u001b[0m\u001b[0mX\u001b[0m\u001b[0;34m,\u001b[0m \u001b[0my\u001b[0m\u001b[0;34m,\u001b[0m \u001b[0;34m**\u001b[0m\u001b[0mcheck_params\u001b[0m\u001b[0;34m)\u001b[0m\u001b[0;34m\u001b[0m\u001b[0;34m\u001b[0m\u001b[0m\n\u001b[0m\u001b[1;32m    434\u001b[0m             \u001b[0mout\u001b[0m \u001b[0;34m=\u001b[0m \u001b[0mX\u001b[0m\u001b[0;34m,\u001b[0m \u001b[0my\u001b[0m\u001b[0;34m\u001b[0m\u001b[0;34m\u001b[0m\u001b[0m\n\u001b[1;32m    435\u001b[0m \u001b[0;34m\u001b[0m\u001b[0m\n",
            "\u001b[0;32m/shared-libs/python3.7/py/lib/python3.7/site-packages/sklearn/utils/validation.py\u001b[0m in \u001b[0;36minner_f\u001b[0;34m(*args, **kwargs)\u001b[0m\n\u001b[1;32m     61\u001b[0m             \u001b[0mextra_args\u001b[0m \u001b[0;34m=\u001b[0m \u001b[0mlen\u001b[0m\u001b[0;34m(\u001b[0m\u001b[0margs\u001b[0m\u001b[0;34m)\u001b[0m \u001b[0;34m-\u001b[0m \u001b[0mlen\u001b[0m\u001b[0;34m(\u001b[0m\u001b[0mall_args\u001b[0m\u001b[0;34m)\u001b[0m\u001b[0;34m\u001b[0m\u001b[0;34m\u001b[0m\u001b[0m\n\u001b[1;32m     62\u001b[0m             \u001b[0;32mif\u001b[0m \u001b[0mextra_args\u001b[0m \u001b[0;34m<=\u001b[0m \u001b[0;36m0\u001b[0m\u001b[0;34m:\u001b[0m\u001b[0;34m\u001b[0m\u001b[0;34m\u001b[0m\u001b[0m\n\u001b[0;32m---> 63\u001b[0;31m                 \u001b[0;32mreturn\u001b[0m \u001b[0mf\u001b[0m\u001b[0;34m(\u001b[0m\u001b[0;34m*\u001b[0m\u001b[0margs\u001b[0m\u001b[0;34m,\u001b[0m \u001b[0;34m**\u001b[0m\u001b[0mkwargs\u001b[0m\u001b[0;34m)\u001b[0m\u001b[0;34m\u001b[0m\u001b[0;34m\u001b[0m\u001b[0m\n\u001b[0m\u001b[1;32m     64\u001b[0m \u001b[0;34m\u001b[0m\u001b[0m\n\u001b[1;32m     65\u001b[0m             \u001b[0;31m# extra_args > 0\u001b[0m\u001b[0;34m\u001b[0m\u001b[0;34m\u001b[0m\u001b[0;34m\u001b[0m\u001b[0m\n",
            "\u001b[0;32m/shared-libs/python3.7/py/lib/python3.7/site-packages/sklearn/utils/validation.py\u001b[0m in \u001b[0;36mcheck_X_y\u001b[0;34m(X, y, accept_sparse, accept_large_sparse, dtype, order, copy, force_all_finite, ensure_2d, allow_nd, multi_output, ensure_min_samples, ensure_min_features, y_numeric, estimator)\u001b[0m\n\u001b[1;32m    819\u001b[0m                     \u001b[0mensure_min_samples\u001b[0m\u001b[0;34m=\u001b[0m\u001b[0mensure_min_samples\u001b[0m\u001b[0;34m,\u001b[0m\u001b[0;34m\u001b[0m\u001b[0;34m\u001b[0m\u001b[0m\n\u001b[1;32m    820\u001b[0m                     \u001b[0mensure_min_features\u001b[0m\u001b[0;34m=\u001b[0m\u001b[0mensure_min_features\u001b[0m\u001b[0;34m,\u001b[0m\u001b[0;34m\u001b[0m\u001b[0;34m\u001b[0m\u001b[0m\n\u001b[0;32m--> 821\u001b[0;31m                     estimator=estimator)\n\u001b[0m\u001b[1;32m    822\u001b[0m     \u001b[0;32mif\u001b[0m \u001b[0mmulti_output\u001b[0m\u001b[0;34m:\u001b[0m\u001b[0;34m\u001b[0m\u001b[0;34m\u001b[0m\u001b[0m\n\u001b[1;32m    823\u001b[0m         y = check_array(y, accept_sparse='csr', force_all_finite=True,\n",
            "\u001b[0;32m/shared-libs/python3.7/py/lib/python3.7/site-packages/sklearn/utils/validation.py\u001b[0m in \u001b[0;36minner_f\u001b[0;34m(*args, **kwargs)\u001b[0m\n\u001b[1;32m     61\u001b[0m             \u001b[0mextra_args\u001b[0m \u001b[0;34m=\u001b[0m \u001b[0mlen\u001b[0m\u001b[0;34m(\u001b[0m\u001b[0margs\u001b[0m\u001b[0;34m)\u001b[0m \u001b[0;34m-\u001b[0m \u001b[0mlen\u001b[0m\u001b[0;34m(\u001b[0m\u001b[0mall_args\u001b[0m\u001b[0;34m)\u001b[0m\u001b[0;34m\u001b[0m\u001b[0;34m\u001b[0m\u001b[0m\n\u001b[1;32m     62\u001b[0m             \u001b[0;32mif\u001b[0m \u001b[0mextra_args\u001b[0m \u001b[0;34m<=\u001b[0m \u001b[0;36m0\u001b[0m\u001b[0;34m:\u001b[0m\u001b[0;34m\u001b[0m\u001b[0;34m\u001b[0m\u001b[0m\n\u001b[0;32m---> 63\u001b[0;31m                 \u001b[0;32mreturn\u001b[0m \u001b[0mf\u001b[0m\u001b[0;34m(\u001b[0m\u001b[0;34m*\u001b[0m\u001b[0margs\u001b[0m\u001b[0;34m,\u001b[0m \u001b[0;34m**\u001b[0m\u001b[0mkwargs\u001b[0m\u001b[0;34m)\u001b[0m\u001b[0;34m\u001b[0m\u001b[0;34m\u001b[0m\u001b[0m\n\u001b[0m\u001b[1;32m     64\u001b[0m \u001b[0;34m\u001b[0m\u001b[0m\n\u001b[1;32m     65\u001b[0m             \u001b[0;31m# extra_args > 0\u001b[0m\u001b[0;34m\u001b[0m\u001b[0;34m\u001b[0m\u001b[0;34m\u001b[0m\u001b[0m\n",
            "\u001b[0;32m/shared-libs/python3.7/py/lib/python3.7/site-packages/sklearn/utils/validation.py\u001b[0m in \u001b[0;36mcheck_array\u001b[0;34m(array, accept_sparse, accept_large_sparse, dtype, order, copy, force_all_finite, ensure_2d, allow_nd, ensure_min_samples, ensure_min_features, estimator)\u001b[0m\n\u001b[1;32m    662\u001b[0m         \u001b[0;32mif\u001b[0m \u001b[0mforce_all_finite\u001b[0m\u001b[0;34m:\u001b[0m\u001b[0;34m\u001b[0m\u001b[0;34m\u001b[0m\u001b[0m\n\u001b[1;32m    663\u001b[0m             _assert_all_finite(array,\n\u001b[0;32m--> 664\u001b[0;31m                                allow_nan=force_all_finite == 'allow-nan')\n\u001b[0m\u001b[1;32m    665\u001b[0m \u001b[0;34m\u001b[0m\u001b[0m\n\u001b[1;32m    666\u001b[0m     \u001b[0;32mif\u001b[0m \u001b[0mensure_min_samples\u001b[0m \u001b[0;34m>\u001b[0m \u001b[0;36m0\u001b[0m\u001b[0;34m:\u001b[0m\u001b[0;34m\u001b[0m\u001b[0;34m\u001b[0m\u001b[0m\n",
            "\u001b[0;32m/shared-libs/python3.7/py/lib/python3.7/site-packages/sklearn/utils/validation.py\u001b[0m in \u001b[0;36m_assert_all_finite\u001b[0;34m(X, allow_nan, msg_dtype)\u001b[0m\n\u001b[1;32m    104\u001b[0m                     \u001b[0mmsg_err\u001b[0m\u001b[0;34m.\u001b[0m\u001b[0mformat\u001b[0m\u001b[0;34m\u001b[0m\u001b[0;34m\u001b[0m\u001b[0m\n\u001b[1;32m    105\u001b[0m                     (type_err,\n\u001b[0;32m--> 106\u001b[0;31m                      msg_dtype if msg_dtype is not None else X.dtype)\n\u001b[0m\u001b[1;32m    107\u001b[0m             )\n\u001b[1;32m    108\u001b[0m     \u001b[0;31m# for object dtype data, we only check for NaNs (GH-13254)\u001b[0m\u001b[0;34m\u001b[0m\u001b[0;34m\u001b[0m\u001b[0;34m\u001b[0m\u001b[0m\n",
            "\u001b[0;31mValueError\u001b[0m: Input contains NaN, infinity or a value too large for dtype('float32')."
          ]
        }
      ]
    },
    {
      "cell_type": "code",
      "metadata": {
        "tags": [],
        "cell_id": "00032-c68fbffe-6a30-4481-ace3-3d7f0648c34f",
        "deepnote_to_be_reexecuted": false,
        "source_hash": "98817304",
        "execution_start": 1615590697898,
        "execution_millis": 1,
        "deepnote_cell_type": "code"
      },
      "source": "def rf_score_plot(randforest, ax, X_train, y_train, X_test, y_test):\n    '''\n        Parameters: randforest: RandomForestRegressor\n                    X_train: 2d numpy array\n                    y_train: 1d numpy array\n                    X_test: 2d numpy array\n                    y_test: 1d numpy array\n\n        Returns: The prediction of a random forest regressor on the test set\n    '''\n    randforest.fit(X_train, y_train)\n    y_test_pred = randforest.predict(X_test)\n    test_score = mean_squared_error(y_test, y_test_pred)\n    \n    ax.axhline(test_score, alpha = 0.7, c = 'y', lw=3, ls='-.', label = \n                                                        'Random Forest Test')",
      "execution_count": null,
      "outputs": []
    },
    {
      "cell_type": "code",
      "metadata": {
        "tags": [],
        "cell_id": "00031-ca1abf9d-ff41-4bb7-beeb-5c67e8364084",
        "deepnote_to_be_reexecuted": false,
        "source_hash": "d3d446ec",
        "execution_millis": 13954,
        "execution_start": 1615590831549,
        "deepnote_cell_type": "code"
      },
      "source": "# Plotting rf and gbr error rate\n\nestimators = 500\n\ngbr = GradientBoostingRegressor(n_estimators=estimators, learning_rate=0.1)\ngbr1 = GradientBoostingRegressor(n_estimators=estimators, learning_rate=0.01)\n\n\ngbr.fit(X_train, y_train)\ngbr1.fit(X_train, y_train)\n\n\nrf = RandomForestRegressor(n_estimators=estimators)\n\nrf.fit(X_train, y_train)\n\n\ngbr_trainscore = np.zeros(estimators)\nfor i, y_pred in enumerate(gbr.staged_predict(X_train)):\n    gbr_trainscore[i] = mean_squared_error(y_train, y_pred)\n    # gbr_trainscore[i] = gbr.loss_(y_train, y_pred)\n\ngbr_testscore = np.zeros(estimators)\nfor i, y_pred in enumerate(gbr.staged_predict(X_test)):\n    gbr_testscore[i] = mean_squared_error(y_test, y_pred)\n    # gbr_testscore[i] = grid_search_boosted.loss_(y_test, y_pred)\n\n\n\ngbr1_trainscore = np.zeros(estimators)\nfor i, y_pred in enumerate(gbr1.staged_predict(X_train)):\n    gbr1_trainscore[i] = mean_squared_error(y_train, y_pred)\n    # gbr_trainscore[i] = gbr.loss_(y_train, y_pred)\n\ngbr1_testscore = np.zeros(estimators)\nfor i, y_pred in enumerate(gbr1.staged_predict(X_test)):\n    gbr1_testscore[i] = mean_squared_error(y_test, y_pred)\n    # gbr_testscore[i] = grid_search_boosted.loss_(y_test, y_pred)\n\nfig, ax = plt.subplots(figsize=(14,12))\n\nplt.plot(np.arange(estimators) + 1, gbr_trainscore, label='Training Error learning at 0.1')\nplt.plot(np.arange(estimators) + 1, gbr_testscore, label='Testing Error learning at 0.1')\nplt.plot(np.arange(estimators) + 1, gbr1_trainscore, label='Training Error learning at 0.01')\nplt.plot(np.arange(estimators) + 1, gbr1_testscore, label='Testing Error learning at 0.01')\nrf_score_plot(rf, ax, X_train, y_train, X_test, y_test)\n\nplt.title('Gradient Boosted Error By Number of Estimators')\nplt.xlabel('Number of Estimators', fontsize=14)\nplt.ylabel('MSE', fontsize=14)\nplt.legend(loc='upper right')\n\n\n\n",
      "execution_count": null,
      "outputs": [
        {
          "output_type": "execute_result",
          "execution_count": 67,
          "data": {
            "text/plain": "<matplotlib.legend.Legend at 0x7f62c98e5b50>"
          },
          "metadata": {}
        },
        {
          "data": {
            "text/plain": "<Figure size 1008x864 with 1 Axes>",
            "image/png": "[encoded data removed]"
          },
          "metadata": {
            "needs_background": "light"
          },
          "output_type": "display_data"
        }
      ]
    },
    {
      "cell_type": "code",
      "metadata": {
        "tags": [],
        "cell_id": "00036-826f0b0a-8dd6-463b-9e9f-39bf9383fd13",
        "deepnote_to_be_reexecuted": false,
        "source_hash": "78d515ed",
        "execution_millis": 16180,
        "execution_start": 1615591501763,
        "deepnote_cell_type": "code"
      },
      "source": "result = permutation_importance(gbr, X_test, y_test, n_repeats=500,\n                                random_state=42, n_jobs=2)\n\nsorted_idx = result.importances_mean.argsort()\n\nfig, ax = plt.subplots(figsize=(15,12))\nax.boxplot(result.importances[sorted_idx].T,\n            vert=False, labels=sorted_idx)\n\nax.set_title('Permutation Importances Using the Test Set')\n",
      "execution_count": null,
      "outputs": [
        {
          "output_type": "execute_result",
          "execution_count": 93,
          "data": {
            "text/plain": "Text(0.5, 1.0, 'Permutation Importances Using the Test Set')"
          },
          "metadata": {}
        },
        {
          "data": {
            "text/plain": "<Figure size 1080x864 with 1 Axes>",
            "image/png": "[encoded data removed]"
          },
          "metadata": {
            "needs_background": "light"
          },
          "output_type": "display_data"
        }
      ]
    },
    {
      "cell_type": "code",
      "metadata": {
        "tags": [],
        "cell_id": "00039-eada74bd-f36f-4d09-a9ea-c1c2495236fb",
        "deepnote_to_be_reexecuted": false,
        "source_hash": "1c043125",
        "execution_start": 1615594884770,
        "execution_millis": 9,
        "deepnote_cell_type": "code"
      },
      "source": "sorted_idx",
      "execution_count": null,
      "outputs": [
        {
          "output_type": "execute_result",
          "execution_count": 157,
          "data": {
            "text/plain": "array([2, 3, 0, 5, 4, 1])"
          },
          "metadata": {}
        }
      ]
    },
    {
      "cell_type": "code",
      "metadata": {
        "tags": [],
        "cell_id": "00040-f7dddbb3-87d2-4bf5-8772-15a5c6d59b23",
        "deepnote_to_be_reexecuted": false,
        "source_hash": "45948adf",
        "execution_start": 1615594926802,
        "execution_millis": 10,
        "deepnote_cell_type": "code"
      },
      "source": "cols_with_1_dtype",
      "execution_count": null,
      "outputs": [
        {
          "output_type": "execute_result",
          "execution_count": 158,
          "data": {
            "text/plain": "['MachineID',\n 'ModelID',\n 'datasource',\n 'auctioneerID',\n 'YearMade',\n 'MachineHoursCurrentMeter',\n 'SalePricelog']"
          },
          "metadata": {}
        }
      ]
    },
    {
      "cell_type": "code",
      "metadata": {
        "tags": [],
        "cell_id": "00039-fea28356-4db0-43e1-84c7-5885caac86ea",
        "deepnote_to_be_reexecuted": false,
        "source_hash": "c7f4930e",
        "execution_start": 1615593097697,
        "execution_millis": 15,
        "deepnote_cell_type": "code"
      },
      "source": "farm_train_quarter_janky.info()",
      "execution_count": null,
      "outputs": [
        {
          "name": "stdout",
          "text": "<class 'pandas.core.frame.DataFrame'>\nRangeIndex: 5000 entries, 0 to 4999\nData columns (total 7 columns):\n #   Column                    Non-Null Count  Dtype  \n---  ------                    --------------  -----  \n 0   MachineID                 5000 non-null   int64  \n 1   ModelID                   5000 non-null   int64  \n 2   datasource                5000 non-null   int64  \n 3   auctioneerID              5000 non-null   float64\n 4   YearMade                  5000 non-null   int64  \n 5   MachineHoursCurrentMeter  5000 non-null   float64\n 6   SalePricelog              5000 non-null   float64\ndtypes: float64(3), int64(4)\nmemory usage: 273.6 KB\n",
          "output_type": "stream"
        }
      ]
    },
    {
      "cell_type": "code",
      "metadata": {
        "tags": [],
        "cell_id": "00033-b61db179-82d6-4ece-8734-3bb29bb7e718",
        "deepnote_to_be_reexecuted": false,
        "source_hash": "138d48f0",
        "execution_start": 1615590457137,
        "execution_millis": 4969,
        "deepnote_cell_type": "code"
      },
      "source": "# Plotting rf and gbr error rate\n\nestimators = 500\n\nrf = RandomForestRegressor(n_estimators=estimators)\n\nrf.fit(X_train, y_train)\n\nrf_trainscore = np.zeros(estimators)\nfor i, y_pred in enumerate(rf.predict(X_train)):\n    gbr_trainscore[i] = mean_squared_error(y_train, y_pred)\n    # gbr_trainscore[i] = gbr.loss_(y_train, y_pred)\n\nrf_testscore = np.zeros(estimators)\nfor i, y_pred in enumerate(rf.predict(X_test)):\n    gbr_testscore[i] = mean_squared_error(y_test, y_pred)\n    # gbr_testscore[i] = grid_search_boosted.loss_(y_test, y_pred)\n\nplt.plot(np.arange(estimators) + 1, gbr_trainscore, label='Training Error')\nplt.plot(np.arange(estimators) + 1, gbr_testscore, label='Testing Error')\n\nplt.title('Random Forest Error By Number of Estimators')\nplt.xlabel('Number of Estimators', fontsize=14)\nplt.ylabel('MSE', fontsize=14)\nplt.legend(loc='upper right')\n",
      "execution_count": null,
      "outputs": [
        {
          "output_type": "error",
          "ename": "TypeError",
          "evalue": "Singleton array 11.062075877900533 cannot be considered a valid collection.",
          "traceback": [
            "\u001b[0;31m---------------------------------------------------------------------------\u001b[0m",
            "\u001b[0;31mTypeError\u001b[0m                                 Traceback (most recent call last)",
            "\u001b[0;32m<ipython-input-51-d8fc987e7bc8>\u001b[0m in \u001b[0;36m<module>\u001b[0;34m\u001b[0m\n\u001b[1;32m      9\u001b[0m \u001b[0mrf_trainscore\u001b[0m \u001b[0;34m=\u001b[0m \u001b[0mnp\u001b[0m\u001b[0;34m.\u001b[0m\u001b[0mzeros\u001b[0m\u001b[0;34m(\u001b[0m\u001b[0mestimators\u001b[0m\u001b[0;34m)\u001b[0m\u001b[0;34m\u001b[0m\u001b[0;34m\u001b[0m\u001b[0m\n\u001b[1;32m     10\u001b[0m \u001b[0;32mfor\u001b[0m \u001b[0mi\u001b[0m\u001b[0;34m,\u001b[0m \u001b[0my_pred\u001b[0m \u001b[0;32min\u001b[0m \u001b[0menumerate\u001b[0m\u001b[0;34m(\u001b[0m\u001b[0mrf\u001b[0m\u001b[0;34m.\u001b[0m\u001b[0mpredict\u001b[0m\u001b[0;34m(\u001b[0m\u001b[0mX_train\u001b[0m\u001b[0;34m)\u001b[0m\u001b[0;34m)\u001b[0m\u001b[0;34m:\u001b[0m\u001b[0;34m\u001b[0m\u001b[0;34m\u001b[0m\u001b[0m\n\u001b[0;32m---> 11\u001b[0;31m     \u001b[0mgbr_trainscore\u001b[0m\u001b[0;34m[\u001b[0m\u001b[0mi\u001b[0m\u001b[0;34m]\u001b[0m \u001b[0;34m=\u001b[0m \u001b[0mmean_squared_error\u001b[0m\u001b[0;34m(\u001b[0m\u001b[0my_train\u001b[0m\u001b[0;34m,\u001b[0m \u001b[0my_pred\u001b[0m\u001b[0;34m)\u001b[0m\u001b[0;34m\u001b[0m\u001b[0;34m\u001b[0m\u001b[0m\n\u001b[0m\u001b[1;32m     12\u001b[0m     \u001b[0;31m# gbr_trainscore[i] = gbr.loss_(y_train, y_pred)\u001b[0m\u001b[0;34m\u001b[0m\u001b[0;34m\u001b[0m\u001b[0;34m\u001b[0m\u001b[0m\n\u001b[1;32m     13\u001b[0m \u001b[0;34m\u001b[0m\u001b[0m\n",
            "\u001b[0;32m/shared-libs/python3.7/py/lib/python3.7/site-packages/sklearn/utils/validation.py\u001b[0m in \u001b[0;36minner_f\u001b[0;34m(*args, **kwargs)\u001b[0m\n\u001b[1;32m     61\u001b[0m             \u001b[0mextra_args\u001b[0m \u001b[0;34m=\u001b[0m \u001b[0mlen\u001b[0m\u001b[0;34m(\u001b[0m\u001b[0margs\u001b[0m\u001b[0;34m)\u001b[0m \u001b[0;34m-\u001b[0m \u001b[0mlen\u001b[0m\u001b[0;34m(\u001b[0m\u001b[0mall_args\u001b[0m\u001b[0;34m)\u001b[0m\u001b[0;34m\u001b[0m\u001b[0;34m\u001b[0m\u001b[0m\n\u001b[1;32m     62\u001b[0m             \u001b[0;32mif\u001b[0m \u001b[0mextra_args\u001b[0m \u001b[0;34m<=\u001b[0m \u001b[0;36m0\u001b[0m\u001b[0;34m:\u001b[0m\u001b[0;34m\u001b[0m\u001b[0;34m\u001b[0m\u001b[0m\n\u001b[0;32m---> 63\u001b[0;31m                 \u001b[0;32mreturn\u001b[0m \u001b[0mf\u001b[0m\u001b[0;34m(\u001b[0m\u001b[0;34m*\u001b[0m\u001b[0margs\u001b[0m\u001b[0;34m,\u001b[0m \u001b[0;34m**\u001b[0m\u001b[0mkwargs\u001b[0m\u001b[0;34m)\u001b[0m\u001b[0;34m\u001b[0m\u001b[0;34m\u001b[0m\u001b[0m\n\u001b[0m\u001b[1;32m     64\u001b[0m \u001b[0;34m\u001b[0m\u001b[0m\n\u001b[1;32m     65\u001b[0m             \u001b[0;31m# extra_args > 0\u001b[0m\u001b[0;34m\u001b[0m\u001b[0;34m\u001b[0m\u001b[0;34m\u001b[0m\u001b[0m\n",
            "\u001b[0;32m/shared-libs/python3.7/py/lib/python3.7/site-packages/sklearn/metrics/_regression.py\u001b[0m in \u001b[0;36mmean_squared_error\u001b[0;34m(y_true, y_pred, sample_weight, multioutput, squared)\u001b[0m\n\u001b[1;32m    334\u001b[0m     \"\"\"\n\u001b[1;32m    335\u001b[0m     y_type, y_true, y_pred, multioutput = _check_reg_targets(\n\u001b[0;32m--> 336\u001b[0;31m         y_true, y_pred, multioutput)\n\u001b[0m\u001b[1;32m    337\u001b[0m     \u001b[0mcheck_consistent_length\u001b[0m\u001b[0;34m(\u001b[0m\u001b[0my_true\u001b[0m\u001b[0;34m,\u001b[0m \u001b[0my_pred\u001b[0m\u001b[0;34m,\u001b[0m \u001b[0msample_weight\u001b[0m\u001b[0;34m)\u001b[0m\u001b[0;34m\u001b[0m\u001b[0;34m\u001b[0m\u001b[0m\n\u001b[1;32m    338\u001b[0m     output_errors = np.average((y_true - y_pred) ** 2, axis=0,\n",
            "\u001b[0;32m/shared-libs/python3.7/py/lib/python3.7/site-packages/sklearn/metrics/_regression.py\u001b[0m in \u001b[0;36m_check_reg_targets\u001b[0;34m(y_true, y_pred, multioutput, dtype)\u001b[0m\n\u001b[1;32m     86\u001b[0m         \u001b[0mthe\u001b[0m \u001b[0mdtype\u001b[0m \u001b[0margument\u001b[0m \u001b[0mpassed\u001b[0m \u001b[0mto\u001b[0m \u001b[0mcheck_array\u001b[0m\u001b[0;34m.\u001b[0m\u001b[0;34m\u001b[0m\u001b[0;34m\u001b[0m\u001b[0m\n\u001b[1;32m     87\u001b[0m     \"\"\"\n\u001b[0;32m---> 88\u001b[0;31m     \u001b[0mcheck_consistent_length\u001b[0m\u001b[0;34m(\u001b[0m\u001b[0my_true\u001b[0m\u001b[0;34m,\u001b[0m \u001b[0my_pred\u001b[0m\u001b[0;34m)\u001b[0m\u001b[0;34m\u001b[0m\u001b[0;34m\u001b[0m\u001b[0m\n\u001b[0m\u001b[1;32m     89\u001b[0m     \u001b[0my_true\u001b[0m \u001b[0;34m=\u001b[0m \u001b[0mcheck_array\u001b[0m\u001b[0;34m(\u001b[0m\u001b[0my_true\u001b[0m\u001b[0;34m,\u001b[0m \u001b[0mensure_2d\u001b[0m\u001b[0;34m=\u001b[0m\u001b[0;32mFalse\u001b[0m\u001b[0;34m,\u001b[0m \u001b[0mdtype\u001b[0m\u001b[0;34m=\u001b[0m\u001b[0mdtype\u001b[0m\u001b[0;34m)\u001b[0m\u001b[0;34m\u001b[0m\u001b[0;34m\u001b[0m\u001b[0m\n\u001b[1;32m     90\u001b[0m     \u001b[0my_pred\u001b[0m \u001b[0;34m=\u001b[0m \u001b[0mcheck_array\u001b[0m\u001b[0;34m(\u001b[0m\u001b[0my_pred\u001b[0m\u001b[0;34m,\u001b[0m \u001b[0mensure_2d\u001b[0m\u001b[0;34m=\u001b[0m\u001b[0;32mFalse\u001b[0m\u001b[0;34m,\u001b[0m \u001b[0mdtype\u001b[0m\u001b[0;34m=\u001b[0m\u001b[0mdtype\u001b[0m\u001b[0;34m)\u001b[0m\u001b[0;34m\u001b[0m\u001b[0;34m\u001b[0m\u001b[0m\n",
            "\u001b[0;32m/shared-libs/python3.7/py/lib/python3.7/site-packages/sklearn/utils/validation.py\u001b[0m in \u001b[0;36mcheck_consistent_length\u001b[0;34m(*arrays)\u001b[0m\n\u001b[1;32m    257\u001b[0m     \"\"\"\n\u001b[1;32m    258\u001b[0m \u001b[0;34m\u001b[0m\u001b[0m\n\u001b[0;32m--> 259\u001b[0;31m     \u001b[0mlengths\u001b[0m \u001b[0;34m=\u001b[0m \u001b[0;34m[\u001b[0m\u001b[0m_num_samples\u001b[0m\u001b[0;34m(\u001b[0m\u001b[0mX\u001b[0m\u001b[0;34m)\u001b[0m \u001b[0;32mfor\u001b[0m \u001b[0mX\u001b[0m \u001b[0;32min\u001b[0m \u001b[0marrays\u001b[0m \u001b[0;32mif\u001b[0m \u001b[0mX\u001b[0m \u001b[0;32mis\u001b[0m \u001b[0;32mnot\u001b[0m \u001b[0;32mNone\u001b[0m\u001b[0;34m]\u001b[0m\u001b[0;34m\u001b[0m\u001b[0;34m\u001b[0m\u001b[0m\n\u001b[0m\u001b[1;32m    260\u001b[0m     \u001b[0muniques\u001b[0m \u001b[0;34m=\u001b[0m \u001b[0mnp\u001b[0m\u001b[0;34m.\u001b[0m\u001b[0munique\u001b[0m\u001b[0;34m(\u001b[0m\u001b[0mlengths\u001b[0m\u001b[0;34m)\u001b[0m\u001b[0;34m\u001b[0m\u001b[0;34m\u001b[0m\u001b[0m\n\u001b[1;32m    261\u001b[0m     \u001b[0;32mif\u001b[0m \u001b[0mlen\u001b[0m\u001b[0;34m(\u001b[0m\u001b[0muniques\u001b[0m\u001b[0;34m)\u001b[0m \u001b[0;34m>\u001b[0m \u001b[0;36m1\u001b[0m\u001b[0;34m:\u001b[0m\u001b[0;34m\u001b[0m\u001b[0;34m\u001b[0m\u001b[0m\n",
            "\u001b[0;32m/shared-libs/python3.7/py/lib/python3.7/site-packages/sklearn/utils/validation.py\u001b[0m in \u001b[0;36m<listcomp>\u001b[0;34m(.0)\u001b[0m\n\u001b[1;32m    257\u001b[0m     \"\"\"\n\u001b[1;32m    258\u001b[0m \u001b[0;34m\u001b[0m\u001b[0m\n\u001b[0;32m--> 259\u001b[0;31m     \u001b[0mlengths\u001b[0m \u001b[0;34m=\u001b[0m \u001b[0;34m[\u001b[0m\u001b[0m_num_samples\u001b[0m\u001b[0;34m(\u001b[0m\u001b[0mX\u001b[0m\u001b[0;34m)\u001b[0m \u001b[0;32mfor\u001b[0m \u001b[0mX\u001b[0m \u001b[0;32min\u001b[0m \u001b[0marrays\u001b[0m \u001b[0;32mif\u001b[0m \u001b[0mX\u001b[0m \u001b[0;32mis\u001b[0m \u001b[0;32mnot\u001b[0m \u001b[0;32mNone\u001b[0m\u001b[0;34m]\u001b[0m\u001b[0;34m\u001b[0m\u001b[0;34m\u001b[0m\u001b[0m\n\u001b[0m\u001b[1;32m    260\u001b[0m     \u001b[0muniques\u001b[0m \u001b[0;34m=\u001b[0m \u001b[0mnp\u001b[0m\u001b[0;34m.\u001b[0m\u001b[0munique\u001b[0m\u001b[0;34m(\u001b[0m\u001b[0mlengths\u001b[0m\u001b[0;34m)\u001b[0m\u001b[0;34m\u001b[0m\u001b[0;34m\u001b[0m\u001b[0m\n\u001b[1;32m    261\u001b[0m     \u001b[0;32mif\u001b[0m \u001b[0mlen\u001b[0m\u001b[0;34m(\u001b[0m\u001b[0muniques\u001b[0m\u001b[0;34m)\u001b[0m \u001b[0;34m>\u001b[0m \u001b[0;36m1\u001b[0m\u001b[0;34m:\u001b[0m\u001b[0;34m\u001b[0m\u001b[0;34m\u001b[0m\u001b[0m\n",
            "\u001b[0;32m/shared-libs/python3.7/py/lib/python3.7/site-packages/sklearn/utils/validation.py\u001b[0m in \u001b[0;36m_num_samples\u001b[0;34m(x)\u001b[0m\n\u001b[1;32m    201\u001b[0m         \u001b[0;32mif\u001b[0m \u001b[0mlen\u001b[0m\u001b[0;34m(\u001b[0m\u001b[0mx\u001b[0m\u001b[0;34m.\u001b[0m\u001b[0mshape\u001b[0m\u001b[0;34m)\u001b[0m \u001b[0;34m==\u001b[0m \u001b[0;36m0\u001b[0m\u001b[0;34m:\u001b[0m\u001b[0;34m\u001b[0m\u001b[0;34m\u001b[0m\u001b[0m\n\u001b[1;32m    202\u001b[0m             raise TypeError(\"Singleton array %r cannot be considered\"\n\u001b[0;32m--> 203\u001b[0;31m                             \" a valid collection.\" % x)\n\u001b[0m\u001b[1;32m    204\u001b[0m         \u001b[0;31m# Check that shape is returning an integer or default to len\u001b[0m\u001b[0;34m\u001b[0m\u001b[0;34m\u001b[0m\u001b[0;34m\u001b[0m\u001b[0m\n\u001b[1;32m    205\u001b[0m         \u001b[0;31m# Dask dataframes may not return numeric shape[0] value\u001b[0m\u001b[0;34m\u001b[0m\u001b[0;34m\u001b[0m\u001b[0;34m\u001b[0m\u001b[0m\n",
            "\u001b[0;31mTypeError\u001b[0m: Singleton array 11.062075877900533 cannot be considered a valid collection."
          ]
        }
      ]
    },
    {
      "cell_type": "code",
      "metadata": {
        "tags": [],
        "cell_id": "00038-27867886-c333-4a1a-b076-b66fbf4083a2",
        "deepnote_to_be_reexecuted": false,
        "source_hash": "2da9edc1",
        "execution_millis": 3,
        "execution_start": 1615591934082,
        "deepnote_cell_type": "code"
      },
      "source": "to_column = lambda x: x.reshape((x.shape[0], 1))\npad = .1\n\n## Add some noise\nxs = np.random.uniform(-np.pi, np.pi, estimators)\nys = f(xs) + np.random.normal(0, 0.20, estimators)\n\ndef plot_truth():\n    plt.plot(x, y, linewidth = 4, color = 'black', label=\"True\")\n    plt.xlim([-np.pi-pad, np.pi+pad]); plt.ylim([-1.4, 1.4])\n    \ndef plot_data():\n    plt.plot(xs, ys, 'o', color='grey', markeredgewidth=0)",
      "execution_count": null,
      "outputs": []
    },
    {
      "cell_type": "code",
      "metadata": {
        "tags": [],
        "cell_id": "00033-a37d8702-fdbe-43df-9d92-e24747bd1ed4",
        "deepnote_to_be_reexecuted": false,
        "source_hash": "ee8e7d28",
        "execution_millis": 111,
        "execution_start": 1615591934934,
        "deepnote_cell_type": "code"
      },
      "source": "plot_data(); plot_truth()\n\nlabel = \"Boosting Stages Over Time\"\nfor i, pred in enumerate(gbr.staged_predict(to_column(x))):\n    if i % 15 == 1:\n        plt.plot(x, pred, color=plt.cm.Purples(i/1000 + 0.5),\n                 linewidth=4,\n                 label=label)\n        label = None\n        \nplt.legend(loc=\"lower right\")\nplt.xlabel('$x$', fontsize=14); plt.ylabel('$y$', fontsize=14)\nplt.title(\"Boosting Stages Over Time\")",
      "execution_count": null,
      "outputs": [
        {
          "output_type": "error",
          "ename": "ValueError",
          "evalue": "X has 1 features, but DecisionTreeRegressor is expecting 6 features as input.",
          "traceback": [
            "\u001b[0;31m---------------------------------------------------------------------------\u001b[0m",
            "\u001b[0;31mValueError\u001b[0m                                Traceback (most recent call last)",
            "\u001b[0;32m<ipython-input-114-39f95da53ba8>\u001b[0m in \u001b[0;36m<module>\u001b[0;34m\u001b[0m\n\u001b[1;32m      2\u001b[0m \u001b[0;34m\u001b[0m\u001b[0m\n\u001b[1;32m      3\u001b[0m \u001b[0mlabel\u001b[0m \u001b[0;34m=\u001b[0m \u001b[0;34m\"Boosting Stages Over Time\"\u001b[0m\u001b[0;34m\u001b[0m\u001b[0;34m\u001b[0m\u001b[0m\n\u001b[0;32m----> 4\u001b[0;31m \u001b[0;32mfor\u001b[0m \u001b[0mi\u001b[0m\u001b[0;34m,\u001b[0m \u001b[0mpred\u001b[0m \u001b[0;32min\u001b[0m \u001b[0menumerate\u001b[0m\u001b[0;34m(\u001b[0m\u001b[0mgbr\u001b[0m\u001b[0;34m.\u001b[0m\u001b[0mstaged_predict\u001b[0m\u001b[0;34m(\u001b[0m\u001b[0mto_column\u001b[0m\u001b[0;34m(\u001b[0m\u001b[0mx\u001b[0m\u001b[0;34m)\u001b[0m\u001b[0;34m)\u001b[0m\u001b[0;34m)\u001b[0m\u001b[0;34m:\u001b[0m\u001b[0;34m\u001b[0m\u001b[0;34m\u001b[0m\u001b[0m\n\u001b[0m\u001b[1;32m      5\u001b[0m     \u001b[0;32mif\u001b[0m \u001b[0mi\u001b[0m \u001b[0;34m%\u001b[0m \u001b[0;36m15\u001b[0m \u001b[0;34m==\u001b[0m \u001b[0;36m1\u001b[0m\u001b[0;34m:\u001b[0m\u001b[0;34m\u001b[0m\u001b[0;34m\u001b[0m\u001b[0m\n\u001b[1;32m      6\u001b[0m         plt.plot(x, pred, color=plt.cm.Purples(i/1000 + 0.5),\n",
            "\u001b[0;32m/shared-libs/python3.7/py/lib/python3.7/site-packages/sklearn/ensemble/_gb.py\u001b[0m in \u001b[0;36mstaged_predict\u001b[0;34m(self, X)\u001b[0m\n\u001b[1;32m   1670\u001b[0m             \u001b[0mThe\u001b[0m \u001b[0mpredicted\u001b[0m \u001b[0mvalue\u001b[0m \u001b[0mof\u001b[0m \u001b[0mthe\u001b[0m \u001b[0minput\u001b[0m \u001b[0msamples\u001b[0m\u001b[0;34m.\u001b[0m\u001b[0;34m\u001b[0m\u001b[0;34m\u001b[0m\u001b[0m\n\u001b[1;32m   1671\u001b[0m         \"\"\"\n\u001b[0;32m-> 1672\u001b[0;31m         \u001b[0;32mfor\u001b[0m \u001b[0mraw_predictions\u001b[0m \u001b[0;32min\u001b[0m \u001b[0mself\u001b[0m\u001b[0;34m.\u001b[0m\u001b[0m_staged_raw_predict\u001b[0m\u001b[0;34m(\u001b[0m\u001b[0mX\u001b[0m\u001b[0;34m)\u001b[0m\u001b[0;34m:\u001b[0m\u001b[0;34m\u001b[0m\u001b[0;34m\u001b[0m\u001b[0m\n\u001b[0m\u001b[1;32m   1673\u001b[0m             \u001b[0;32myield\u001b[0m \u001b[0mraw_predictions\u001b[0m\u001b[0;34m.\u001b[0m\u001b[0mravel\u001b[0m\u001b[0;34m(\u001b[0m\u001b[0;34m)\u001b[0m\u001b[0;34m\u001b[0m\u001b[0;34m\u001b[0m\u001b[0m\n\u001b[1;32m   1674\u001b[0m \u001b[0;34m\u001b[0m\u001b[0m\n",
            "\u001b[0;32m/shared-libs/python3.7/py/lib/python3.7/site-packages/sklearn/ensemble/_gb.py\u001b[0m in \u001b[0;36m_staged_raw_predict\u001b[0;34m(self, X)\u001b[0m\n\u001b[1;32m    649\u001b[0m         \"\"\"\n\u001b[1;32m    650\u001b[0m         \u001b[0mX\u001b[0m \u001b[0;34m=\u001b[0m \u001b[0mcheck_array\u001b[0m\u001b[0;34m(\u001b[0m\u001b[0mX\u001b[0m\u001b[0;34m,\u001b[0m \u001b[0mdtype\u001b[0m\u001b[0;34m=\u001b[0m\u001b[0mDTYPE\u001b[0m\u001b[0;34m,\u001b[0m \u001b[0morder\u001b[0m\u001b[0;34m=\u001b[0m\u001b[0;34m\"C\"\u001b[0m\u001b[0;34m,\u001b[0m \u001b[0maccept_sparse\u001b[0m\u001b[0;34m=\u001b[0m\u001b[0;34m'csr'\u001b[0m\u001b[0;34m)\u001b[0m\u001b[0;34m\u001b[0m\u001b[0;34m\u001b[0m\u001b[0m\n\u001b[0;32m--> 651\u001b[0;31m         \u001b[0mraw_predictions\u001b[0m \u001b[0;34m=\u001b[0m \u001b[0mself\u001b[0m\u001b[0;34m.\u001b[0m\u001b[0m_raw_predict_init\u001b[0m\u001b[0;34m(\u001b[0m\u001b[0mX\u001b[0m\u001b[0;34m)\u001b[0m\u001b[0;34m\u001b[0m\u001b[0;34m\u001b[0m\u001b[0m\n\u001b[0m\u001b[1;32m    652\u001b[0m         \u001b[0;32mfor\u001b[0m \u001b[0mi\u001b[0m \u001b[0;32min\u001b[0m \u001b[0mrange\u001b[0m\u001b[0;34m(\u001b[0m\u001b[0mself\u001b[0m\u001b[0;34m.\u001b[0m\u001b[0mestimators_\u001b[0m\u001b[0;34m.\u001b[0m\u001b[0mshape\u001b[0m\u001b[0;34m[\u001b[0m\u001b[0;36m0\u001b[0m\u001b[0;34m]\u001b[0m\u001b[0;34m)\u001b[0m\u001b[0;34m:\u001b[0m\u001b[0;34m\u001b[0m\u001b[0;34m\u001b[0m\u001b[0m\n\u001b[1;32m    653\u001b[0m             predict_stage(self.estimators_, i, X, self.learning_rate,\n",
            "\u001b[0;32m/shared-libs/python3.7/py/lib/python3.7/site-packages/sklearn/ensemble/_gb.py\u001b[0m in \u001b[0;36m_raw_predict_init\u001b[0;34m(self, X)\u001b[0m\n\u001b[1;32m    608\u001b[0m         \u001b[0;34m\"\"\"Check input and compute raw predictions of the init estimator.\"\"\"\u001b[0m\u001b[0;34m\u001b[0m\u001b[0;34m\u001b[0m\u001b[0m\n\u001b[1;32m    609\u001b[0m         \u001b[0mself\u001b[0m\u001b[0;34m.\u001b[0m\u001b[0m_check_initialized\u001b[0m\u001b[0;34m(\u001b[0m\u001b[0;34m)\u001b[0m\u001b[0;34m\u001b[0m\u001b[0;34m\u001b[0m\u001b[0m\n\u001b[0;32m--> 610\u001b[0;31m         \u001b[0mX\u001b[0m \u001b[0;34m=\u001b[0m \u001b[0mself\u001b[0m\u001b[0;34m.\u001b[0m\u001b[0mestimators_\u001b[0m\u001b[0;34m[\u001b[0m\u001b[0;36m0\u001b[0m\u001b[0;34m,\u001b[0m \u001b[0;36m0\u001b[0m\u001b[0;34m]\u001b[0m\u001b[0;34m.\u001b[0m\u001b[0m_validate_X_predict\u001b[0m\u001b[0;34m(\u001b[0m\u001b[0mX\u001b[0m\u001b[0;34m,\u001b[0m \u001b[0mcheck_input\u001b[0m\u001b[0;34m=\u001b[0m\u001b[0;32mTrue\u001b[0m\u001b[0;34m)\u001b[0m\u001b[0;34m\u001b[0m\u001b[0;34m\u001b[0m\u001b[0m\n\u001b[0m\u001b[1;32m    611\u001b[0m         \u001b[0;32mif\u001b[0m \u001b[0mX\u001b[0m\u001b[0;34m.\u001b[0m\u001b[0mshape\u001b[0m\u001b[0;34m[\u001b[0m\u001b[0;36m1\u001b[0m\u001b[0;34m]\u001b[0m \u001b[0;34m!=\u001b[0m \u001b[0mself\u001b[0m\u001b[0;34m.\u001b[0m\u001b[0mn_features_\u001b[0m\u001b[0;34m:\u001b[0m\u001b[0;34m\u001b[0m\u001b[0;34m\u001b[0m\u001b[0m\n\u001b[1;32m    612\u001b[0m             raise ValueError(\"X.shape[1] should be {0:d}, not {1:d}.\".format(\n",
            "\u001b[0;32m/shared-libs/python3.7/py/lib/python3.7/site-packages/sklearn/tree/_classes.py\u001b[0m in \u001b[0;36m_validate_X_predict\u001b[0;34m(self, X, check_input)\u001b[0m\n\u001b[1;32m    401\u001b[0m         \u001b[0;32mif\u001b[0m \u001b[0mcheck_input\u001b[0m\u001b[0;34m:\u001b[0m\u001b[0;34m\u001b[0m\u001b[0;34m\u001b[0m\u001b[0m\n\u001b[1;32m    402\u001b[0m             X = self._validate_data(X, dtype=DTYPE, accept_sparse=\"csr\",\n\u001b[0;32m--> 403\u001b[0;31m                                     reset=False)\n\u001b[0m\u001b[1;32m    404\u001b[0m             if issparse(X) and (X.indices.dtype != np.intc or\n\u001b[1;32m    405\u001b[0m                                 X.indptr.dtype != np.intc):\n",
            "\u001b[0;32m/shared-libs/python3.7/py/lib/python3.7/site-packages/sklearn/base.py\u001b[0m in \u001b[0;36m_validate_data\u001b[0;34m(self, X, y, reset, validate_separately, **check_params)\u001b[0m\n\u001b[1;32m    435\u001b[0m \u001b[0;34m\u001b[0m\u001b[0m\n\u001b[1;32m    436\u001b[0m         \u001b[0;32mif\u001b[0m \u001b[0mcheck_params\u001b[0m\u001b[0;34m.\u001b[0m\u001b[0mget\u001b[0m\u001b[0;34m(\u001b[0m\u001b[0;34m'ensure_2d'\u001b[0m\u001b[0;34m,\u001b[0m \u001b[0;32mTrue\u001b[0m\u001b[0;34m)\u001b[0m\u001b[0;34m:\u001b[0m\u001b[0;34m\u001b[0m\u001b[0;34m\u001b[0m\u001b[0m\n\u001b[0;32m--> 437\u001b[0;31m             \u001b[0mself\u001b[0m\u001b[0;34m.\u001b[0m\u001b[0m_check_n_features\u001b[0m\u001b[0;34m(\u001b[0m\u001b[0mX\u001b[0m\u001b[0;34m,\u001b[0m \u001b[0mreset\u001b[0m\u001b[0;34m=\u001b[0m\u001b[0mreset\u001b[0m\u001b[0;34m)\u001b[0m\u001b[0;34m\u001b[0m\u001b[0;34m\u001b[0m\u001b[0m\n\u001b[0m\u001b[1;32m    438\u001b[0m \u001b[0;34m\u001b[0m\u001b[0m\n\u001b[1;32m    439\u001b[0m         \u001b[0;32mreturn\u001b[0m \u001b[0mout\u001b[0m\u001b[0;34m\u001b[0m\u001b[0;34m\u001b[0m\u001b[0m\n",
            "\u001b[0;32m/shared-libs/python3.7/py/lib/python3.7/site-packages/sklearn/base.py\u001b[0m in \u001b[0;36m_check_n_features\u001b[0;34m(self, X, reset)\u001b[0m\n\u001b[1;32m    364\u001b[0m         \u001b[0;32mif\u001b[0m \u001b[0mn_features\u001b[0m \u001b[0;34m!=\u001b[0m \u001b[0mself\u001b[0m\u001b[0;34m.\u001b[0m\u001b[0mn_features_in_\u001b[0m\u001b[0;34m:\u001b[0m\u001b[0;34m\u001b[0m\u001b[0;34m\u001b[0m\u001b[0m\n\u001b[1;32m    365\u001b[0m             raise ValueError(\n\u001b[0;32m--> 366\u001b[0;31m                 \u001b[0;34mf\"X has {n_features} features, but {self.__class__.__name__} \"\u001b[0m\u001b[0;34m\u001b[0m\u001b[0;34m\u001b[0m\u001b[0m\n\u001b[0m\u001b[1;32m    367\u001b[0m                 f\"is expecting {self.n_features_in_} features as input.\")\n\u001b[1;32m    368\u001b[0m \u001b[0;34m\u001b[0m\u001b[0m\n",
            "\u001b[0;31mValueError\u001b[0m: X has 1 features, but DecisionTreeRegressor is expecting 6 features as input."
          ]
        },
        {
          "data": {
            "text/plain": "<Figure size 432x288 with 1 Axes>",
            "image/png": "[encoded data removed]"
          },
          "metadata": {
            "needs_background": "light"
          },
          "output_type": "display_data"
        }
      ]
    },
    {
      "cell_type": "code",
      "metadata": {
        "tags": [],
        "cell_id": "00031-982a3a7a-44e8-4a9a-beb5-8da9f9074038",
        "deepnote_to_be_reexecuted": false,
        "source_hash": "1074cf72",
        "execution_start": 1615589634971,
        "execution_millis": 1,
        "deepnote_cell_type": "code"
      },
      "source": "# gradient_boost_grid = {'learning_rate' : [0.001, 0.1, 0.5, 1.0],\n#                       'max_depth': [4, 3, 2, None],\n#                       'max_features': ['sqrt', 'log2', None],\n#                       'min_samples_split': [2, 4],\n#                       'min_samples_leaf': [1, 2, 4],\n#                       #'bootstrap': [True, False],\n#                       'n_estimators': [10, 20, 40, 80, 100, 120],\n#                       'random_state': [1]}\n\n# gb_gridsearch = GridSearchCV(GradientBoostingRegressor(),\n#                              gradient_boost_grid,\n#                              n_jobs=-1,\n#                              verbose=True,\n#                              scoring='neg_mean_squared_error')\n# gb_gridsearch.fit(X_train, y_train)\n\n# print(\"best parameters:\", gb_gridsearch.best_params_)\n\n# best_gb_model = gb_gridsearch.best_estimator_       ",
      "execution_count": null,
      "outputs": []
    },
    {
      "cell_type": "markdown",
      "source": "#PIPELINES HELL YEA\n",
      "metadata": {
        "tags": [],
        "cell_id": "00033-d8b8f611-0d5c-45f5-8e52-759281920967",
        "deepnote_cell_type": "markdown"
      }
    },
    {
      "cell_type": "markdown",
      "source": "",
      "metadata": {
        "tags": [],
        "cell_id": "00034-df393b87-60df-49b8-b6b3-f10e0cd72a42",
        "deepnote_cell_type": "markdown"
      }
    },
    {
      "cell_type": "code",
      "metadata": {
        "tags": [],
        "cell_id": "00035-8c25df0c-54b9-4693-b3e2-17307f025543",
        "deepnote_to_be_reexecuted": false,
        "source_hash": "87b58086",
        "execution_millis": 481,
        "execution_start": 1615589636128,
        "deepnote_cell_type": "code"
      },
      "source": "farm_train",
      "execution_count": null,
      "outputs": [
        {
          "output_type": "execute_result",
          "execution_count": 28,
          "data": {
            "application/vnd.deepnote.dataframe.v2+json": {
              "row_count": 401125,
              "column_count": 52,
              "columns": [
                {
                  "name": "MachineID",
                  "dtype": "int64"
                },
                {
                  "name": "ModelID",
                  "dtype": "int64"
                },
                {
                  "name": "datasource",
                  "dtype": "int64"
                },
                {
                  "name": "auctioneerID",
                  "dtype": "float64"
                },
                {
                  "name": "YearMade",
                  "dtype": "int64"
                },
                {
                  "name": "MachineHoursCurrentMeter",
                  "dtype": "float64"
                },
                {
                  "name": "UsageBand",
                  "dtype": "object"
                },
                {
                  "name": "saledate",
                  "dtype": "object"
                },
                {
                  "name": "fiModelDesc",
                  "dtype": "object"
                },
                {
                  "name": "fiBaseModel",
                  "dtype": "object"
                },
                {
                  "name": "fiSecondaryDesc",
                  "dtype": "object"
                },
                {
                  "name": "fiModelSeries",
                  "dtype": "object"
                },
                {
                  "name": "fiModelDescriptor",
                  "dtype": "object"
                },
                {
                  "name": "ProductSize",
                  "dtype": "object"
                },
                {
                  "name": "fiProductClassDesc",
                  "dtype": "object"
                },
                {
                  "name": "state",
                  "dtype": "object"
                },
                {
                  "name": "ProductGroup",
                  "dtype": "object"
                },
                {
                  "name": "ProductGroupDesc",
                  "dtype": "object"
                },
                {
                  "name": "Drive_System",
                  "dtype": "object"
                },
                {
                  "name": "Enclosure",
                  "dtype": "object"
                },
                {
                  "name": "Forks",
                  "dtype": "object"
                },
                {
                  "name": "Pad_Type",
                  "dtype": "object"
                },
                {
                  "name": "Ride_Control",
                  "dtype": "object"
                },
                {
                  "name": "Stick",
                  "dtype": "object"
                },
                {
                  "name": "Transmission",
                  "dtype": "object"
                },
                {
                  "name": "Turbocharged",
                  "dtype": "object"
                },
                {
                  "name": "Blade_Extension",
                  "dtype": "object"
                },
                {
                  "name": "Blade_Width",
                  "dtype": "object"
                },
                {
                  "name": "Enclosure_Type",
                  "dtype": "object"
                },
                {
                  "name": "Engine_Horsepower",
                  "dtype": "object"
                },
                {
                  "name": "Hydraulics",
                  "dtype": "object"
                },
                {
                  "name": "Pushblock",
                  "dtype": "object"
                },
                {
                  "name": "Ripper",
                  "dtype": "object"
                },
                {
                  "name": "Scarifier",
                  "dtype": "object"
                },
                {
                  "name": "Tip_Control",
                  "dtype": "object"
                },
                {
                  "name": "Tire_Size",
                  "dtype": "object"
                },
                {
                  "name": "Coupler",
                  "dtype": "object"
                },
                {
                  "name": "Coupler_System",
                  "dtype": "object"
                },
                {
                  "name": "Grouser_Tracks",
                  "dtype": "object"
                },
                {
                  "name": "Hydraulics_Flow",
                  "dtype": "object"
                },
                {
                  "name": "Track_Type",
                  "dtype": "object"
                },
                {
                  "name": "Undercarriage_Pad_Width",
                  "dtype": "object"
                },
                {
                  "name": "Stick_Length",
                  "dtype": "object"
                },
                {
                  "name": "Thumb",
                  "dtype": "object"
                },
                {
                  "name": "Pattern_Changer",
                  "dtype": "object"
                },
                {
                  "name": "Grouser_Type",
                  "dtype": "object"
                },
                {
                  "name": "Backhoe_Mounting",
                  "dtype": "object"
                },
                {
                  "name": "Blade_Type",
                  "dtype": "object"
                },
                {
                  "name": "Travel_Controls",
                  "dtype": "object"
                },
                {
                  "name": "Differential_Type",
                  "dtype": "object"
                },
                {
                  "name": "Steering_Controls",
                  "dtype": "object"
                },
                {
                  "name": "SalePricelog",
                  "dtype": "float64"
                },
                {
                  "name": "_deepnote_index_column",
                  "dtype": "int64"
                }
              ],
              "rows_top": [
                {
                  "MachineID": 999089,
                  "ModelID": 3157,
                  "datasource": 121,
                  "auctioneerID": 3,
                  "YearMade": 2004,
                  "MachineHoursCurrentMeter": 68,
                  "UsageBand": "Low",
                  "saledate": "11/16/2006 0:00",
                  "fiModelDesc": "521D",
                  "fiBaseModel": "521",
                  "fiSecondaryDesc": "D",
                  "fiModelSeries": "nan",
                  "fiModelDescriptor": "nan",
                  "ProductSize": "nan",
                  "fiProductClassDesc": "Wheel Loader - 110.0 to 120.0 Horsepower",
                  "state": "Alabama",
                  "ProductGroup": "WL",
                  "ProductGroupDesc": "Wheel Loader",
                  "Drive_System": "nan",
                  "Enclosure": "EROPS w AC",
                  "Forks": "None or Unspecified",
                  "Pad_Type": "nan",
                  "Ride_Control": "None or Unspecified",
                  "Stick": "nan",
                  "Transmission": "nan",
                  "Turbocharged": "nan",
                  "Blade_Extension": "nan",
                  "Blade_Width": "nan",
                  "Enclosure_Type": "nan",
                  "Engine_Horsepower": "nan",
                  "Hydraulics": "2 Valve",
                  "Pushblock": "nan",
                  "Ripper": "nan",
                  "Scarifier": "nan",
                  "Tip_Control": "nan",
                  "Tire_Size": "None or Unspecified",
                  "Coupler": "None or Unspecified",
                  "Coupler_System": "nan",
                  "Grouser_Tracks": "nan",
                  "Hydraulics_Flow": "nan",
                  "Track_Type": "nan",
                  "Undercarriage_Pad_Width": "nan",
                  "Stick_Length": "nan",
                  "Thumb": "nan",
                  "Pattern_Changer": "nan",
                  "Grouser_Type": "nan",
                  "Backhoe_Mounting": "nan",
                  "Blade_Type": "nan",
                  "Travel_Controls": "nan",
                  "Differential_Type": "Standard",
                  "Steering_Controls": "Conventional",
                  "SalePricelog": 11.097410021008562,
                  "_deepnote_index_column": 0
                },
                {
                  "MachineID": 117657,
                  "ModelID": 77,
                  "datasource": 121,
                  "auctioneerID": 3,
                  "YearMade": 1996,
                  "MachineHoursCurrentMeter": 4640,
                  "UsageBand": "Low",
                  "saledate": "3/26/2004 0:00",
                  "fiModelDesc": "950FII",
                  "fiBaseModel": "950",
                  "fiSecondaryDesc": "F",
                  "fiModelSeries": "II",
                  "fiModelDescriptor": "nan",
                  "ProductSize": "Medium",
                  "fiProductClassDesc": "Wheel Loader - 150.0 to 175.0 Horsepower",
                  "state": "North Carolina",
                  "ProductGroup": "WL",
                  "ProductGroupDesc": "Wheel Loader",
                  "Drive_System": "nan",
                  "Enclosure": "EROPS w AC",
                  "Forks": "None or Unspecified",
                  "Pad_Type": "nan",
                  "Ride_Control": "None or Unspecified",
                  "Stick": "nan",
                  "Transmission": "nan",
                  "Turbocharged": "nan",
                  "Blade_Extension": "nan",
                  "Blade_Width": "nan",
                  "Enclosure_Type": "nan",
                  "Engine_Horsepower": "nan",
                  "Hydraulics": "2 Valve",
                  "Pushblock": "nan",
                  "Ripper": "nan",
                  "Scarifier": "nan",
                  "Tip_Control": "nan",
                  "Tire_Size": "23.5",
                  "Coupler": "None or Unspecified",
                  "Coupler_System": "nan",
                  "Grouser_Tracks": "nan",
                  "Hydraulics_Flow": "nan",
                  "Track_Type": "nan",
                  "Undercarriage_Pad_Width": "nan",
                  "Stick_Length": "nan",
                  "Thumb": "nan",
                  "Pattern_Changer": "nan",
                  "Grouser_Type": "nan",
                  "Backhoe_Mounting": "nan",
                  "Blade_Type": "nan",
                  "Travel_Controls": "nan",
                  "Differential_Type": "Standard",
                  "Steering_Controls": "Conventional",
                  "SalePricelog": 10.950806546816688,
                  "_deepnote_index_column": 1
                },
                {
                  "MachineID": 434808,
                  "ModelID": 7009,
                  "datasource": 121,
                  "auctioneerID": 3,
                  "YearMade": 2001,
                  "MachineHoursCurrentMeter": 2838,
                  "UsageBand": "High",
                  "saledate": "2/26/2004 0:00",
                  "fiModelDesc": "226",
                  "fiBaseModel": "226",
                  "fiSecondaryDesc": "nan",
                  "fiModelSeries": "nan",
                  "fiModelDescriptor": "nan",
                  "ProductSize": "nan",
                  "fiProductClassDesc": "Skid Steer Loader - 1351.0 to 1601.0 Lb Operating Capacity",
                  "state": "New York",
                  "ProductGroup": "SSL",
                  "ProductGroupDesc": "Skid Steer Loaders",
                  "Drive_System": "nan",
                  "Enclosure": "OROPS",
                  "Forks": "None or Unspecified",
                  "Pad_Type": "nan",
                  "Ride_Control": "nan",
                  "Stick": "nan",
                  "Transmission": "nan",
                  "Turbocharged": "nan",
                  "Blade_Extension": "nan",
                  "Blade_Width": "nan",
                  "Enclosure_Type": "nan",
                  "Engine_Horsepower": "nan",
                  "Hydraulics": "Auxiliary",
                  "Pushblock": "nan",
                  "Ripper": "nan",
                  "Scarifier": "nan",
                  "Tip_Control": "nan",
                  "Tire_Size": "nan",
                  "Coupler": "None or Unspecified",
                  "Coupler_System": "None or Unspecified",
                  "Grouser_Tracks": "None or Unspecified",
                  "Hydraulics_Flow": "Standard",
                  "Track_Type": "nan",
                  "Undercarriage_Pad_Width": "nan",
                  "Stick_Length": "nan",
                  "Thumb": "nan",
                  "Pattern_Changer": "nan",
                  "Grouser_Type": "nan",
                  "Backhoe_Mounting": "nan",
                  "Blade_Type": "nan",
                  "Travel_Controls": "nan",
                  "Differential_Type": "nan",
                  "Steering_Controls": "nan",
                  "SalePricelog": 9.210340371976184,
                  "_deepnote_index_column": 2
                },
                {
                  "MachineID": 1026470,
                  "ModelID": 332,
                  "datasource": 121,
                  "auctioneerID": 3,
                  "YearMade": 2001,
                  "MachineHoursCurrentMeter": 3486,
                  "UsageBand": "High",
                  "saledate": "5/19/2011 0:00",
                  "fiModelDesc": "PC120-6E",
                  "fiBaseModel": "PC120",
                  "fiSecondaryDesc": "nan",
                  "fiModelSeries": "-6E",
                  "fiModelDescriptor": "nan",
                  "ProductSize": "Small",
                  "fiProductClassDesc": "Hydraulic Excavator, Track - 12.0 to 14.0 Metric Tons",
                  "state": "Texas",
                  "ProductGroup": "TEX",
                  "ProductGroupDesc": "Track Excavators",
                  "Drive_System": "nan",
                  "Enclosure": "EROPS w AC",
                  "Forks": "nan",
                  "Pad_Type": "nan",
                  "Ride_Control": "nan",
                  "Stick": "nan",
                  "Transmission": "nan",
                  "Turbocharged": "nan",
                  "Blade_Extension": "nan",
                  "Blade_Width": "nan",
                  "Enclosure_Type": "nan",
                  "Engine_Horsepower": "nan",
                  "Hydraulics": "2 Valve",
                  "Pushblock": "nan",
                  "Ripper": "nan",
                  "Scarifier": "nan",
                  "Tip_Control": "nan",
                  "Tire_Size": "nan",
                  "Coupler": "None or Unspecified",
                  "Coupler_System": "nan",
                  "Grouser_Tracks": "nan",
                  "Hydraulics_Flow": "nan",
                  "Track_Type": "nan",
                  "Undercarriage_Pad_Width": "nan",
                  "Stick_Length": "nan",
                  "Thumb": "nan",
                  "Pattern_Changer": "nan",
                  "Grouser_Type": "nan",
                  "Backhoe_Mounting": "nan",
                  "Blade_Type": "nan",
                  "Travel_Controls": "nan",
                  "Differential_Type": "nan",
                  "Steering_Controls": "nan",
                  "SalePricelog": 10.558413520275876,
                  "_deepnote_index_column": 3
                },
                {
                  "MachineID": 1057373,
                  "ModelID": 17311,
                  "datasource": 121,
                  "auctioneerID": 3,
                  "YearMade": 2007,
                  "MachineHoursCurrentMeter": 722,
                  "UsageBand": "Medium",
                  "saledate": "7/23/2009 0:00",
                  "fiModelDesc": "S175",
                  "fiBaseModel": "S175",
                  "fiSecondaryDesc": "nan",
                  "fiModelSeries": "nan",
                  "fiModelDescriptor": "nan",
                  "ProductSize": "nan",
                  "fiProductClassDesc": "Skid Steer Loader - 1601.0 to 1751.0 Lb Operating Capacity",
                  "state": "New York",
                  "ProductGroup": "SSL",
                  "ProductGroupDesc": "Skid Steer Loaders",
                  "Drive_System": "nan",
                  "Enclosure": "EROPS",
                  "Forks": "None or Unspecified",
                  "Pad_Type": "nan",
                  "Ride_Control": "nan",
                  "Stick": "nan",
                  "Transmission": "nan",
                  "Turbocharged": "nan",
                  "Blade_Extension": "nan",
                  "Blade_Width": "nan",
                  "Enclosure_Type": "nan",
                  "Engine_Horsepower": "nan",
                  "Hydraulics": "Auxiliary",
                  "Pushblock": "nan",
                  "Ripper": "nan",
                  "Scarifier": "nan",
                  "Tip_Control": "nan",
                  "Tire_Size": "nan",
                  "Coupler": "None or Unspecified",
                  "Coupler_System": "None or Unspecified",
                  "Grouser_Tracks": "None or Unspecified",
                  "Hydraulics_Flow": "Standard",
                  "Track_Type": "nan",
                  "Undercarriage_Pad_Width": "nan",
                  "Stick_Length": "nan",
                  "Thumb": "nan",
                  "Pattern_Changer": "nan",
                  "Grouser_Type": "nan",
                  "Backhoe_Mounting": "nan",
                  "Blade_Type": "nan",
                  "Travel_Controls": "nan",
                  "Differential_Type": "nan",
                  "Steering_Controls": "nan",
                  "SalePricelog": 9.305650551780507,
                  "_deepnote_index_column": 4
                },
                {
                  "MachineID": 1001274,
                  "ModelID": 4605,
                  "datasource": 121,
                  "auctioneerID": 3,
                  "YearMade": 2004,
                  "MachineHoursCurrentMeter": 508,
                  "UsageBand": "Low",
                  "saledate": "12/18/2008 0:00",
                  "fiModelDesc": "310G",
                  "fiBaseModel": "310",
                  "fiSecondaryDesc": "G",
                  "fiModelSeries": "nan",
                  "fiModelDescriptor": "nan",
                  "ProductSize": "nan",
                  "fiProductClassDesc": "Backhoe Loader - 14.0 to 15.0 Ft Standard Digging Depth",
                  "state": "Arizona",
                  "ProductGroup": "BL",
                  "ProductGroupDesc": "Backhoe Loaders",
                  "Drive_System": "Four Wheel Drive",
                  "Enclosure": "OROPS",
                  "Forks": "None or Unspecified",
                  "Pad_Type": "None or Unspecified",
                  "Ride_Control": "No",
                  "Stick": "Extended",
                  "Transmission": "Powershuttle",
                  "Turbocharged": "None or Unspecified",
                  "Blade_Extension": "nan",
                  "Blade_Width": "nan",
                  "Enclosure_Type": "nan",
                  "Engine_Horsepower": "nan",
                  "Hydraulics": "nan",
                  "Pushblock": "nan",
                  "Ripper": "nan",
                  "Scarifier": "nan",
                  "Tip_Control": "nan",
                  "Tire_Size": "nan",
                  "Coupler": "nan",
                  "Coupler_System": "nan",
                  "Grouser_Tracks": "nan",
                  "Hydraulics_Flow": "nan",
                  "Track_Type": "nan",
                  "Undercarriage_Pad_Width": "nan",
                  "Stick_Length": "nan",
                  "Thumb": "nan",
                  "Pattern_Changer": "nan",
                  "Grouser_Type": "nan",
                  "Backhoe_Mounting": "nan",
                  "Blade_Type": "nan",
                  "Travel_Controls": "nan",
                  "Differential_Type": "nan",
                  "Steering_Controls": "nan",
                  "SalePricelog": 10.184900011974314,
                  "_deepnote_index_column": 5
                },
                {
                  "MachineID": 772701,
                  "ModelID": 1937,
                  "datasource": 121,
                  "auctioneerID": 3,
                  "YearMade": 1993,
                  "MachineHoursCurrentMeter": 11540,
                  "UsageBand": "High",
                  "saledate": "8/26/2004 0:00",
                  "fiModelDesc": "790ELC",
                  "fiBaseModel": "790",
                  "fiSecondaryDesc": "E",
                  "fiModelSeries": "nan",
                  "fiModelDescriptor": "LC",
                  "ProductSize": "Large / Medium",
                  "fiProductClassDesc": "Hydraulic Excavator, Track - 21.0 to 24.0 Metric Tons",
                  "state": "Florida",
                  "ProductGroup": "TEX",
                  "ProductGroupDesc": "Track Excavators",
                  "Drive_System": "nan",
                  "Enclosure": "EROPS",
                  "Forks": "nan",
                  "Pad_Type": "nan",
                  "Ride_Control": "nan",
                  "Stick": "nan",
                  "Transmission": "nan",
                  "Turbocharged": "nan",
                  "Blade_Extension": "nan",
                  "Blade_Width": "nan",
                  "Enclosure_Type": "nan",
                  "Engine_Horsepower": "nan",
                  "Hydraulics": "Standard",
                  "Pushblock": "nan",
                  "Ripper": "nan",
                  "Scarifier": "nan",
                  "Tip_Control": "nan",
                  "Tire_Size": "nan",
                  "Coupler": "None or Unspecified",
                  "Coupler_System": "nan",
                  "Grouser_Tracks": "nan",
                  "Hydraulics_Flow": "nan",
                  "Track_Type": "Steel",
                  "Undercarriage_Pad_Width": "None or Unspecified",
                  "Stick_Length": "None or Unspecified",
                  "Thumb": "None or Unspecified",
                  "Pattern_Changer": "None or Unspecified",
                  "Grouser_Type": "Double",
                  "Backhoe_Mounting": "nan",
                  "Blade_Type": "nan",
                  "Travel_Controls": "nan",
                  "Differential_Type": "nan",
                  "Steering_Controls": "nan",
                  "SalePricelog": 9.95227771670556,
                  "_deepnote_index_column": 6
                },
                {
                  "MachineID": 902002,
                  "ModelID": 3539,
                  "datasource": 121,
                  "auctioneerID": 3,
                  "YearMade": 2001,
                  "MachineHoursCurrentMeter": 4883,
                  "UsageBand": "High",
                  "saledate": "11/17/2005 0:00",
                  "fiModelDesc": "416D",
                  "fiBaseModel": "416",
                  "fiSecondaryDesc": "D",
                  "fiModelSeries": "nan",
                  "fiModelDescriptor": "nan",
                  "ProductSize": "nan",
                  "fiProductClassDesc": "Backhoe Loader - 14.0 to 15.0 Ft Standard Digging Depth",
                  "state": "Illinois",
                  "ProductGroup": "BL",
                  "ProductGroupDesc": "Backhoe Loaders",
                  "Drive_System": "Four Wheel Drive",
                  "Enclosure": "OROPS",
                  "Forks": "None or Unspecified",
                  "Pad_Type": "Reversible",
                  "Ride_Control": "No",
                  "Stick": "Standard",
                  "Transmission": "Standard",
                  "Turbocharged": "Yes",
                  "Blade_Extension": "nan",
                  "Blade_Width": "nan",
                  "Enclosure_Type": "nan",
                  "Engine_Horsepower": "nan",
                  "Hydraulics": "nan",
                  "Pushblock": "nan",
                  "Ripper": "nan",
                  "Scarifier": "nan",
                  "Tip_Control": "nan",
                  "Tire_Size": "nan",
                  "Coupler": "nan",
                  "Coupler_System": "nan",
                  "Grouser_Tracks": "nan",
                  "Hydraulics_Flow": "nan",
                  "Track_Type": "nan",
                  "Undercarriage_Pad_Width": "nan",
                  "Stick_Length": "nan",
                  "Thumb": "nan",
                  "Pattern_Changer": "nan",
                  "Grouser_Type": "nan",
                  "Backhoe_Mounting": "nan",
                  "Blade_Type": "nan",
                  "Travel_Controls": "nan",
                  "Differential_Type": "nan",
                  "Steering_Controls": "nan",
                  "SalePricelog": 10.203592144986466,
                  "_deepnote_index_column": 7
                },
                {
                  "MachineID": 1036251,
                  "ModelID": 36003,
                  "datasource": 121,
                  "auctioneerID": 3,
                  "YearMade": 2008,
                  "MachineHoursCurrentMeter": 302,
                  "UsageBand": "Low",
                  "saledate": "8/27/2009 0:00",
                  "fiModelDesc": "430HAG",
                  "fiBaseModel": "430",
                  "fiSecondaryDesc": "HAG",
                  "fiModelSeries": "nan",
                  "fiModelDescriptor": "nan",
                  "ProductSize": "Mini",
                  "fiProductClassDesc": "Hydraulic Excavator, Track - 3.0 to 4.0 Metric Tons",
                  "state": "Texas",
                  "ProductGroup": "TEX",
                  "ProductGroupDesc": "Track Excavators",
                  "Drive_System": "nan",
                  "Enclosure": "EROPS",
                  "Forks": "nan",
                  "Pad_Type": "nan",
                  "Ride_Control": "nan",
                  "Stick": "nan",
                  "Transmission": "nan",
                  "Turbocharged": "nan",
                  "Blade_Extension": "nan",
                  "Blade_Width": "nan",
                  "Enclosure_Type": "nan",
                  "Engine_Horsepower": "nan",
                  "Hydraulics": "Auxiliary",
                  "Pushblock": "nan",
                  "Ripper": "nan",
                  "Scarifier": "nan",
                  "Tip_Control": "nan",
                  "Tire_Size": "nan",
                  "Coupler": "Manual",
                  "Coupler_System": "nan",
                  "Grouser_Tracks": "nan",
                  "Hydraulics_Flow": "nan",
                  "Track_Type": "Rubber",
                  "Undercarriage_Pad_Width": "None or Unspecified",
                  "Stick_Length": "None or Unspecified",
                  "Thumb": "None or Unspecified",
                  "Pattern_Changer": "None or Unspecified",
                  "Grouser_Type": "Double",
                  "Backhoe_Mounting": "nan",
                  "Blade_Type": "nan",
                  "Travel_Controls": "nan",
                  "Differential_Type": "nan",
                  "Steering_Controls": "nan",
                  "SalePricelog": 9.975808214115753,
                  "_deepnote_index_column": 8
                }
              ],
              "rows_bottom": [
                {
                  "MachineID": 1843374,
                  "ModelID": 21437,
                  "datasource": 149,
                  "auctioneerID": 2,
                  "YearMade": 2005,
                  "MachineHoursCurrentMeter": "nan",
                  "UsageBand": "nan",
                  "saledate": "10/25/2011 0:00",
                  "fiModelDesc": "35N",
                  "fiBaseModel": "35",
                  "fiSecondaryDesc": "N",
                  "fiModelSeries": "nan",
                  "fiModelDescriptor": "nan",
                  "ProductSize": "Mini",
                  "fiProductClassDesc": "Hydraulic Excavator, Track - 3.0 to 4.0 Metric Tons",
                  "state": "Florida",
                  "ProductGroup": "TEX",
                  "ProductGroupDesc": "Track Excavators",
                  "Drive_System": "nan",
                  "Enclosure": "EROPS",
                  "Forks": "nan",
                  "Pad_Type": "nan",
                  "Ride_Control": "nan",
                  "Stick": "nan",
                  "Transmission": "nan",
                  "Turbocharged": "nan",
                  "Blade_Extension": "nan",
                  "Blade_Width": "nan",
                  "Enclosure_Type": "nan",
                  "Engine_Horsepower": "nan",
                  "Hydraulics": "Standard",
                  "Pushblock": "nan",
                  "Ripper": "nan",
                  "Scarifier": "nan",
                  "Tip_Control": "nan",
                  "Tire_Size": "nan",
                  "Coupler": "None or Unspecified",
                  "Coupler_System": "nan",
                  "Grouser_Tracks": "nan",
                  "Hydraulics_Flow": "nan",
                  "Track_Type": "Steel",
                  "Undercarriage_Pad_Width": "None or Unspecified",
                  "Stick_Length": "None or Unspecified",
                  "Thumb": "None or Unspecified",
                  "Pattern_Changer": "None or Unspecified",
                  "Grouser_Type": "Double",
                  "Backhoe_Mounting": "nan",
                  "Blade_Type": "nan",
                  "Travel_Controls": "nan",
                  "Differential_Type": "nan",
                  "Steering_Controls": "nan",
                  "SalePricelog": 9.210340371976184,
                  "_deepnote_index_column": 401115
                },
                {
                  "MachineID": 1825337,
                  "ModelID": 21437,
                  "datasource": 149,
                  "auctioneerID": 2,
                  "YearMade": 2005,
                  "MachineHoursCurrentMeter": "nan",
                  "UsageBand": "nan",
                  "saledate": "10/25/2011 0:00",
                  "fiModelDesc": "35N",
                  "fiBaseModel": "35",
                  "fiSecondaryDesc": "N",
                  "fiModelSeries": "nan",
                  "fiModelDescriptor": "nan",
                  "ProductSize": "Mini",
                  "fiProductClassDesc": "Hydraulic Excavator, Track - 3.0 to 4.0 Metric Tons",
                  "state": "Florida",
                  "ProductGroup": "TEX",
                  "ProductGroupDesc": "Track Excavators",
                  "Drive_System": "nan",
                  "Enclosure": "EROPS",
                  "Forks": "nan",
                  "Pad_Type": "nan",
                  "Ride_Control": "nan",
                  "Stick": "nan",
                  "Transmission": "nan",
                  "Turbocharged": "nan",
                  "Blade_Extension": "nan",
                  "Blade_Width": "nan",
                  "Enclosure_Type": "nan",
                  "Engine_Horsepower": "nan",
                  "Hydraulics": "Standard",
                  "Pushblock": "nan",
                  "Ripper": "nan",
                  "Scarifier": "nan",
                  "Tip_Control": "nan",
                  "Tire_Size": "nan",
                  "Coupler": "None or Unspecified",
                  "Coupler_System": "nan",
                  "Grouser_Tracks": "nan",
                  "Hydraulics_Flow": "nan",
                  "Track_Type": "Steel",
                  "Undercarriage_Pad_Width": "None or Unspecified",
                  "Stick_Length": "None or Unspecified",
                  "Thumb": "None or Unspecified",
                  "Pattern_Changer": "None or Unspecified",
                  "Grouser_Type": "Double",
                  "Backhoe_Mounting": "nan",
                  "Blade_Type": "nan",
                  "Travel_Controls": "nan",
                  "Differential_Type": "nan",
                  "Steering_Controls": "nan",
                  "SalePricelog": 9.047821442478408,
                  "_deepnote_index_column": 401116
                },
                {
                  "MachineID": 1821747,
                  "ModelID": 21437,
                  "datasource": 149,
                  "auctioneerID": 2,
                  "YearMade": 2005,
                  "MachineHoursCurrentMeter": "nan",
                  "UsageBand": "nan",
                  "saledate": "10/25/2011 0:00",
                  "fiModelDesc": "35N",
                  "fiBaseModel": "35",
                  "fiSecondaryDesc": "N",
                  "fiModelSeries": "nan",
                  "fiModelDescriptor": "nan",
                  "ProductSize": "Mini",
                  "fiProductClassDesc": "Hydraulic Excavator, Track - 3.0 to 4.0 Metric Tons",
                  "state": "Florida",
                  "ProductGroup": "TEX",
                  "ProductGroupDesc": "Track Excavators",
                  "Drive_System": "nan",
                  "Enclosure": "EROPS",
                  "Forks": "nan",
                  "Pad_Type": "nan",
                  "Ride_Control": "nan",
                  "Stick": "nan",
                  "Transmission": "nan",
                  "Turbocharged": "nan",
                  "Blade_Extension": "nan",
                  "Blade_Width": "nan",
                  "Enclosure_Type": "nan",
                  "Engine_Horsepower": "nan",
                  "Hydraulics": "Standard",
                  "Pushblock": "nan",
                  "Ripper": "nan",
                  "Scarifier": "nan",
                  "Tip_Control": "nan",
                  "Tire_Size": "nan",
                  "Coupler": "None or Unspecified",
                  "Coupler_System": "nan",
                  "Grouser_Tracks": "nan",
                  "Hydraulics_Flow": "nan",
                  "Track_Type": "Steel",
                  "Undercarriage_Pad_Width": "None or Unspecified",
                  "Stick_Length": "None or Unspecified",
                  "Thumb": "None or Unspecified",
                  "Pattern_Changer": "None or Unspecified",
                  "Grouser_Type": "Double",
                  "Backhoe_Mounting": "nan",
                  "Blade_Type": "nan",
                  "Travel_Controls": "nan",
                  "Differential_Type": "nan",
                  "Steering_Controls": "nan",
                  "SalePricelog": 9.210340371976184,
                  "_deepnote_index_column": 401117
                },
                {
                  "MachineID": 1828862,
                  "ModelID": 21437,
                  "datasource": 149,
                  "auctioneerID": 2,
                  "YearMade": 2006,
                  "MachineHoursCurrentMeter": "nan",
                  "UsageBand": "nan",
                  "saledate": "10/25/2011 0:00",
                  "fiModelDesc": "35N",
                  "fiBaseModel": "35",
                  "fiSecondaryDesc": "N",
                  "fiModelSeries": "nan",
                  "fiModelDescriptor": "nan",
                  "ProductSize": "Mini",
                  "fiProductClassDesc": "Hydraulic Excavator, Track - 3.0 to 4.0 Metric Tons",
                  "state": "Florida",
                  "ProductGroup": "TEX",
                  "ProductGroupDesc": "Track Excavators",
                  "Drive_System": "nan",
                  "Enclosure": "EROPS",
                  "Forks": "nan",
                  "Pad_Type": "nan",
                  "Ride_Control": "nan",
                  "Stick": "nan",
                  "Transmission": "nan",
                  "Turbocharged": "nan",
                  "Blade_Extension": "nan",
                  "Blade_Width": "nan",
                  "Enclosure_Type": "nan",
                  "Engine_Horsepower": "nan",
                  "Hydraulics": "Standard",
                  "Pushblock": "nan",
                  "Ripper": "nan",
                  "Scarifier": "nan",
                  "Tip_Control": "nan",
                  "Tire_Size": "nan",
                  "Coupler": "None or Unspecified",
                  "Coupler_System": "nan",
                  "Grouser_Tracks": "nan",
                  "Hydraulics_Flow": "nan",
                  "Track_Type": "Steel",
                  "Undercarriage_Pad_Width": "None or Unspecified",
                  "Stick_Length": "None or Unspecified",
                  "Thumb": "None or Unspecified",
                  "Pattern_Changer": "None or Unspecified",
                  "Grouser_Type": "Double",
                  "Backhoe_Mounting": "nan",
                  "Blade_Type": "nan",
                  "Travel_Controls": "nan",
                  "Differential_Type": "nan",
                  "Steering_Controls": "nan",
                  "SalePricelog": 9.159047077588632,
                  "_deepnote_index_column": 401118
                },
                {
                  "MachineID": 1798293,
                  "ModelID": 21435,
                  "datasource": 149,
                  "auctioneerID": 2,
                  "YearMade": 2005,
                  "MachineHoursCurrentMeter": "nan",
                  "UsageBand": "nan",
                  "saledate": "10/25/2011 0:00",
                  "fiModelDesc": "30NX",
                  "fiBaseModel": "30",
                  "fiSecondaryDesc": "NX",
                  "fiModelSeries": "nan",
                  "fiModelDescriptor": "nan",
                  "ProductSize": "Mini",
                  "fiProductClassDesc": "Hydraulic Excavator, Track - 2.0 to 3.0 Metric Tons",
                  "state": "Florida",
                  "ProductGroup": "TEX",
                  "ProductGroupDesc": "Track Excavators",
                  "Drive_System": "nan",
                  "Enclosure": "EROPS",
                  "Forks": "nan",
                  "Pad_Type": "nan",
                  "Ride_Control": "nan",
                  "Stick": "nan",
                  "Transmission": "nan",
                  "Turbocharged": "nan",
                  "Blade_Extension": "nan",
                  "Blade_Width": "nan",
                  "Enclosure_Type": "nan",
                  "Engine_Horsepower": "nan",
                  "Hydraulics": "Standard",
                  "Pushblock": "nan",
                  "Ripper": "nan",
                  "Scarifier": "nan",
                  "Tip_Control": "nan",
                  "Tire_Size": "nan",
                  "Coupler": "None or Unspecified",
                  "Coupler_System": "nan",
                  "Grouser_Tracks": "nan",
                  "Hydraulics_Flow": "nan",
                  "Track_Type": "Steel",
                  "Undercarriage_Pad_Width": "None or Unspecified",
                  "Stick_Length": "None or Unspecified",
                  "Thumb": "None or Unspecified",
                  "Pattern_Changer": "None or Unspecified",
                  "Grouser_Type": "Double",
                  "Backhoe_Mounting": "nan",
                  "Blade_Type": "nan",
                  "Travel_Controls": "nan",
                  "Differential_Type": "nan",
                  "Steering_Controls": "nan",
                  "SalePricelog": 9.047821442478408,
                  "_deepnote_index_column": 401119
                },
                {
                  "MachineID": 1840702,
                  "ModelID": 21439,
                  "datasource": 149,
                  "auctioneerID": 1,
                  "YearMade": 2005,
                  "MachineHoursCurrentMeter": "nan",
                  "UsageBand": "nan",
                  "saledate": "11/2/2011 0:00",
                  "fiModelDesc": "35NX2",
                  "fiBaseModel": "35",
                  "fiSecondaryDesc": "NX",
                  "fiModelSeries": "2",
                  "fiModelDescriptor": "nan",
                  "ProductSize": "Mini",
                  "fiProductClassDesc": "Hydraulic Excavator, Track - 3.0 to 4.0 Metric Tons",
                  "state": "Maryland",
                  "ProductGroup": "TEX",
                  "ProductGroupDesc": "Track Excavators",
                  "Drive_System": "nan",
                  "Enclosure": "EROPS",
                  "Forks": "nan",
                  "Pad_Type": "nan",
                  "Ride_Control": "nan",
                  "Stick": "nan",
                  "Transmission": "nan",
                  "Turbocharged": "nan",
                  "Blade_Extension": "nan",
                  "Blade_Width": "nan",
                  "Enclosure_Type": "nan",
                  "Engine_Horsepower": "nan",
                  "Hydraulics": "Auxiliary",
                  "Pushblock": "nan",
                  "Ripper": "nan",
                  "Scarifier": "nan",
                  "Tip_Control": "nan",
                  "Tire_Size": "nan",
                  "Coupler": "None or Unspecified",
                  "Coupler_System": "nan",
                  "Grouser_Tracks": "nan",
                  "Hydraulics_Flow": "nan",
                  "Track_Type": "Steel",
                  "Undercarriage_Pad_Width": "None or Unspecified",
                  "Stick_Length": "None or Unspecified",
                  "Thumb": "None or Unspecified",
                  "Pattern_Changer": "None or Unspecified",
                  "Grouser_Type": "Double",
                  "Backhoe_Mounting": "nan",
                  "Blade_Type": "nan",
                  "Travel_Controls": "nan",
                  "Differential_Type": "nan",
                  "Steering_Controls": "nan",
                  "SalePricelog": 9.259130536145614,
                  "_deepnote_index_column": 401120
                },
                {
                  "MachineID": 1830472,
                  "ModelID": 21439,
                  "datasource": 149,
                  "auctioneerID": 1,
                  "YearMade": 2005,
                  "MachineHoursCurrentMeter": "nan",
                  "UsageBand": "nan",
                  "saledate": "11/2/2011 0:00",
                  "fiModelDesc": "35NX2",
                  "fiBaseModel": "35",
                  "fiSecondaryDesc": "NX",
                  "fiModelSeries": "2",
                  "fiModelDescriptor": "nan",
                  "ProductSize": "Mini",
                  "fiProductClassDesc": "Hydraulic Excavator, Track - 3.0 to 4.0 Metric Tons",
                  "state": "Maryland",
                  "ProductGroup": "TEX",
                  "ProductGroupDesc": "Track Excavators",
                  "Drive_System": "nan",
                  "Enclosure": "EROPS",
                  "Forks": "nan",
                  "Pad_Type": "nan",
                  "Ride_Control": "nan",
                  "Stick": "nan",
                  "Transmission": "nan",
                  "Turbocharged": "nan",
                  "Blade_Extension": "nan",
                  "Blade_Width": "nan",
                  "Enclosure_Type": "nan",
                  "Engine_Horsepower": "nan",
                  "Hydraulics": "Standard",
                  "Pushblock": "nan",
                  "Ripper": "nan",
                  "Scarifier": "nan",
                  "Tip_Control": "nan",
                  "Tire_Size": "nan",
                  "Coupler": "None or Unspecified",
                  "Coupler_System": "nan",
                  "Grouser_Tracks": "nan",
                  "Hydraulics_Flow": "nan",
                  "Track_Type": "Steel",
                  "Undercarriage_Pad_Width": "None or Unspecified",
                  "Stick_Length": "None or Unspecified",
                  "Thumb": "None or Unspecified",
                  "Pattern_Changer": "None or Unspecified",
                  "Grouser_Type": "Double",
                  "Backhoe_Mounting": "nan",
                  "Blade_Type": "nan",
                  "Travel_Controls": "nan",
                  "Differential_Type": "nan",
                  "Steering_Controls": "nan",
                  "SalePricelog": 9.305650551780507,
                  "_deepnote_index_column": 401121
                },
                {
                  "MachineID": 1887659,
                  "ModelID": 21439,
                  "datasource": 149,
                  "auctioneerID": 1,
                  "YearMade": 2005,
                  "MachineHoursCurrentMeter": "nan",
                  "UsageBand": "nan",
                  "saledate": "11/2/2011 0:00",
                  "fiModelDesc": "35NX2",
                  "fiBaseModel": "35",
                  "fiSecondaryDesc": "NX",
                  "fiModelSeries": "2",
                  "fiModelDescriptor": "nan",
                  "ProductSize": "Mini",
                  "fiProductClassDesc": "Hydraulic Excavator, Track - 3.0 to 4.0 Metric Tons",
                  "state": "Maryland",
                  "ProductGroup": "TEX",
                  "ProductGroupDesc": "Track Excavators",
                  "Drive_System": "nan",
                  "Enclosure": "EROPS",
                  "Forks": "nan",
                  "Pad_Type": "nan",
                  "Ride_Control": "nan",
                  "Stick": "nan",
                  "Transmission": "nan",
                  "Turbocharged": "nan",
                  "Blade_Extension": "nan",
                  "Blade_Width": "nan",
                  "Enclosure_Type": "nan",
                  "Engine_Horsepower": "nan",
                  "Hydraulics": "Auxiliary",
                  "Pushblock": "nan",
                  "Ripper": "nan",
                  "Scarifier": "nan",
                  "Tip_Control": "nan",
                  "Tire_Size": "nan",
                  "Coupler": "None or Unspecified",
                  "Coupler_System": "nan",
                  "Grouser_Tracks": "nan",
                  "Hydraulics_Flow": "nan",
                  "Track_Type": "Steel",
                  "Undercarriage_Pad_Width": "None or Unspecified",
                  "Stick_Length": "None or Unspecified",
                  "Thumb": "None or Unspecified",
                  "Pattern_Changer": "None or Unspecified",
                  "Grouser_Type": "Double",
                  "Backhoe_Mounting": "nan",
                  "Blade_Type": "nan",
                  "Travel_Controls": "nan",
                  "Differential_Type": "nan",
                  "Steering_Controls": "nan",
                  "SalePricelog": 9.350102314351341,
                  "_deepnote_index_column": 401122
                },
                {
                  "MachineID": 1903570,
                  "ModelID": 21435,
                  "datasource": 149,
                  "auctioneerID": 2,
                  "YearMade": 2005,
                  "MachineHoursCurrentMeter": "nan",
                  "UsageBand": "nan",
                  "saledate": "10/25/2011 0:00",
                  "fiModelDesc": "30NX",
                  "fiBaseModel": "30",
                  "fiSecondaryDesc": "NX",
                  "fiModelSeries": "nan",
                  "fiModelDescriptor": "nan",
                  "ProductSize": "Mini",
                  "fiProductClassDesc": "Hydraulic Excavator, Track - 2.0 to 3.0 Metric Tons",
                  "state": "Florida",
                  "ProductGroup": "TEX",
                  "ProductGroupDesc": "Track Excavators",
                  "Drive_System": "nan",
                  "Enclosure": "EROPS",
                  "Forks": "nan",
                  "Pad_Type": "nan",
                  "Ride_Control": "nan",
                  "Stick": "nan",
                  "Transmission": "nan",
                  "Turbocharged": "nan",
                  "Blade_Extension": "nan",
                  "Blade_Width": "nan",
                  "Enclosure_Type": "nan",
                  "Engine_Horsepower": "nan",
                  "Hydraulics": "Standard",
                  "Pushblock": "nan",
                  "Ripper": "nan",
                  "Scarifier": "nan",
                  "Tip_Control": "nan",
                  "Tire_Size": "nan",
                  "Coupler": "None or Unspecified",
                  "Coupler_System": "nan",
                  "Grouser_Tracks": "nan",
                  "Hydraulics_Flow": "nan",
                  "Track_Type": "Steel",
                  "Undercarriage_Pad_Width": "None or Unspecified",
                  "Stick_Length": "None or Unspecified",
                  "Thumb": "None or Unspecified",
                  "Pattern_Changer": "None or Unspecified",
                  "Grouser_Type": "Double",
                  "Backhoe_Mounting": "nan",
                  "Blade_Type": "nan",
                  "Travel_Controls": "nan",
                  "Differential_Type": "nan",
                  "Steering_Controls": "nan",
                  "SalePricelog": 9.104979856318357,
                  "_deepnote_index_column": 401123
                },
                {
                  "MachineID": 1926965,
                  "ModelID": 21435,
                  "datasource": 149,
                  "auctioneerID": 2,
                  "YearMade": 2005,
                  "MachineHoursCurrentMeter": "nan",
                  "UsageBand": "nan",
                  "saledate": "10/25/2011 0:00",
                  "fiModelDesc": "30NX",
                  "fiBaseModel": "30",
                  "fiSecondaryDesc": "NX",
                  "fiModelSeries": "nan",
                  "fiModelDescriptor": "nan",
                  "ProductSize": "Mini",
                  "fiProductClassDesc": "Hydraulic Excavator, Track - 2.0 to 3.0 Metric Tons",
                  "state": "Florida",
                  "ProductGroup": "TEX",
                  "ProductGroupDesc": "Track Excavators",
                  "Drive_System": "nan",
                  "Enclosure": "EROPS",
                  "Forks": "nan",
                  "Pad_Type": "nan",
                  "Ride_Control": "nan",
                  "Stick": "nan",
                  "Transmission": "nan",
                  "Turbocharged": "nan",
                  "Blade_Extension": "nan",
                  "Blade_Width": "nan",
                  "Enclosure_Type": "nan",
                  "Engine_Horsepower": "nan",
                  "Hydraulics": "Standard",
                  "Pushblock": "nan",
                  "Ripper": "nan",
                  "Scarifier": "nan",
                  "Tip_Control": "nan",
                  "Tire_Size": "nan",
                  "Coupler": "None or Unspecified",
                  "Coupler_System": "nan",
                  "Grouser_Tracks": "nan",
                  "Hydraulics_Flow": "nan",
                  "Track_Type": "Steel",
                  "Undercarriage_Pad_Width": "None or Unspecified",
                  "Stick_Length": "None or Unspecified",
                  "Thumb": "None or Unspecified",
                  "Pattern_Changer": "None or Unspecified",
                  "Grouser_Type": "Double",
                  "Backhoe_Mounting": "nan",
                  "Blade_Type": "nan",
                  "Travel_Controls": "nan",
                  "Differential_Type": "nan",
                  "Steering_Controls": "nan",
                  "SalePricelog": 8.955448122347393,
                  "_deepnote_index_column": 401124
                }
              ]
            },
            "text/plain": "        MachineID  ModelID  datasource  auctioneerID  YearMade  \\\n0          999089     3157         121           3.0      2004   \n1          117657       77         121           3.0      1996   \n2          434808     7009         121           3.0      2001   \n3         1026470      332         121           3.0      2001   \n4         1057373    17311         121           3.0      2007   \n...           ...      ...         ...           ...       ...   \n401120    1840702    21439         149           1.0      2005   \n401121    1830472    21439         149           1.0      2005   \n401122    1887659    21439         149           1.0      2005   \n401123    1903570    21435         149           2.0      2005   \n401124    1926965    21435         149           2.0      2005   \n\n        MachineHoursCurrentMeter UsageBand         saledate fiModelDesc  \\\n0                           68.0       Low  11/16/2006 0:00        521D   \n1                         4640.0       Low   3/26/2004 0:00      950FII   \n2                         2838.0      High   2/26/2004 0:00         226   \n3                         3486.0      High   5/19/2011 0:00    PC120-6E   \n4                          722.0    Medium   7/23/2009 0:00        S175   \n...                          ...       ...              ...         ...   \n401120                       NaN       NaN   11/2/2011 0:00       35NX2   \n401121                       NaN       NaN   11/2/2011 0:00       35NX2   \n401122                       NaN       NaN   11/2/2011 0:00       35NX2   \n401123                       NaN       NaN  10/25/2011 0:00        30NX   \n401124                       NaN       NaN  10/25/2011 0:00        30NX   \n\n       fiBaseModel  ...         Stick_Length                Thumb  \\\n0              521  ...                  NaN                  NaN   \n1              950  ...                  NaN                  NaN   \n2              226  ...                  NaN                  NaN   \n3            PC120  ...                  NaN                  NaN   \n4             S175  ...                  NaN                  NaN   \n...            ...  ...                  ...                  ...   \n401120          35  ...  None or Unspecified  None or Unspecified   \n401121          35  ...  None or Unspecified  None or Unspecified   \n401122          35  ...  None or Unspecified  None or Unspecified   \n401123          30  ...  None or Unspecified  None or Unspecified   \n401124          30  ...  None or Unspecified  None or Unspecified   \n\n            Pattern_Changer Grouser_Type Backhoe_Mounting Blade_Type  \\\n0                       NaN          NaN              NaN        NaN   \n1                       NaN          NaN              NaN        NaN   \n2                       NaN          NaN              NaN        NaN   \n3                       NaN          NaN              NaN        NaN   \n4                       NaN          NaN              NaN        NaN   \n...                     ...          ...              ...        ...   \n401120  None or Unspecified       Double              NaN        NaN   \n401121  None or Unspecified       Double              NaN        NaN   \n401122  None or Unspecified       Double              NaN        NaN   \n401123  None or Unspecified       Double              NaN        NaN   \n401124  None or Unspecified       Double              NaN        NaN   \n\n       Travel_Controls Differential_Type Steering_Controls SalePricelog  \n0                  NaN          Standard      Conventional    11.097410  \n1                  NaN          Standard      Conventional    10.950807  \n2                  NaN               NaN               NaN     9.210340  \n3                  NaN               NaN               NaN    10.558414  \n4                  NaN               NaN               NaN     9.305651  \n...                ...               ...               ...          ...  \n401120             NaN               NaN               NaN     9.259131  \n401121             NaN               NaN               NaN     9.305651  \n401122             NaN               NaN               NaN     9.350102  \n401123             NaN               NaN               NaN     9.104980  \n401124             NaN               NaN               NaN     8.955448  \n\n[401125 rows x 52 columns]",
            "text/html": "<div>\n<style scoped>\n    .dataframe tbody tr th:only-of-type {\n        vertical-align: middle;\n    }\n\n    .dataframe tbody tr th {\n        vertical-align: top;\n    }\n\n    .dataframe thead th {\n        text-align: right;\n    }\n</style>\n<table border=\"1\" class=\"dataframe\">\n  <thead>\n    <tr style=\"text-align: right;\">\n      <th></th>\n      <th>MachineID</th>\n      <th>ModelID</th>\n      <th>datasource</th>\n      <th>auctioneerID</th>\n      <th>YearMade</th>\n      <th>MachineHoursCurrentMeter</th>\n      <th>UsageBand</th>\n      <th>saledate</th>\n      <th>fiModelDesc</th>\n      <th>fiBaseModel</th>\n      <th>...</th>\n      <th>Stick_Length</th>\n      <th>Thumb</th>\n      <th>Pattern_Changer</th>\n      <th>Grouser_Type</th>\n      <th>Backhoe_Mounting</th>\n      <th>Blade_Type</th>\n      <th>Travel_Controls</th>\n      <th>Differential_Type</th>\n      <th>Steering_Controls</th>\n      <th>SalePricelog</th>\n    </tr>\n  </thead>\n  <tbody>\n    <tr>\n      <th>0</th>\n      <td>999089</td>\n      <td>3157</td>\n      <td>121</td>\n      <td>3.0</td>\n      <td>2004</td>\n      <td>68.0</td>\n      <td>Low</td>\n      <td>11/16/2006 0:00</td>\n      <td>521D</td>\n      <td>521</td>\n      <td>...</td>\n      <td>NaN</td>\n      <td>NaN</td>\n      <td>NaN</td>\n      <td>NaN</td>\n      <td>NaN</td>\n      <td>NaN</td>\n      <td>NaN</td>\n      <td>Standard</td>\n      <td>Conventional</td>\n      <td>11.097410</td>\n    </tr>\n    <tr>\n      <th>1</th>\n      <td>117657</td>\n      <td>77</td>\n      <td>121</td>\n      <td>3.0</td>\n      <td>1996</td>\n      <td>4640.0</td>\n      <td>Low</td>\n      <td>3/26/2004 0:00</td>\n      <td>950FII</td>\n      <td>950</td>\n      <td>...</td>\n      <td>NaN</td>\n      <td>NaN</td>\n      <td>NaN</td>\n      <td>NaN</td>\n      <td>NaN</td>\n      <td>NaN</td>\n      <td>NaN</td>\n      <td>Standard</td>\n      <td>Conventional</td>\n      <td>10.950807</td>\n    </tr>\n    <tr>\n      <th>2</th>\n      <td>434808</td>\n      <td>7009</td>\n      <td>121</td>\n      <td>3.0</td>\n      <td>2001</td>\n      <td>2838.0</td>\n      <td>High</td>\n      <td>2/26/2004 0:00</td>\n      <td>226</td>\n      <td>226</td>\n      <td>...</td>\n      <td>NaN</td>\n      <td>NaN</td>\n      <td>NaN</td>\n      <td>NaN</td>\n      <td>NaN</td>\n      <td>NaN</td>\n      <td>NaN</td>\n      <td>NaN</td>\n      <td>NaN</td>\n      <td>9.210340</td>\n    </tr>\n    <tr>\n      <th>3</th>\n      <td>1026470</td>\n      <td>332</td>\n      <td>121</td>\n      <td>3.0</td>\n      <td>2001</td>\n      <td>3486.0</td>\n      <td>High</td>\n      <td>5/19/2011 0:00</td>\n      <td>PC120-6E</td>\n      <td>PC120</td>\n      <td>...</td>\n      <td>NaN</td>\n      <td>NaN</td>\n      <td>NaN</td>\n      <td>NaN</td>\n      <td>NaN</td>\n      <td>NaN</td>\n      <td>NaN</td>\n      <td>NaN</td>\n      <td>NaN</td>\n      <td>10.558414</td>\n    </tr>\n    <tr>\n      <th>4</th>\n      <td>1057373</td>\n      <td>17311</td>\n      <td>121</td>\n      <td>3.0</td>\n      <td>2007</td>\n      <td>722.0</td>\n      <td>Medium</td>\n      <td>7/23/2009 0:00</td>\n      <td>S175</td>\n      <td>S175</td>\n      <td>...</td>\n      <td>NaN</td>\n      <td>NaN</td>\n      <td>NaN</td>\n      <td>NaN</td>\n      <td>NaN</td>\n      <td>NaN</td>\n      <td>NaN</td>\n      <td>NaN</td>\n      <td>NaN</td>\n      <td>9.305651</td>\n    </tr>\n    <tr>\n      <th>...</th>\n      <td>...</td>\n      <td>...</td>\n      <td>...</td>\n      <td>...</td>\n      <td>...</td>\n      <td>...</td>\n      <td>...</td>\n      <td>...</td>\n      <td>...</td>\n      <td>...</td>\n      <td>...</td>\n      <td>...</td>\n      <td>...</td>\n      <td>...</td>\n      <td>...</td>\n      <td>...</td>\n      <td>...</td>\n      <td>...</td>\n      <td>...</td>\n      <td>...</td>\n      <td>...</td>\n    </tr>\n    <tr>\n      <th>401120</th>\n      <td>1840702</td>\n      <td>21439</td>\n      <td>149</td>\n      <td>1.0</td>\n      <td>2005</td>\n      <td>NaN</td>\n      <td>NaN</td>\n      <td>11/2/2011 0:00</td>\n      <td>35NX2</td>\n      <td>35</td>\n      <td>...</td>\n      <td>None or Unspecified</td>\n      <td>None or Unspecified</td>\n      <td>None or Unspecified</td>\n      <td>Double</td>\n      <td>NaN</td>\n      <td>NaN</td>\n      <td>NaN</td>\n      <td>NaN</td>\n      <td>NaN</td>\n      <td>9.259131</td>\n    </tr>\n    <tr>\n      <th>401121</th>\n      <td>1830472</td>\n      <td>21439</td>\n      <td>149</td>\n      <td>1.0</td>\n      <td>2005</td>\n      <td>NaN</td>\n      <td>NaN</td>\n      <td>11/2/2011 0:00</td>\n      <td>35NX2</td>\n      <td>35</td>\n      <td>...</td>\n      <td>None or Unspecified</td>\n      <td>None or Unspecified</td>\n      <td>None or Unspecified</td>\n      <td>Double</td>\n      <td>NaN</td>\n      <td>NaN</td>\n      <td>NaN</td>\n      <td>NaN</td>\n      <td>NaN</td>\n      <td>9.305651</td>\n    </tr>\n    <tr>\n      <th>401122</th>\n      <td>1887659</td>\n      <td>21439</td>\n      <td>149</td>\n      <td>1.0</td>\n      <td>2005</td>\n      <td>NaN</td>\n      <td>NaN</td>\n      <td>11/2/2011 0:00</td>\n      <td>35NX2</td>\n      <td>35</td>\n      <td>...</td>\n      <td>None or Unspecified</td>\n      <td>None or Unspecified</td>\n      <td>None or Unspecified</td>\n      <td>Double</td>\n      <td>NaN</td>\n      <td>NaN</td>\n      <td>NaN</td>\n      <td>NaN</td>\n      <td>NaN</td>\n      <td>9.350102</td>\n    </tr>\n    <tr>\n      <th>401123</th>\n      <td>1903570</td>\n      <td>21435</td>\n      <td>149</td>\n      <td>2.0</td>\n      <td>2005</td>\n      <td>NaN</td>\n      <td>NaN</td>\n      <td>10/25/2011 0:00</td>\n      <td>30NX</td>\n      <td>30</td>\n      <td>...</td>\n      <td>None or Unspecified</td>\n      <td>None or Unspecified</td>\n      <td>None or Unspecified</td>\n      <td>Double</td>\n      <td>NaN</td>\n      <td>NaN</td>\n      <td>NaN</td>\n      <td>NaN</td>\n      <td>NaN</td>\n      <td>9.104980</td>\n    </tr>\n    <tr>\n      <th>401124</th>\n      <td>1926965</td>\n      <td>21435</td>\n      <td>149</td>\n      <td>2.0</td>\n      <td>2005</td>\n      <td>NaN</td>\n      <td>NaN</td>\n      <td>10/25/2011 0:00</td>\n      <td>30NX</td>\n      <td>30</td>\n      <td>...</td>\n      <td>None or Unspecified</td>\n      <td>None or Unspecified</td>\n      <td>None or Unspecified</td>\n      <td>Double</td>\n      <td>NaN</td>\n      <td>NaN</td>\n      <td>NaN</td>\n      <td>NaN</td>\n      <td>NaN</td>\n      <td>8.955448</td>\n    </tr>\n  </tbody>\n</table>\n<p>401125 rows × 52 columns</p>\n</div>"
          },
          "metadata": {}
        }
      ]
    },
    {
      "cell_type": "code",
      "metadata": {
        "tags": [],
        "cell_id": "00033-a9c8a61e-926a-4fbb-b3e1-63f2756a91d5",
        "deepnote_to_be_reexecuted": false,
        "source_hash": "6916aa17",
        "execution_millis": 1,
        "execution_start": 1615589780850,
        "deepnote_cell_type": "code"
      },
      "source": "",
      "execution_count": null,
      "outputs": []
    },
    {
      "cell_type": "code",
      "metadata": {
        "tags": [],
        "cell_id": "00035-c878cad9-64b7-4248-9c2f-debb2c065b96",
        "deepnote_to_be_reexecuted": false,
        "source_hash": "b623e53d",
        "execution_millis": 1,
        "execution_start": 1615590778988,
        "deepnote_cell_type": "code"
      },
      "source": "",
      "execution_count": null,
      "outputs": []
    },
    {
      "cell_type": "code",
      "metadata": {
        "tags": [],
        "cell_id": "00037-8777c7c0-e7f5-412b-af42-e75bcf6f19f0",
        "deepnote_to_be_reexecuted": false,
        "source_hash": "b623e53d",
        "execution_millis": 2,
        "execution_start": 1615591474722,
        "deepnote_cell_type": "code"
      },
      "source": "",
      "execution_count": null,
      "outputs": []
    },
    {
      "cell_type": "code",
      "metadata": {
        "tags": [],
        "cell_id": "00040-507ca5a8-6490-4a48-9732-e2a52edc68ba",
        "deepnote_to_be_reexecuted": false,
        "source_hash": "2f37bcc8",
        "execution_start": 1615592827175,
        "execution_millis": 10,
        "deepnote_cell_type": "code"
      },
      "source": "GridSearchCV(cv=5, error_score='raise-deprecating',\n       estimator=GradientBoostingRegressor(alpha=0.9, criterion='friedman_mse', init=None,\n             learning_rate=0.1, loss='ls', max_depth=3, max_features=None,\n             max_leaf_nodes=None, min_impurity_decrease=0.0,\n             min_impurity_split=None, min_samples_leaf=1,\n             min_sampl...ate=0, subsample=1.0, tol=0.0001,\n             validation_fraction=0.1, verbose=0, warm_start=False),\n       fit_params=None, iid='warn', n_jobs=None,\n       param_grid=[{'learning_rate': [0.1, 0.01, 0.001], 'n_estimators': [50, 100, 200, 400, 800, 1000], 'subsample': [1, 0.2, 0.1], 'criterion': ['friedman_mse', 'mse'], 'max_depth': [2, 3]}],\n       pre_dispatch='2*n_jobs', refit=False, return_train_score='warn',\n       scoring=['neg_mean_squared_error', 'r2'], verbose=0)",
      "execution_count": null,
      "outputs": [
        {
          "output_type": "error",
          "ename": "SyntaxError",
          "evalue": "invalid syntax (<ipython-input-142-837188ae6974>, line 6)",
          "traceback": [
            "\u001b[0;36m  File \u001b[0;32m\"<ipython-input-142-837188ae6974>\"\u001b[0;36m, line \u001b[0;32m6\u001b[0m\n\u001b[0;31m    min_sampl...ate=0, subsample=1.0, tol=0.0001,\u001b[0m\n\u001b[0m               ^\u001b[0m\n\u001b[0;31mSyntaxError\u001b[0m\u001b[0;31m:\u001b[0m invalid syntax\n"
          ]
        }
      ]
    },
    {
      "cell_type": "markdown",
      "source": "<a style='text-decoration:none;line-height:16px;display:flex;color:#5B5B62;padding:10px;justify-content:end;' href='https://deepnote.com?utm_source=created-in-deepnote-cell&projectId=340106a6-733b-40b1-8bca-c5c1e975668a' target=\"_blank\">\n<img style='display:inline;max-height:16px;margin:0px;margin-right:7.5px;' src='data:image/svg+xml;base64,PD94bWwgdmVyc2lvbj0iMS4wIiBlbmNvZGluZz0iVVRGLTgiPz4KPHN2ZyB3aWR0aD0iODBweCIgaGVpZ2h0PSI4MHB4IiB2aWV3Qm94PSIwIDAgODAgODAiIHZlcnNpb249IjEuMSIgeG1sbnM9Imh0dHA6Ly93d3cudzMub3JnLzIwMDAvc3ZnIiB4bWxuczp4bGluaz0iaHR0cDovL3d3dy53My5vcmcvMTk5OS94bGluayI+CiAgICA8IS0tIEdlbmVyYXRvcjogU2tldGNoIDU0LjEgKDc2NDkwKSAtIGh0dHBzOi8vc2tldGNoYXBwLmNvbSAtLT4KICAgIDx0aXRsZT5Hcm91cCAzPC90aXRsZT4KICAgIDxkZXNjPkNyZWF0ZWQgd2l0aCBTa2V0Y2guPC9kZXNjPgogICAgPGcgaWQ9IkxhbmRpbmciIHN0cm9rZT0ibm9uZSIgc3Ryb2tlLXdpZHRoPSIxIiBmaWxsPSJub25lIiBmaWxsLXJ1bGU9ImV2ZW5vZGQiPgogICAgICAgIDxnIGlkPSJBcnRib2FyZCIgdHJhbnNmb3JtPSJ0cmFuc2xhdGUoLTEyMzUuMDAwMDAwLCAtNzkuMDAwMDAwKSI+CiAgICAgICAgICAgIDxnIGlkPSJHcm91cC0zIiB0cmFuc2Zvcm09InRyYW5zbGF0ZSgxMjM1LjAwMDAwMCwgNzkuMDAwMDAwKSI+CiAgICAgICAgICAgICAgICA8cG9seWdvbiBpZD0iUGF0aC0yMCIgZmlsbD0iIzAyNjVCNCIgcG9pbnRzPSIyLjM3NjIzNzYyIDgwIDM4LjA0NzY2NjcgODAgNTcuODIxNzgyMiA3My44MDU3NTkyIDU3LjgyMTc4MjIgMzIuNzU5MjczOSAzOS4xNDAyMjc4IDMxLjY4MzE2ODMiPjwvcG9seWdvbj4KICAgICAgICAgICAgICAgIDxwYXRoIGQ9Ik0zNS4wMDc3MTgsODAgQzQyLjkwNjIwMDcsNzYuNDU0OTM1OCA0Ny41NjQ5MTY3LDcxLjU0MjI2NzEgNDguOTgzODY2LDY1LjI2MTk5MzkgQzUxLjExMjI4OTksNTUuODQxNTg0MiA0MS42NzcxNzk1LDQ5LjIxMjIyODQgMjUuNjIzOTg0Niw0OS4yMTIyMjg0IEMyNS40ODQ5Mjg5LDQ5LjEyNjg0NDggMjkuODI2MTI5Niw0My4yODM4MjQ4IDM4LjY0NzU4NjksMzEuNjgzMTY4MyBMNzIuODcxMjg3MSwzMi41NTQ0MjUgTDY1LjI4MDk3Myw2Ny42NzYzNDIxIEw1MS4xMTIyODk5LDc3LjM3NjE0NCBMMzUuMDA3NzE4LDgwIFoiIGlkPSJQYXRoLTIyIiBmaWxsPSIjMDAyODY4Ij48L3BhdGg+CiAgICAgICAgICAgICAgICA8cGF0aCBkPSJNMCwzNy43MzA0NDA1IEwyNy4xMTQ1MzcsMC4yNTcxMTE0MzYgQzYyLjM3MTUxMjMsLTEuOTkwNzE3MDEgODAsMTAuNTAwMzkyNyA4MCwzNy43MzA0NDA1IEM4MCw2NC45NjA0ODgyIDY0Ljc3NjUwMzgsNzkuMDUwMzQxNCAzNC4zMjk1MTEzLDgwIEM0Ny4wNTUzNDg5LDc3LjU2NzA4MDggNTMuNDE4MjY3Nyw3MC4zMTM2MTAzIDUzLjQxODI2NzcsNTguMjM5NTg4NSBDNTMuNDE4MjY3Nyw0MC4xMjg1NTU3IDM2LjMwMzk1NDQsMzcuNzMwNDQwNSAyNS4yMjc0MTcsMzcuNzMwNDQwNSBDMTcuODQzMDU4NiwzNy43MzA0NDA1IDkuNDMzOTE5NjYsMzcuNzMwNDQwNSAwLDM3LjczMDQ0MDUgWiIgaWQ9IlBhdGgtMTkiIGZpbGw9IiMzNzkzRUYiPjwvcGF0aD4KICAgICAgICAgICAgPC9nPgogICAgICAgIDwvZz4KICAgIDwvZz4KPC9zdmc+' > </img>\nCreated in <span style='font-weight:600;margin-left:4px;'>Deepnote</span></a>",
      "metadata": {
        "tags": [],
        "created_in_deepnote_cell": true,
        "deepnote_cell_type": "markdown"
      }
    }
  ],
  "nbformat": 4,
  "nbformat_minor": 2,
  "metadata": {
    "orig_nbformat": 2,
    "deepnote_notebook_id": "ff48132b-dfc4-4317-84f0-3f17fd15e327",
    "deepnote": {},
    "deepnote_execution_queue": []
  }
}